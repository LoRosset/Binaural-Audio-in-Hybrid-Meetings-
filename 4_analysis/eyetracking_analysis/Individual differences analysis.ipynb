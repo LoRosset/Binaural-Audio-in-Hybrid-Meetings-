{
 "cells": [
  {
   "cell_type": "code",
   "execution_count": 1,
   "metadata": {},
   "outputs": [],
   "source": [
    "import csv\n",
    "#numpy and panda for data structure\n",
    "import numpy as np\n",
    "import pandas as pd\n",
    "import matplotlib.pyplot as plt\n",
    "import pickle\n",
    "\n",
    "%matplotlib inline\n",
    "import cv2\n",
    "import time\n",
    "import itertools\n",
    "from tslearn.metrics import dtw_path_from_metric\n",
    "import seaborn as sns\n",
    "from mpl_toolkits import mplot3d\n",
    "import operator\n",
    "import math\n",
    "\n",
    "import warnings\n",
    "warnings.filterwarnings('ignore')"
   ]
  },
  {
   "cell_type": "markdown",
   "metadata": {},
   "source": [
    "In this notebook, all PIDs are matched. "
   ]
  },
  {
   "cell_type": "markdown",
   "metadata": {},
   "source": [
    "### Load survey data (PID ordered)"
   ]
  },
  {
   "cell_type": "code",
   "execution_count": 5,
   "metadata": {},
   "outputs": [],
   "source": [
    "survey_results = pd.read_csv(\"./results/cleaned_survey.csv\")"
   ]
  },
  {
   "cell_type": "code",
   "execution_count": 6,
   "metadata": {},
   "outputs": [
    {
     "data": {
      "text/html": [
       "<div>\n",
       "<style scoped>\n",
       "    .dataframe tbody tr th:only-of-type {\n",
       "        vertical-align: middle;\n",
       "    }\n",
       "\n",
       "    .dataframe tbody tr th {\n",
       "        vertical-align: top;\n",
       "    }\n",
       "\n",
       "    .dataframe thead th {\n",
       "        text-align: right;\n",
       "    }\n",
       "</style>\n",
       "<table border=\"1\" class=\"dataframe\">\n",
       "  <thead>\n",
       "    <tr style=\"text-align: right;\">\n",
       "      <th></th>\n",
       "      <th>PID</th>\n",
       "      <th>comment</th>\n",
       "      <th>mask</th>\n",
       "      <th>Sound</th>\n",
       "      <th>dialog_ID</th>\n",
       "      <th>ScoreMemTest</th>\n",
       "      <th>MemConfidence</th>\n",
       "      <th>ScoreCompTest</th>\n",
       "      <th>CompConfidence</th>\n",
       "      <th>PostSpeakerIdent</th>\n",
       "      <th>PostOverallComprehension</th>\n",
       "      <th>PostConcentration</th>\n",
       "      <th>PostPresence</th>\n",
       "      <th>PostAudioHelp</th>\n",
       "    </tr>\n",
       "  </thead>\n",
       "  <tbody>\n",
       "    <tr>\n",
       "      <th>0</th>\n",
       "      <td>7</td>\n",
       "      <td>- J'ai pas trop aimé que les intervenantes cha...</td>\n",
       "      <td>no</td>\n",
       "      <td>mono</td>\n",
       "      <td>2</td>\n",
       "      <td>4</td>\n",
       "      <td>4</td>\n",
       "      <td>3</td>\n",
       "      <td>5</td>\n",
       "      <td>3</td>\n",
       "      <td>4</td>\n",
       "      <td>2</td>\n",
       "      <td>2</td>\n",
       "      <td>4</td>\n",
       "    </tr>\n",
       "  </tbody>\n",
       "</table>\n",
       "</div>"
      ],
      "text/plain": [
       "   PID                                            comment mask Sound  \\\n",
       "0    7  - J'ai pas trop aimé que les intervenantes cha...   no  mono   \n",
       "\n",
       "   dialog_ID  ScoreMemTest  MemConfidence  ScoreCompTest  CompConfidence  \\\n",
       "0          2             4              4              3               5   \n",
       "\n",
       "   PostSpeakerIdent  PostOverallComprehension  PostConcentration  \\\n",
       "0                 3                         4                  2   \n",
       "\n",
       "   PostPresence  PostAudioHelp  \n",
       "0             2              4  "
      ]
     },
     "execution_count": 6,
     "metadata": {},
     "output_type": "execute_result"
    }
   ],
   "source": [
    "survey_results.head(1)"
   ]
  },
  {
   "cell_type": "markdown",
   "metadata": {},
   "source": [
    "### Load eye tracking related data (PID not ordered yet)"
   ]
  },
  {
   "cell_type": "code",
   "execution_count": 37,
   "metadata": {},
   "outputs": [],
   "source": [
    "# For eye tracking data PID sequence is as follows:\n",
    "PID_eyetracking = [0, 21, 22, 28, 35, 36, 23, 7, 1, 2, 37, 24, 38, 14, 15, 16, 39, 8,\n",
    "       17, 9, 10, 25, 40, 41, 18, 3, 4, 11, 12, 19, 29, 13, 20, 30, 26,\n",
    "       27, 5, 31, 32, 33, 6, 34]"
   ]
  },
  {
   "cell_type": "markdown",
   "metadata": {},
   "source": [
    "fixation"
   ]
  },
  {
   "cell_type": "code",
   "execution_count": 38,
   "metadata": {},
   "outputs": [],
   "source": [
    "nb_fixation = pd.read_csv(\"./results/fixations/nb_fixation.csv\")"
   ]
  },
  {
   "cell_type": "code",
   "execution_count": 39,
   "metadata": {},
   "outputs": [],
   "source": [
    "mean_fix_duration = pd.read_csv(\"./results/fixations/participant_mean_fix_duration_original_all.csv\")"
   ]
  },
  {
   "cell_type": "code",
   "execution_count": 40,
   "metadata": {},
   "outputs": [],
   "source": [
    "total_fix_duration = pd.read_csv(\"./results/fixations/total_fix_duration.csv\")"
   ]
  },
  {
   "cell_type": "code",
   "execution_count": 41,
   "metadata": {},
   "outputs": [],
   "source": [
    "fixation_points_per_participant_per_frame = pd.read_pickle(r'fixation_points_per_participant_per_frame.pkl')"
   ]
  },
  {
   "cell_type": "markdown",
   "metadata": {},
   "source": [
    "saccade"
   ]
  },
  {
   "cell_type": "code",
   "execution_count": 42,
   "metadata": {},
   "outputs": [],
   "source": [
    "mean_saccade_amplitude = pd.read_csv(\"./results/saccade/participant_mean_saccade_amplitude_original_all.csv\")"
   ]
  },
  {
   "cell_type": "markdown",
   "metadata": {},
   "source": [
    "scanpath"
   ]
  },
  {
   "cell_type": "code",
   "execution_count": 43,
   "metadata": {},
   "outputs": [],
   "source": [
    "# participant scanpath in fixation domain\n",
    "long_scanpaths = pd.read_csv(\"./results/scanpaths/long_scanpaths.csv\")"
   ]
  },
  {
   "cell_type": "code",
   "execution_count": 44,
   "metadata": {},
   "outputs": [
    {
     "data": {
      "text/html": [
       "<div>\n",
       "<style scoped>\n",
       "    .dataframe tbody tr th:only-of-type {\n",
       "        vertical-align: middle;\n",
       "    }\n",
       "\n",
       "    .dataframe tbody tr th {\n",
       "        vertical-align: top;\n",
       "    }\n",
       "\n",
       "    .dataframe thead th {\n",
       "        text-align: right;\n",
       "    }\n",
       "</style>\n",
       "<table border=\"1\" class=\"dataframe\">\n",
       "  <thead>\n",
       "    <tr style=\"text-align: right;\">\n",
       "      <th></th>\n",
       "      <th>dialog1_normal_mask</th>\n",
       "      <th>dialog2_head_mask</th>\n",
       "      <th>dialog3_spatial</th>\n",
       "      <th>dialog4_head</th>\n",
       "      <th>dialog5_spatial_mask</th>\n",
       "      <th>dialog6_normal</th>\n",
       "    </tr>\n",
       "  </thead>\n",
       "  <tbody>\n",
       "    <tr>\n",
       "      <th>0</th>\n",
       "      <td>eFeReeeLLLLLLeLLFLLeeRRFLLLFFFFLLLeeeeFeeeFeLL...</td>\n",
       "      <td>FFLReLLeeLeeeFeFeFLLFFLLLLLLLeRFFFFFFFFeeReeRR...</td>\n",
       "      <td>FFFFLeeeeeeeLeFFFFFFLLLLLLLLLLRFFRRReRReFFFFFF...</td>\n",
       "      <td>FFRRRLFRReReeeRLLLLeeeeeFFeeFFFFFFRRRRRRRRRRRR...</td>\n",
       "      <td>FeFRRRLLFFRReRFFReRRRRRReeRFFFFRRRLFFFFFFFFFFL...</td>\n",
       "      <td>FeRFLFFFeeeeFeeFFFFeeLeeeeeeeeeeeReeLeeLFFeeFF...</td>\n",
       "    </tr>\n",
       "    <tr>\n",
       "      <th>1</th>\n",
       "      <td>FFFLLLLFLRRLLLLLLLLLLLLLLLeeeeLLLLLLLLLLLLLLee...</td>\n",
       "      <td>FeeeeeeeeeeeeeeeeeeeeLeeeeeeeeeeeeeeeeeeeeeeee...</td>\n",
       "      <td>eFLLLeeFFFFFFFFFFFFFFFFFFFFFeeFeeeeLLLLeLeeeee...</td>\n",
       "      <td>FRRRRReeLeeReReeeeRFReeeeeeeReeRLLLLLLeeLLLeFF...</td>\n",
       "      <td>eFFRRRRLFRRRRRRRRRRRRReeeeeeeReeeeeReeeeRRRRRR...</td>\n",
       "      <td>FeRFeFeeeeeeeeeeeFFeeeeFFFeeFFRReeeeeFeLLLLLLL...</td>\n",
       "    </tr>\n",
       "    <tr>\n",
       "      <th>2</th>\n",
       "      <td>eeeeRRRRRLLeLeLLLLLLLeLLLeeeLeRRLLLLLeLeeeeFee...</td>\n",
       "      <td>FFLLLFFFFRLLLLLLLLRRFFLLLLLLeeeLeeeFRRReRRRRRe...</td>\n",
       "      <td>eFFFFFFFeLLRReeeRReFFFLeLeeeeeeeeeFLLLLLLLLLLL...</td>\n",
       "      <td>eFFFeLeLLLFFFReeeeeeeeeeeRRRReeReLLLLLLLLLeFFF...</td>\n",
       "      <td>FLeRReeRRReReRReeeReeeeRRRRRRReRRRReRRRFFFFeFe...</td>\n",
       "      <td>eeFFFReFFFeFeeeeeeeRReeeFFFLLeFFFeReFeeFFeLeRR...</td>\n",
       "    </tr>\n",
       "    <tr>\n",
       "      <th>3</th>\n",
       "      <td>LeLeLLLFRLLLeeeeeeLLLLLLLLLeeeLeeeeLLLLeeLFFFF...</td>\n",
       "      <td>eFFRFFFFRRLLLLLFRLLeFLLLLLFeeLLLLLLFeRRRRRRRRR...</td>\n",
       "      <td>FFFeeeReeeeeeFFFeReeeLeeLeLLLReeeRRRReRReeeeLe...</td>\n",
       "      <td>RRRLLLeFReeeReFRRFFeLRRRReLLLRRFRLLFeFFFFFFeFF...</td>\n",
       "      <td>RRFFRRRReeeeRReeeRRReeeRRRReFFeFeeeFFFFRFeeFFL...</td>\n",
       "      <td>FFFFFFeFLeFeeeFFFFeeeeeeeeFReeReReeReeeeeeeeeR...</td>\n",
       "    </tr>\n",
       "    <tr>\n",
       "      <th>4</th>\n",
       "      <td>eeRRLeReeeeeLLeLLLLLLFRRRLLLLLLLeeeeReFeFFFeee...</td>\n",
       "      <td>FFFFFRFeRFRRFFLFFFLLRFRFFLeFFRFRReeeeeLLeeFeFe...</td>\n",
       "      <td>eeeeeeLRReeeeeLReeeFRLeeeeeeeFeFLLLLeRRReRReeR...</td>\n",
       "      <td>eeeLeeeeeeeLeeeeeeeeeeLeLeeeeeeLeeeeeeLeeLRLeL...</td>\n",
       "      <td>FFFLLRRRRRReRRReeeeeeeeRRRRRReeReFeFeFeFeeeeee...</td>\n",
       "      <td>eeeLeeeFeFeeFFFeFeeeeeeeeFeReFeRLFRRRRRRRFRRRR...</td>\n",
       "    </tr>\n",
       "  </tbody>\n",
       "</table>\n",
       "</div>"
      ],
      "text/plain": [
       "                                 dialog1_normal_mask  \\\n",
       "0  eFeReeeLLLLLLeLLFLLeeRRFLLLFFFFLLLeeeeFeeeFeLL...   \n",
       "1  FFFLLLLFLRRLLLLLLLLLLLLLLLeeeeLLLLLLLLLLLLLLee...   \n",
       "2  eeeeRRRRRLLeLeLLLLLLLeLLLeeeLeRRLLLLLeLeeeeFee...   \n",
       "3  LeLeLLLFRLLLeeeeeeLLLLLLLLLeeeLeeeeLLLLeeLFFFF...   \n",
       "4  eeRRLeReeeeeLLeLLLLLLFRRRLLLLLLLeeeeReFeFFFeee...   \n",
       "\n",
       "                                   dialog2_head_mask  \\\n",
       "0  FFLReLLeeLeeeFeFeFLLFFLLLLLLLeRFFFFFFFFeeReeRR...   \n",
       "1  FeeeeeeeeeeeeeeeeeeeeLeeeeeeeeeeeeeeeeeeeeeeee...   \n",
       "2  FFLLLFFFFRLLLLLLLLRRFFLLLLLLeeeLeeeFRRReRRRRRe...   \n",
       "3  eFFRFFFFRRLLLLLFRLLeFLLLLLFeeLLLLLLFeRRRRRRRRR...   \n",
       "4  FFFFFRFeRFRRFFLFFFLLRFRFFLeFFRFRReeeeeLLeeFeFe...   \n",
       "\n",
       "                                     dialog3_spatial  \\\n",
       "0  FFFFLeeeeeeeLeFFFFFFLLLLLLLLLLRFFRRReRReFFFFFF...   \n",
       "1  eFLLLeeFFFFFFFFFFFFFFFFFFFFFeeFeeeeLLLLeLeeeee...   \n",
       "2  eFFFFFFFeLLRReeeRReFFFLeLeeeeeeeeeFLLLLLLLLLLL...   \n",
       "3  FFFeeeReeeeeeFFFeReeeLeeLeLLLReeeRRRReRReeeeLe...   \n",
       "4  eeeeeeLRReeeeeLReeeFRLeeeeeeeFeFLLLLeRRReRReeR...   \n",
       "\n",
       "                                        dialog4_head  \\\n",
       "0  FFRRRLFRReReeeRLLLLeeeeeFFeeFFFFFFRRRRRRRRRRRR...   \n",
       "1  FRRRRReeLeeReReeeeRFReeeeeeeReeRLLLLLLeeLLLeFF...   \n",
       "2  eFFFeLeLLLFFFReeeeeeeeeeeRRRReeReLLLLLLLLLeFFF...   \n",
       "3  RRRLLLeFReeeReFRRFFeLRRRReLLLRRFRLLFeFFFFFFeFF...   \n",
       "4  eeeLeeeeeeeLeeeeeeeeeeLeLeeeeeeLeeeeeeLeeLRLeL...   \n",
       "\n",
       "                                dialog5_spatial_mask  \\\n",
       "0  FeFRRRLLFFRReRFFReRRRRRReeRFFFFRRRLFFFFFFFFFFL...   \n",
       "1  eFFRRRRLFRRRRRRRRRRRRReeeeeeeReeeeeReeeeRRRRRR...   \n",
       "2  FLeRReeRRReReRReeeReeeeRRRRRRReRRRReRRRFFFFeFe...   \n",
       "3  RRFFRRRReeeeRReeeRRReeeRRRReFFeFeeeFFFFRFeeFFL...   \n",
       "4  FFFLLRRRRRReRRReeeeeeeeRRRRRReeReFeFeFeFeeeeee...   \n",
       "\n",
       "                                      dialog6_normal  \n",
       "0  FeRFLFFFeeeeFeeFFFFeeLeeeeeeeeeeeReeLeeLFFeeFF...  \n",
       "1  FeRFeFeeeeeeeeeeeFFeeeeFFFeeFFRReeeeeFeLLLLLLL...  \n",
       "2  eeFFFReFFFeFeeeeeeeRReeeFFFLLeFFFeReFeeFFeLeRR...  \n",
       "3  FFFFFFeFLeFeeeFFFFeeeeeeeeFReeReReeReeeeeeeeeR...  \n",
       "4  eeeLeeeFeFeeFFFeFeeeeeeeeFeReFeRLFRRRRRRRFRRRR...  "
      ]
     },
     "execution_count": 44,
     "metadata": {},
     "output_type": "execute_result"
    }
   ],
   "source": [
    "long_scanpaths.head()"
   ]
  },
  {
   "cell_type": "code",
   "execution_count": 45,
   "metadata": {},
   "outputs": [],
   "source": [
    "short_scanpaths = pd.read_csv(\"./results/scanpaths/short_scanpaths.csv\")"
   ]
  },
  {
   "cell_type": "code",
   "execution_count": 46,
   "metadata": {},
   "outputs": [
    {
     "data": {
      "text/plain": [
       "'FReLeReReRFReReRLeLeFLeFeLeFeLeReReLeLeLeLeLFeFeFeFRLeLeLFLeLeLFRFLeFRFeFeRFRFLeLRFeFL'"
      ]
     },
     "execution_count": 46,
     "metadata": {},
     "output_type": "execute_result"
    }
   ],
   "source": [
    "short_scanpaths.iloc[1, 3]"
   ]
  },
  {
   "cell_type": "code",
   "execution_count": 47,
   "metadata": {},
   "outputs": [],
   "source": [
    "mean_dissimilarity = pd.read_csv(\"./results/scanpaths/mean_dissimilarity.csv\")"
   ]
  },
  {
   "cell_type": "code",
   "execution_count": 48,
   "metadata": {},
   "outputs": [],
   "source": [
    "ratio_aoi_transitions = pd.read_csv(\"./results/scanpaths/ratio_aoi_transitions.csv\")"
   ]
  },
  {
   "cell_type": "markdown",
   "metadata": {},
   "source": [
    "### Consolidate survey and eyetracking matrix for participants"
   ]
  },
  {
   "cell_type": "code",
   "execution_count": 49,
   "metadata": {},
   "outputs": [
    {
     "data": {
      "text/plain": [
       "Index(['dialog1_normal_mask', 'dialog2_head_mask', 'dialog3_spatial',\n",
       "       'dialog4_head', 'dialog5_spatial_mask', 'dialog6_normal'],\n",
       "      dtype='object')"
      ]
     },
     "execution_count": 49,
     "metadata": {},
     "output_type": "execute_result"
    }
   ],
   "source": [
    "nb_fixation.columns"
   ]
  },
  {
   "cell_type": "code",
   "execution_count": 50,
   "metadata": {},
   "outputs": [
    {
     "data": {
      "text/plain": [
       "187.84758364312268"
      ]
     },
     "execution_count": 50,
     "metadata": {},
     "output_type": "execute_result"
    }
   ],
   "source": [
    "mean_fix_duration.iloc[1, 1]"
   ]
  },
  {
   "cell_type": "code",
   "execution_count": 74,
   "metadata": {},
   "outputs": [
    {
     "data": {
      "text/html": [
       "<div>\n",
       "<style scoped>\n",
       "    .dataframe tbody tr th:only-of-type {\n",
       "        vertical-align: middle;\n",
       "    }\n",
       "\n",
       "    .dataframe tbody tr th {\n",
       "        vertical-align: top;\n",
       "    }\n",
       "\n",
       "    .dataframe thead th {\n",
       "        text-align: right;\n",
       "    }\n",
       "</style>\n",
       "<table border=\"1\" class=\"dataframe\">\n",
       "  <thead>\n",
       "    <tr style=\"text-align: right;\">\n",
       "      <th></th>\n",
       "      <th>dialog1_normal_mask</th>\n",
       "      <th>dialog2_head_mask</th>\n",
       "      <th>dialog3_spatial</th>\n",
       "      <th>dialog4_head</th>\n",
       "      <th>dialog5_spatial_mask</th>\n",
       "      <th>dialog6_normal</th>\n",
       "    </tr>\n",
       "  </thead>\n",
       "  <tbody>\n",
       "    <tr>\n",
       "      <th>37</th>\n",
       "      <td>162.813889</td>\n",
       "      <td>166.067138</td>\n",
       "      <td>170.164706</td>\n",
       "      <td>157.650000</td>\n",
       "      <td>166.306604</td>\n",
       "      <td>163.158824</td>\n",
       "    </tr>\n",
       "    <tr>\n",
       "      <th>38</th>\n",
       "      <td>206.108861</td>\n",
       "      <td>190.389831</td>\n",
       "      <td>204.982609</td>\n",
       "      <td>179.055762</td>\n",
       "      <td>208.119534</td>\n",
       "      <td>223.811966</td>\n",
       "    </tr>\n",
       "    <tr>\n",
       "      <th>39</th>\n",
       "      <td>150.159011</td>\n",
       "      <td>150.512397</td>\n",
       "      <td>154.440860</td>\n",
       "      <td>162.217742</td>\n",
       "      <td>147.613383</td>\n",
       "      <td>148.988593</td>\n",
       "    </tr>\n",
       "    <tr>\n",
       "      <th>40</th>\n",
       "      <td>163.451429</td>\n",
       "      <td>162.922222</td>\n",
       "      <td>179.820122</td>\n",
       "      <td>180.476923</td>\n",
       "      <td>173.990033</td>\n",
       "      <td>181.401760</td>\n",
       "    </tr>\n",
       "    <tr>\n",
       "      <th>41</th>\n",
       "      <td>185.362637</td>\n",
       "      <td>177.435374</td>\n",
       "      <td>164.430000</td>\n",
       "      <td>179.253846</td>\n",
       "      <td>159.212454</td>\n",
       "      <td>161.601307</td>\n",
       "    </tr>\n",
       "  </tbody>\n",
       "</table>\n",
       "</div>"
      ],
      "text/plain": [
       "    dialog1_normal_mask  dialog2_head_mask  dialog3_spatial  dialog4_head  \\\n",
       "37           162.813889         166.067138       170.164706    157.650000   \n",
       "38           206.108861         190.389831       204.982609    179.055762   \n",
       "39           150.159011         150.512397       154.440860    162.217742   \n",
       "40           163.451429         162.922222       179.820122    180.476923   \n",
       "41           185.362637         177.435374       164.430000    179.253846   \n",
       "\n",
       "    dialog5_spatial_mask  dialog6_normal  \n",
       "37            166.306604      163.158824  \n",
       "38            208.119534      223.811966  \n",
       "39            147.613383      148.988593  \n",
       "40            173.990033      181.401760  \n",
       "41            159.212454      161.601307  "
      ]
     },
     "execution_count": 74,
     "metadata": {},
     "output_type": "execute_result"
    }
   ],
   "source": [
    "mean_fix_duration.tail()"
   ]
  },
  {
   "cell_type": "code",
   "execution_count": 101,
   "metadata": {},
   "outputs": [
    {
     "data": {
      "text/html": [
       "<div>\n",
       "<style scoped>\n",
       "    .dataframe tbody tr th:only-of-type {\n",
       "        vertical-align: middle;\n",
       "    }\n",
       "\n",
       "    .dataframe tbody tr th {\n",
       "        vertical-align: top;\n",
       "    }\n",
       "\n",
       "    .dataframe thead th {\n",
       "        text-align: right;\n",
       "    }\n",
       "</style>\n",
       "<table border=\"1\" class=\"dataframe\">\n",
       "  <thead>\n",
       "    <tr style=\"text-align: right;\">\n",
       "      <th></th>\n",
       "      <th>dialog1_normal_mask</th>\n",
       "      <th>dialog2_head_mask</th>\n",
       "      <th>dialog3_spatial</th>\n",
       "      <th>dialog4_head</th>\n",
       "      <th>dialog5_spatial_mask</th>\n",
       "      <th>dialog6_normal</th>\n",
       "    </tr>\n",
       "  </thead>\n",
       "  <tbody>\n",
       "    <tr>\n",
       "      <th>0</th>\n",
       "      <td>80.585366</td>\n",
       "      <td>64.414634</td>\n",
       "      <td>63.097561</td>\n",
       "      <td>60.902439</td>\n",
       "      <td>59.780488</td>\n",
       "      <td>73.000000</td>\n",
       "    </tr>\n",
       "    <tr>\n",
       "      <th>1</th>\n",
       "      <td>108.170732</td>\n",
       "      <td>103.097561</td>\n",
       "      <td>89.634146</td>\n",
       "      <td>103.853659</td>\n",
       "      <td>98.292683</td>\n",
       "      <td>79.292683</td>\n",
       "    </tr>\n",
       "    <tr>\n",
       "      <th>2</th>\n",
       "      <td>122.853659</td>\n",
       "      <td>105.317073</td>\n",
       "      <td>101.219512</td>\n",
       "      <td>120.121951</td>\n",
       "      <td>96.487805</td>\n",
       "      <td>121.073171</td>\n",
       "    </tr>\n",
       "    <tr>\n",
       "      <th>3</th>\n",
       "      <td>82.560976</td>\n",
       "      <td>115.487805</td>\n",
       "      <td>68.463415</td>\n",
       "      <td>67.000000</td>\n",
       "      <td>72.292683</td>\n",
       "      <td>94.317073</td>\n",
       "    </tr>\n",
       "    <tr>\n",
       "      <th>4</th>\n",
       "      <td>112.902439</td>\n",
       "      <td>78.170732</td>\n",
       "      <td>107.195122</td>\n",
       "      <td>106.512195</td>\n",
       "      <td>78.804878</td>\n",
       "      <td>83.317073</td>\n",
       "    </tr>\n",
       "  </tbody>\n",
       "</table>\n",
       "</div>"
      ],
      "text/plain": [
       "   dialog1_normal_mask  dialog2_head_mask  dialog3_spatial  dialog4_head  \\\n",
       "0            80.585366          64.414634        63.097561     60.902439   \n",
       "1           108.170732         103.097561        89.634146    103.853659   \n",
       "2           122.853659         105.317073       101.219512    120.121951   \n",
       "3            82.560976         115.487805        68.463415     67.000000   \n",
       "4           112.902439          78.170732       107.195122    106.512195   \n",
       "\n",
       "   dialog5_spatial_mask  dialog6_normal  \n",
       "0             59.780488       73.000000  \n",
       "1             98.292683       79.292683  \n",
       "2             96.487805      121.073171  \n",
       "3             72.292683       94.317073  \n",
       "4             78.804878       83.317073  "
      ]
     },
     "execution_count": 101,
     "metadata": {},
     "output_type": "execute_result"
    }
   ],
   "source": [
    "mean_dissimilarity.head()"
   ]
  },
  {
   "cell_type": "code",
   "execution_count": 102,
   "metadata": {},
   "outputs": [],
   "source": [
    "# mean_dissimilarity.iloc[:, 5]"
   ]
  },
  {
   "cell_type": "code",
   "execution_count": 75,
   "metadata": {},
   "outputs": [
    {
     "data": {
      "text/plain": [
       "array([ 7,  8,  9, 10, 11, 12, 13,  0,  1,  2,  3,  4,  5,  6, 28, 29, 30,\n",
       "       31, 32, 33, 34, 35, 36, 37, 38, 39, 40, 41, 21, 22, 23, 24, 25, 26,\n",
       "       27, 14, 15, 16, 17, 18, 19, 20])"
      ]
     },
     "execution_count": 75,
     "metadata": {},
     "output_type": "execute_result"
    }
   ],
   "source": [
    "all_measures.PID.unique()"
   ]
  },
  {
   "cell_type": "code",
   "execution_count": 91,
   "metadata": {},
   "outputs": [],
   "source": [
    "all_measures = survey_results.copy()"
   ]
  },
  {
   "cell_type": "code",
   "execution_count": 113,
   "metadata": {},
   "outputs": [],
   "source": [
    "# Patch the mistake!\n",
    "all_measures.loc[(all_measures['mask'] == 'yes') & (all_measures.Sound == 'mono'), 'dialog_ID'] = 1\n",
    "all_measures.loc[(all_measures['mask'] == 'yes') & (all_measures.Sound == 'head'), 'dialog_ID'] = 2\n",
    "all_measures.loc[(all_measures['mask'] == 'no') & (all_measures.Sound == 'binaural'), 'dialog_ID'] = 3\n",
    "all_measures.loc[(all_measures['mask'] == 'no') & (all_measures.Sound == 'head'), 'dialog_ID'] = 4\n",
    "all_measures.loc[(all_measures['mask'] == 'yes') & (all_measures.Sound == 'binaural'), 'dialog_ID'] = 5\n",
    "all_measures.loc[(all_measures['mask'] == 'no') & (all_measures.Sound == 'mono'), 'dialog_ID'] = 6"
   ]
  },
  {
   "cell_type": "code",
   "execution_count": 124,
   "metadata": {},
   "outputs": [
    {
     "data": {
      "text/plain": [
       "Index(['PID', 'P_name', 'comment', 'mask', 'Sound', 'dialog_ID',\n",
       "       'ScoreMemTest', 'MemConfidence', 'ScoreCompTest', 'CompConfidence',\n",
       "       'PostSpeakerIdent', 'PostOverallComprehension', 'PostConcentration',\n",
       "       'PostPresence', 'PostAudioHelp', 'nb_fixation', 'mean_fix_duration',\n",
       "       'total_fix_duration', 'mean_saccade_amplitude', 'long_scanpaths',\n",
       "       'short_scanpaths', 'mean_dissimilarity', 'ratio_aoi_transitions'],\n",
       "      dtype='object')"
      ]
     },
     "execution_count": 124,
     "metadata": {},
     "output_type": "execute_result"
    }
   ],
   "source": [
    "all_measures.columns"
   ]
  },
  {
   "cell_type": "code",
   "execution_count": 115,
   "metadata": {},
   "outputs": [],
   "source": [
    "# for dlg_id in range(1,7): # loop through dialogs\n",
    "#     count_line = 0\n",
    "#     for pid in PID_eyetracking: # loop through participants\n",
    "#         try:\n",
    "#             all_measures.loc[(all_measures.PID == pid) & (all_measures.dialog_ID == dlg_id), 'nb_fixation'] = nb_fixation.iloc[count_line, dlg_id-1]\n",
    "#             all_measures.loc[(all_measures.PID == pid) & (all_measures.dialog_ID == dlg_id), 'mean_fix_duration'] = mean_fix_duration.iloc[count_line, dlg_id-1]\n",
    "#             all_measures.loc[(all_measures.PID == pid) & (all_measures.dialog_ID == dlg_id), 'total_fix_duration'] = total_fix_duration.iloc[count_line, dlg_id-1]\n",
    "#             all_measures.loc[(all_measures.PID == pid) & (all_measures.dialog_ID == dlg_id), 'mean_saccade_amplitude'] = mean_saccade_amplitude.iloc[count_line, dlg_id-1]\n",
    "#             all_measures.loc[(all_measures.PID == pid) & (all_measures.dialog_ID == dlg_id), 'long_scanpaths'] = long_scanpaths.iloc[count_line, dlg_id-1]\n",
    "#             all_measures.loc[(all_measures.PID == pid) & (all_measures.dialog_ID == dlg_id), 'short_scanpaths'] = short_scanpaths.iloc[count_line, dlg_id-1]\n",
    "#             all_measures.loc[(all_measures.PID == pid) & (all_measures.dialog_ID == dlg_id), 'mean_dissimilarity'] = mean_dissimilarity.iloc[count_line, dlg_id-1]\n",
    "#             all_measures.loc[(all_measures.PID == pid) & (all_measures.dialog_ID == dlg_id), 'ratio_aoi_transitions'] = ratio_aoi_transitions.iloc[count_line, dlg_id-1]\n",
    "#             count_line = count_line + 1\n",
    "#         except:\n",
    "#             print(\"line: \" + str(count_line) + \", dialog: \" + str(dlg_id))\n",
    "            \n",
    "### in fact the eye tracking data is already organized per participant ID             \n",
    "for dlg_id in range(1,7): # loop through dialogs\n",
    "    for pid in range(0,42): # loop through participants\n",
    "        try:\n",
    "            all_measures.loc[(all_measures.PID == pid) & (all_measures.dialog_ID == dlg_id), 'nb_fixation'] = nb_fixation.iloc[pid, dlg_id-1]\n",
    "            all_measures.loc[(all_measures.PID == pid) & (all_measures.dialog_ID == dlg_id), 'mean_fix_duration'] = mean_fix_duration.iloc[pid, dlg_id-1]\n",
    "            all_measures.loc[(all_measures.PID == pid) & (all_measures.dialog_ID == dlg_id), 'total_fix_duration'] = total_fix_duration.iloc[pid, dlg_id-1]\n",
    "            all_measures.loc[(all_measures.PID == pid) & (all_measures.dialog_ID == dlg_id), 'mean_saccade_amplitude'] = mean_saccade_amplitude.iloc[pid, dlg_id-1]\n",
    "            all_measures.loc[(all_measures.PID == pid) & (all_measures.dialog_ID == dlg_id), 'long_scanpaths'] = long_scanpaths.iloc[pid, dlg_id-1]\n",
    "            all_measures.loc[(all_measures.PID == pid) & (all_measures.dialog_ID == dlg_id), 'short_scanpaths'] = short_scanpaths.iloc[pid, dlg_id-1]\n",
    "            all_measures.loc[(all_measures.PID == pid) & (all_measures.dialog_ID == dlg_id), 'mean_dissimilarity'] = mean_dissimilarity.iloc[pid, dlg_id-1]\n",
    "            all_measures.loc[(all_measures.PID == pid) & (all_measures.dialog_ID == dlg_id), 'ratio_aoi_transitions'] = ratio_aoi_transitions.iloc[pid, dlg_id-1]\n",
    "        except:\n",
    "            print(\"line: \" + str(count_line) + \", dialog: \" + str(dlg_id))"
   ]
  },
  {
   "cell_type": "code",
   "execution_count": 88,
   "metadata": {},
   "outputs": [
    {
     "data": {
      "text/html": [
       "<div>\n",
       "<style scoped>\n",
       "    .dataframe tbody tr th:only-of-type {\n",
       "        vertical-align: middle;\n",
       "    }\n",
       "\n",
       "    .dataframe tbody tr th {\n",
       "        vertical-align: top;\n",
       "    }\n",
       "\n",
       "    .dataframe thead th {\n",
       "        text-align: right;\n",
       "    }\n",
       "</style>\n",
       "<table border=\"1\" class=\"dataframe\">\n",
       "  <thead>\n",
       "    <tr style=\"text-align: right;\">\n",
       "      <th></th>\n",
       "      <th>PID</th>\n",
       "      <th>P_name</th>\n",
       "      <th>comment</th>\n",
       "      <th>mask</th>\n",
       "      <th>Sound</th>\n",
       "      <th>dialog_ID</th>\n",
       "      <th>ScoreMemTest</th>\n",
       "      <th>MemConfidence</th>\n",
       "      <th>ScoreCompTest</th>\n",
       "      <th>CompConfidence</th>\n",
       "      <th>...</th>\n",
       "      <th>PostPresence</th>\n",
       "      <th>PostAudioHelp</th>\n",
       "      <th>nb_fixation</th>\n",
       "      <th>mean_fix_duration</th>\n",
       "      <th>total_fix_duration</th>\n",
       "      <th>mean_saccade_amplitude</th>\n",
       "      <th>long_scanpaths</th>\n",
       "      <th>short_scanpaths</th>\n",
       "      <th>mean_dissimilarity</th>\n",
       "      <th>ratio_aoi_transitions</th>\n",
       "    </tr>\n",
       "  </thead>\n",
       "  <tbody>\n",
       "  </tbody>\n",
       "</table>\n",
       "<p>0 rows × 23 columns</p>\n",
       "</div>"
      ],
      "text/plain": [
       "Empty DataFrame\n",
       "Columns: [PID, P_name, comment, mask, Sound, dialog_ID, ScoreMemTest, MemConfidence, ScoreCompTest, CompConfidence, PostSpeakerIdent, PostOverallComprehension, PostConcentration, PostPresence, PostAudioHelp, nb_fixation, mean_fix_duration, total_fix_duration, mean_saccade_amplitude, long_scanpaths, short_scanpaths, mean_dissimilarity, ratio_aoi_transitions]\n",
       "Index: []\n",
       "\n",
       "[0 rows x 23 columns]"
      ]
     },
     "execution_count": 88,
     "metadata": {},
     "output_type": "execute_result"
    }
   ],
   "source": [
    "all_measures[all_measures.short_scanpaths.isnull()]"
   ]
  },
  {
   "cell_type": "code",
   "execution_count": 57,
   "metadata": {},
   "outputs": [
    {
     "data": {
      "text/plain": [
       "array([2, 1, 4, 3, 6, 5])"
      ]
     },
     "execution_count": 57,
     "metadata": {},
     "output_type": "execute_result"
    }
   ],
   "source": [
    "all_measures.dialog_ID.unique()"
   ]
  },
  {
   "cell_type": "code",
   "execution_count": 58,
   "metadata": {},
   "outputs": [
    {
     "data": {
      "text/plain": [
       "6    42\n",
       "5    42\n",
       "4    42\n",
       "3    42\n",
       "2    42\n",
       "1    42\n",
       "Name: dialog_ID, dtype: int64"
      ]
     },
     "execution_count": 58,
     "metadata": {},
     "output_type": "execute_result"
    }
   ],
   "source": [
    "all_measures['dialog_ID'].value_counts()"
   ]
  },
  {
   "cell_type": "code",
   "execution_count": 59,
   "metadata": {},
   "outputs": [
    {
     "data": {
      "text/plain": [
       "binaural    84\n",
       "mono        84\n",
       "head        84\n",
       "Name: Sound, dtype: int64"
      ]
     },
     "execution_count": 59,
     "metadata": {},
     "output_type": "execute_result"
    }
   ],
   "source": [
    "all_measures['Sound'].value_counts()"
   ]
  },
  {
   "cell_type": "code",
   "execution_count": 60,
   "metadata": {},
   "outputs": [],
   "source": [
    "## Patch the mistake! - actually the mistake is in the dialog_id\n",
    "# all_measures.loc[all_measures.dialog_ID == 1, 'mask'] = 'yes'\n",
    "# all_measures.loc[all_measures.dialog_ID == 1, 'Sound'] = 'mono'\n",
    "\n",
    "# all_measures.loc[all_measures.dialog_ID == 2, 'mask'] = 'yes'\n",
    "# all_measures.loc[all_measures.dialog_ID == 2, 'Sound'] = 'head'\n",
    "\n",
    "# all_measures.loc[all_measures.dialog_ID == 3, 'mask'] = 'no'\n",
    "# all_measures.loc[all_measures.dialog_ID == 3, 'Sound'] = 'binaural'\n",
    "\n",
    "# all_measures.loc[all_measures.dialog_ID == 4, 'mask'] = 'no'\n",
    "# all_measures.loc[all_measures.dialog_ID == 4, 'Sound'] = 'head'\n",
    "\n",
    "# all_measures.loc[all_measures.dialog_ID == 5, 'mask'] = 'yes'\n",
    "# all_measures.loc[all_measures.dialog_ID == 5, 'Sound'] = 'binaural'\n",
    "\n",
    "# all_measures.loc[all_measures.dialog_ID == 6, 'mask'] = 'no'\n",
    "# all_measures.loc[all_measures.dialog_ID == 6, 'Sound'] = 'mono'"
   ]
  },
  {
   "cell_type": "code",
   "execution_count": 62,
   "metadata": {},
   "outputs": [
    {
     "data": {
      "text/plain": [
       "array(['no', 'yes'], dtype=object)"
      ]
     },
     "execution_count": 62,
     "metadata": {},
     "output_type": "execute_result"
    }
   ],
   "source": [
    "all_measures['mask'].unique()"
   ]
  },
  {
   "cell_type": "code",
   "execution_count": 63,
   "metadata": {},
   "outputs": [
    {
     "data": {
      "text/plain": [
       "array(['mono', 'binaural', 'head'], dtype=object)"
      ]
     },
     "execution_count": 63,
     "metadata": {},
     "output_type": "execute_result"
    }
   ],
   "source": [
    "all_measures['Sound'].unique()"
   ]
  },
  {
   "cell_type": "code",
   "execution_count": 120,
   "metadata": {},
   "outputs": [
    {
     "data": {
      "text/html": [
       "<div>\n",
       "<style scoped>\n",
       "    .dataframe tbody tr th:only-of-type {\n",
       "        vertical-align: middle;\n",
       "    }\n",
       "\n",
       "    .dataframe tbody tr th {\n",
       "        vertical-align: top;\n",
       "    }\n",
       "\n",
       "    .dataframe thead th {\n",
       "        text-align: right;\n",
       "    }\n",
       "</style>\n",
       "<table border=\"1\" class=\"dataframe\">\n",
       "  <thead>\n",
       "    <tr style=\"text-align: right;\">\n",
       "      <th>mask</th>\n",
       "      <th>no</th>\n",
       "      <th>yes</th>\n",
       "    </tr>\n",
       "  </thead>\n",
       "  <tbody>\n",
       "    <tr>\n",
       "      <th>ScoreMemTest</th>\n",
       "      <td>4.222222</td>\n",
       "      <td>4.642857</td>\n",
       "    </tr>\n",
       "    <tr>\n",
       "      <th>MemConfidence</th>\n",
       "      <td>3.293651</td>\n",
       "      <td>3.269841</td>\n",
       "    </tr>\n",
       "    <tr>\n",
       "      <th>ScoreCompTest</th>\n",
       "      <td>2.619048</td>\n",
       "      <td>2.507937</td>\n",
       "    </tr>\n",
       "    <tr>\n",
       "      <th>CompConfidence</th>\n",
       "      <td>3.817460</td>\n",
       "      <td>3.603175</td>\n",
       "    </tr>\n",
       "    <tr>\n",
       "      <th>PostSpeakerIdent</th>\n",
       "      <td>4.238095</td>\n",
       "      <td>3.269841</td>\n",
       "    </tr>\n",
       "    <tr>\n",
       "      <th>PostOverallComprehension</th>\n",
       "      <td>3.753968</td>\n",
       "      <td>3.642857</td>\n",
       "    </tr>\n",
       "    <tr>\n",
       "      <th>PostConcentration</th>\n",
       "      <td>2.428571</td>\n",
       "      <td>3.246032</td>\n",
       "    </tr>\n",
       "    <tr>\n",
       "      <th>PostPresence</th>\n",
       "      <td>3.095238</td>\n",
       "      <td>2.634921</td>\n",
       "    </tr>\n",
       "    <tr>\n",
       "      <th>PostAudioHelp</th>\n",
       "      <td>3.150794</td>\n",
       "      <td>3.261905</td>\n",
       "    </tr>\n",
       "    <tr>\n",
       "      <th>nb_fixation</th>\n",
       "      <td>0.002395</td>\n",
       "      <td>0.002377</td>\n",
       "    </tr>\n",
       "    <tr>\n",
       "      <th>mean_fix_duration</th>\n",
       "      <td>176.866937</td>\n",
       "      <td>173.443572</td>\n",
       "    </tr>\n",
       "    <tr>\n",
       "      <th>total_fix_duration</th>\n",
       "      <td>0.425530</td>\n",
       "      <td>0.414836</td>\n",
       "    </tr>\n",
       "    <tr>\n",
       "      <th>mean_saccade_amplitude</th>\n",
       "      <td>156.262716</td>\n",
       "      <td>171.995553</td>\n",
       "    </tr>\n",
       "    <tr>\n",
       "      <th>mean_dissimilarity</th>\n",
       "      <td>101.491289</td>\n",
       "      <td>106.417344</td>\n",
       "    </tr>\n",
       "    <tr>\n",
       "      <th>ratio_aoi_transitions</th>\n",
       "      <td>1.965478</td>\n",
       "      <td>2.431899</td>\n",
       "    </tr>\n",
       "  </tbody>\n",
       "</table>\n",
       "</div>"
      ],
      "text/plain": [
       "mask                              no         yes\n",
       "ScoreMemTest                4.222222    4.642857\n",
       "MemConfidence               3.293651    3.269841\n",
       "ScoreCompTest               2.619048    2.507937\n",
       "CompConfidence              3.817460    3.603175\n",
       "PostSpeakerIdent            4.238095    3.269841\n",
       "PostOverallComprehension    3.753968    3.642857\n",
       "PostConcentration           2.428571    3.246032\n",
       "PostPresence                3.095238    2.634921\n",
       "PostAudioHelp               3.150794    3.261905\n",
       "nb_fixation                 0.002395    0.002377\n",
       "mean_fix_duration         176.866937  173.443572\n",
       "total_fix_duration          0.425530    0.414836\n",
       "mean_saccade_amplitude    156.262716  171.995553\n",
       "mean_dissimilarity        101.491289  106.417344\n",
       "ratio_aoi_transitions       1.965478    2.431899"
      ]
     },
     "execution_count": 120,
     "metadata": {},
     "output_type": "execute_result"
    }
   ],
   "source": [
    "all_measures.groupby('mask')['ScoreMemTest', 'MemConfidence', 'ScoreCompTest', 'CompConfidence',\n",
    "       'PostSpeakerIdent', 'PostOverallComprehension', 'PostConcentration',\n",
    "       'PostPresence', 'PostAudioHelp', 'nb_fixation', 'mean_fix_duration',\n",
    "       'total_fix_duration', 'mean_saccade_amplitude', 'long_scanpaths',\n",
    "       'short_scanpaths', 'mean_dissimilarity', 'ratio_aoi_transitions'].mean().T"
   ]
  },
  {
   "cell_type": "code",
   "execution_count": 121,
   "metadata": {},
   "outputs": [
    {
     "data": {
      "text/html": [
       "<div>\n",
       "<style scoped>\n",
       "    .dataframe tbody tr th:only-of-type {\n",
       "        vertical-align: middle;\n",
       "    }\n",
       "\n",
       "    .dataframe tbody tr th {\n",
       "        vertical-align: top;\n",
       "    }\n",
       "\n",
       "    .dataframe thead th {\n",
       "        text-align: right;\n",
       "    }\n",
       "</style>\n",
       "<table border=\"1\" class=\"dataframe\">\n",
       "  <thead>\n",
       "    <tr style=\"text-align: right;\">\n",
       "      <th>mask</th>\n",
       "      <th>no</th>\n",
       "      <th>yes</th>\n",
       "    </tr>\n",
       "  </thead>\n",
       "  <tbody>\n",
       "    <tr>\n",
       "      <th>ScoreMemTest</th>\n",
       "      <td>1.238637</td>\n",
       "      <td>1.388319</td>\n",
       "    </tr>\n",
       "    <tr>\n",
       "      <th>MemConfidence</th>\n",
       "      <td>1.117622</td>\n",
       "      <td>1.215978</td>\n",
       "    </tr>\n",
       "    <tr>\n",
       "      <th>ScoreCompTest</th>\n",
       "      <td>0.577680</td>\n",
       "      <td>0.701382</td>\n",
       "    </tr>\n",
       "    <tr>\n",
       "      <th>CompConfidence</th>\n",
       "      <td>1.022943</td>\n",
       "      <td>1.277994</td>\n",
       "    </tr>\n",
       "    <tr>\n",
       "      <th>PostSpeakerIdent</th>\n",
       "      <td>0.804274</td>\n",
       "      <td>1.091148</td>\n",
       "    </tr>\n",
       "    <tr>\n",
       "      <th>PostOverallComprehension</th>\n",
       "      <td>0.864282</td>\n",
       "      <td>1.015593</td>\n",
       "    </tr>\n",
       "    <tr>\n",
       "      <th>PostConcentration</th>\n",
       "      <td>0.941731</td>\n",
       "      <td>0.900547</td>\n",
       "    </tr>\n",
       "    <tr>\n",
       "      <th>PostPresence</th>\n",
       "      <td>1.061535</td>\n",
       "      <td>1.000825</td>\n",
       "    </tr>\n",
       "    <tr>\n",
       "      <th>PostAudioHelp</th>\n",
       "      <td>1.051228</td>\n",
       "      <td>1.059650</td>\n",
       "    </tr>\n",
       "    <tr>\n",
       "      <th>nb_fixation</th>\n",
       "      <td>0.000288</td>\n",
       "      <td>0.000290</td>\n",
       "    </tr>\n",
       "    <tr>\n",
       "      <th>mean_fix_duration</th>\n",
       "      <td>17.831948</td>\n",
       "      <td>16.998426</td>\n",
       "    </tr>\n",
       "    <tr>\n",
       "      <th>total_fix_duration</th>\n",
       "      <td>0.077332</td>\n",
       "      <td>0.078167</td>\n",
       "    </tr>\n",
       "    <tr>\n",
       "      <th>mean_saccade_amplitude</th>\n",
       "      <td>43.604398</td>\n",
       "      <td>47.986202</td>\n",
       "    </tr>\n",
       "    <tr>\n",
       "      <th>mean_dissimilarity</th>\n",
       "      <td>16.388982</td>\n",
       "      <td>18.942896</td>\n",
       "    </tr>\n",
       "    <tr>\n",
       "      <th>ratio_aoi_transitions</th>\n",
       "      <td>0.498773</td>\n",
       "      <td>0.674718</td>\n",
       "    </tr>\n",
       "  </tbody>\n",
       "</table>\n",
       "</div>"
      ],
      "text/plain": [
       "mask                             no        yes\n",
       "ScoreMemTest               1.238637   1.388319\n",
       "MemConfidence              1.117622   1.215978\n",
       "ScoreCompTest              0.577680   0.701382\n",
       "CompConfidence             1.022943   1.277994\n",
       "PostSpeakerIdent           0.804274   1.091148\n",
       "PostOverallComprehension   0.864282   1.015593\n",
       "PostConcentration          0.941731   0.900547\n",
       "PostPresence               1.061535   1.000825\n",
       "PostAudioHelp              1.051228   1.059650\n",
       "nb_fixation                0.000288   0.000290\n",
       "mean_fix_duration         17.831948  16.998426\n",
       "total_fix_duration         0.077332   0.078167\n",
       "mean_saccade_amplitude    43.604398  47.986202\n",
       "mean_dissimilarity        16.388982  18.942896\n",
       "ratio_aoi_transitions      0.498773   0.674718"
      ]
     },
     "execution_count": 121,
     "metadata": {},
     "output_type": "execute_result"
    }
   ],
   "source": [
    "all_measures.groupby('mask')['ScoreMemTest', 'MemConfidence', 'ScoreCompTest', 'CompConfidence',\n",
    "       'PostSpeakerIdent', 'PostOverallComprehension', 'PostConcentration',\n",
    "       'PostPresence', 'PostAudioHelp', 'nb_fixation', 'mean_fix_duration',\n",
    "       'total_fix_duration', 'mean_saccade_amplitude', 'long_scanpaths',\n",
    "       'short_scanpaths', 'mean_dissimilarity', 'ratio_aoi_transitions'].std().T"
   ]
  },
  {
   "cell_type": "code",
   "execution_count": 122,
   "metadata": {},
   "outputs": [
    {
     "data": {
      "text/html": [
       "<div>\n",
       "<style scoped>\n",
       "    .dataframe tbody tr th:only-of-type {\n",
       "        vertical-align: middle;\n",
       "    }\n",
       "\n",
       "    .dataframe tbody tr th {\n",
       "        vertical-align: top;\n",
       "    }\n",
       "\n",
       "    .dataframe thead th {\n",
       "        text-align: right;\n",
       "    }\n",
       "</style>\n",
       "<table border=\"1\" class=\"dataframe\">\n",
       "  <thead>\n",
       "    <tr style=\"text-align: right;\">\n",
       "      <th>Sound</th>\n",
       "      <th>binaural</th>\n",
       "      <th>head</th>\n",
       "      <th>mono</th>\n",
       "    </tr>\n",
       "  </thead>\n",
       "  <tbody>\n",
       "    <tr>\n",
       "      <th>ScoreMemTest</th>\n",
       "      <td>4.535714</td>\n",
       "      <td>4.416667</td>\n",
       "      <td>4.345238</td>\n",
       "    </tr>\n",
       "    <tr>\n",
       "      <th>MemConfidence</th>\n",
       "      <td>3.071429</td>\n",
       "      <td>3.380952</td>\n",
       "      <td>3.392857</td>\n",
       "    </tr>\n",
       "    <tr>\n",
       "      <th>ScoreCompTest</th>\n",
       "      <td>2.488095</td>\n",
       "      <td>2.857143</td>\n",
       "      <td>2.345238</td>\n",
       "    </tr>\n",
       "    <tr>\n",
       "      <th>CompConfidence</th>\n",
       "      <td>3.297619</td>\n",
       "      <td>4.190476</td>\n",
       "      <td>3.642857</td>\n",
       "    </tr>\n",
       "    <tr>\n",
       "      <th>PostSpeakerIdent</th>\n",
       "      <td>4.047619</td>\n",
       "      <td>3.511905</td>\n",
       "      <td>3.702381</td>\n",
       "    </tr>\n",
       "    <tr>\n",
       "      <th>PostOverallComprehension</th>\n",
       "      <td>3.547619</td>\n",
       "      <td>3.821429</td>\n",
       "      <td>3.726190</td>\n",
       "    </tr>\n",
       "    <tr>\n",
       "      <th>PostConcentration</th>\n",
       "      <td>2.690476</td>\n",
       "      <td>3.095238</td>\n",
       "      <td>2.726190</td>\n",
       "    </tr>\n",
       "    <tr>\n",
       "      <th>PostPresence</th>\n",
       "      <td>2.928571</td>\n",
       "      <td>2.845238</td>\n",
       "      <td>2.821429</td>\n",
       "    </tr>\n",
       "    <tr>\n",
       "      <th>PostAudioHelp</th>\n",
       "      <td>3.452381</td>\n",
       "      <td>2.833333</td>\n",
       "      <td>3.333333</td>\n",
       "    </tr>\n",
       "    <tr>\n",
       "      <th>nb_fixation</th>\n",
       "      <td>0.002364</td>\n",
       "      <td>0.002416</td>\n",
       "      <td>0.002377</td>\n",
       "    </tr>\n",
       "    <tr>\n",
       "      <th>mean_fix_duration</th>\n",
       "      <td>175.499303</td>\n",
       "      <td>175.155535</td>\n",
       "      <td>174.810926</td>\n",
       "    </tr>\n",
       "    <tr>\n",
       "      <th>total_fix_duration</th>\n",
       "      <td>0.418002</td>\n",
       "      <td>0.424752</td>\n",
       "      <td>0.417795</td>\n",
       "    </tr>\n",
       "    <tr>\n",
       "      <th>mean_saccade_amplitude</th>\n",
       "      <td>163.098054</td>\n",
       "      <td>165.764959</td>\n",
       "      <td>163.524391</td>\n",
       "    </tr>\n",
       "    <tr>\n",
       "      <th>mean_dissimilarity</th>\n",
       "      <td>96.458188</td>\n",
       "      <td>98.893148</td>\n",
       "      <td>116.511614</td>\n",
       "    </tr>\n",
       "    <tr>\n",
       "      <th>ratio_aoi_transitions</th>\n",
       "      <td>2.138522</td>\n",
       "      <td>2.075871</td>\n",
       "      <td>2.381674</td>\n",
       "    </tr>\n",
       "  </tbody>\n",
       "</table>\n",
       "</div>"
      ],
      "text/plain": [
       "Sound                       binaural        head        mono\n",
       "ScoreMemTest                4.535714    4.416667    4.345238\n",
       "MemConfidence               3.071429    3.380952    3.392857\n",
       "ScoreCompTest               2.488095    2.857143    2.345238\n",
       "CompConfidence              3.297619    4.190476    3.642857\n",
       "PostSpeakerIdent            4.047619    3.511905    3.702381\n",
       "PostOverallComprehension    3.547619    3.821429    3.726190\n",
       "PostConcentration           2.690476    3.095238    2.726190\n",
       "PostPresence                2.928571    2.845238    2.821429\n",
       "PostAudioHelp               3.452381    2.833333    3.333333\n",
       "nb_fixation                 0.002364    0.002416    0.002377\n",
       "mean_fix_duration         175.499303  175.155535  174.810926\n",
       "total_fix_duration          0.418002    0.424752    0.417795\n",
       "mean_saccade_amplitude    163.098054  165.764959  163.524391\n",
       "mean_dissimilarity         96.458188   98.893148  116.511614\n",
       "ratio_aoi_transitions       2.138522    2.075871    2.381674"
      ]
     },
     "execution_count": 122,
     "metadata": {},
     "output_type": "execute_result"
    }
   ],
   "source": [
    "all_measures.groupby('Sound')['ScoreMemTest', 'MemConfidence', 'ScoreCompTest', 'CompConfidence',\n",
    "       'PostSpeakerIdent', 'PostOverallComprehension', 'PostConcentration',\n",
    "       'PostPresence', 'PostAudioHelp', 'nb_fixation', 'mean_fix_duration',\n",
    "       'total_fix_duration', 'mean_saccade_amplitude', 'long_scanpaths',\n",
    "       'short_scanpaths', 'mean_dissimilarity', 'ratio_aoi_transitions'].mean().T"
   ]
  },
  {
   "cell_type": "code",
   "execution_count": 123,
   "metadata": {},
   "outputs": [
    {
     "data": {
      "text/html": [
       "<div>\n",
       "<style scoped>\n",
       "    .dataframe tbody tr th:only-of-type {\n",
       "        vertical-align: middle;\n",
       "    }\n",
       "\n",
       "    .dataframe tbody tr th {\n",
       "        vertical-align: top;\n",
       "    }\n",
       "\n",
       "    .dataframe thead th {\n",
       "        text-align: right;\n",
       "    }\n",
       "</style>\n",
       "<table border=\"1\" class=\"dataframe\">\n",
       "  <thead>\n",
       "    <tr style=\"text-align: right;\">\n",
       "      <th>Sound</th>\n",
       "      <th>binaural</th>\n",
       "      <th>head</th>\n",
       "      <th>mono</th>\n",
       "    </tr>\n",
       "  </thead>\n",
       "  <tbody>\n",
       "    <tr>\n",
       "      <th>ScoreMemTest</th>\n",
       "      <td>1.236458</td>\n",
       "      <td>1.363980</td>\n",
       "      <td>1.392701</td>\n",
       "    </tr>\n",
       "    <tr>\n",
       "      <th>MemConfidence</th>\n",
       "      <td>1.061775</td>\n",
       "      <td>1.260185</td>\n",
       "      <td>1.151404</td>\n",
       "    </tr>\n",
       "    <tr>\n",
       "      <th>ScoreCompTest</th>\n",
       "      <td>0.702732</td>\n",
       "      <td>0.414870</td>\n",
       "      <td>0.667563</td>\n",
       "    </tr>\n",
       "    <tr>\n",
       "      <th>CompConfidence</th>\n",
       "      <td>1.249383</td>\n",
       "      <td>1.046810</td>\n",
       "      <td>1.001720</td>\n",
       "    </tr>\n",
       "    <tr>\n",
       "      <th>PostSpeakerIdent</th>\n",
       "      <td>1.004865</td>\n",
       "      <td>1.092075</td>\n",
       "      <td>1.061708</td>\n",
       "    </tr>\n",
       "    <tr>\n",
       "      <th>PostOverallComprehension</th>\n",
       "      <td>1.057444</td>\n",
       "      <td>0.866522</td>\n",
       "      <td>0.882919</td>\n",
       "    </tr>\n",
       "    <tr>\n",
       "      <th>PostConcentration</th>\n",
       "      <td>0.981469</td>\n",
       "      <td>1.048453</td>\n",
       "      <td>0.948698</td>\n",
       "    </tr>\n",
       "    <tr>\n",
       "      <th>PostPresence</th>\n",
       "      <td>1.127805</td>\n",
       "      <td>1.035445</td>\n",
       "      <td>1.007929</td>\n",
       "    </tr>\n",
       "    <tr>\n",
       "      <th>PostAudioHelp</th>\n",
       "      <td>1.102076</td>\n",
       "      <td>1.050913</td>\n",
       "      <td>0.909565</td>\n",
       "    </tr>\n",
       "    <tr>\n",
       "      <th>nb_fixation</th>\n",
       "      <td>0.000303</td>\n",
       "      <td>0.000266</td>\n",
       "      <td>0.000297</td>\n",
       "    </tr>\n",
       "    <tr>\n",
       "      <th>mean_fix_duration</th>\n",
       "      <td>18.650608</td>\n",
       "      <td>15.568276</td>\n",
       "      <td>18.234109</td>\n",
       "    </tr>\n",
       "    <tr>\n",
       "      <th>total_fix_duration</th>\n",
       "      <td>0.086010</td>\n",
       "      <td>0.068819</td>\n",
       "      <td>0.078292</td>\n",
       "    </tr>\n",
       "    <tr>\n",
       "      <th>mean_saccade_amplitude</th>\n",
       "      <td>50.856897</td>\n",
       "      <td>40.809196</td>\n",
       "      <td>47.573771</td>\n",
       "    </tr>\n",
       "    <tr>\n",
       "      <th>mean_dissimilarity</th>\n",
       "      <td>13.154189</td>\n",
       "      <td>15.300566</td>\n",
       "      <td>17.715191</td>\n",
       "    </tr>\n",
       "    <tr>\n",
       "      <th>ratio_aoi_transitions</th>\n",
       "      <td>0.509901</td>\n",
       "      <td>0.530893</td>\n",
       "      <td>0.794187</td>\n",
       "    </tr>\n",
       "  </tbody>\n",
       "</table>\n",
       "</div>"
      ],
      "text/plain": [
       "Sound                      binaural       head       mono\n",
       "ScoreMemTest               1.236458   1.363980   1.392701\n",
       "MemConfidence              1.061775   1.260185   1.151404\n",
       "ScoreCompTest              0.702732   0.414870   0.667563\n",
       "CompConfidence             1.249383   1.046810   1.001720\n",
       "PostSpeakerIdent           1.004865   1.092075   1.061708\n",
       "PostOverallComprehension   1.057444   0.866522   0.882919\n",
       "PostConcentration          0.981469   1.048453   0.948698\n",
       "PostPresence               1.127805   1.035445   1.007929\n",
       "PostAudioHelp              1.102076   1.050913   0.909565\n",
       "nb_fixation                0.000303   0.000266   0.000297\n",
       "mean_fix_duration         18.650608  15.568276  18.234109\n",
       "total_fix_duration         0.086010   0.068819   0.078292\n",
       "mean_saccade_amplitude    50.856897  40.809196  47.573771\n",
       "mean_dissimilarity        13.154189  15.300566  17.715191\n",
       "ratio_aoi_transitions      0.509901   0.530893   0.794187"
      ]
     },
     "execution_count": 123,
     "metadata": {},
     "output_type": "execute_result"
    }
   ],
   "source": [
    "all_measures.groupby('Sound')['ScoreMemTest', 'MemConfidence', 'ScoreCompTest', 'CompConfidence',\n",
    "       'PostSpeakerIdent', 'PostOverallComprehension', 'PostConcentration',\n",
    "       'PostPresence', 'PostAudioHelp', 'nb_fixation', 'mean_fix_duration',\n",
    "       'total_fix_duration', 'mean_saccade_amplitude', 'long_scanpaths',\n",
    "       'short_scanpaths', 'mean_dissimilarity', 'ratio_aoi_transitions'].std().T"
   ]
  },
  {
   "cell_type": "code",
   "execution_count": 68,
   "metadata": {},
   "outputs": [
    {
     "data": {
      "text/plain": [
       "Index(['PID', 'P_name', 'comment', 'mask', 'Sound', 'dialog_ID',\n",
       "       'ScoreMemTest', 'MemConfidence', 'ScoreCompTest', 'CompConfidence',\n",
       "       'PostSpeakerIdent', 'PostOverallComprehension', 'PostConcentration',\n",
       "       'PostPresence', 'PostAudioHelp', 'nb_fixation', 'mean_fix_duration',\n",
       "       'total_fix_duration', 'mean_saccade_amplitude', 'long_scanpaths',\n",
       "       'short_scanpaths', 'mean_dissimilarity', 'ratio_aoi_transitions'],\n",
       "      dtype='object')"
      ]
     },
     "execution_count": 68,
     "metadata": {},
     "output_type": "execute_result"
    }
   ],
   "source": [
    "all_measures.columns"
   ]
  },
  {
   "cell_type": "markdown",
   "metadata": {},
   "source": [
    "Other eye-tracking DVs: \n",
    "    - mean dispersion per frame (dispersion of fixation points)\n",
    "    - mean dispersion per window at transitions \n",
    "    - mean dispersion per window at interruptions\n",
    "Dispersion was not calculated per participant, so it is not included in the analysis at the moment. Don't know if it makes sense to calculate dispersion per participant (against all other participants, per frame/window) as a parameter. Need to verify with the literature as Loic didn't do this. "
   ]
  },
  {
   "cell_type": "raw",
   "metadata": {},
   "source": [
    "all_measures.columns"
   ]
  },
  {
   "cell_type": "code",
   "execution_count": 118,
   "metadata": {},
   "outputs": [],
   "source": [
    "all_measures.to_pickle(\"all_measures_per_participant.pkl\")"
   ]
  },
  {
   "cell_type": "code",
   "execution_count": 119,
   "metadata": {},
   "outputs": [],
   "source": [
    "all_measures = pd.read_pickle(\"all_measures_per_participant.pkl\")"
   ]
  },
  {
   "cell_type": "code",
   "execution_count": 117,
   "metadata": {},
   "outputs": [],
   "source": [
    "all_measures.to_csv(\"all_measures_per_participant_patche3.csv\")"
   ]
  },
  {
   "cell_type": "code",
   "execution_count": 562,
   "metadata": {},
   "outputs": [
    {
     "data": {
      "text/plain": [
       "6"
      ]
     },
     "execution_count": 562,
     "metadata": {},
     "output_type": "execute_result"
    }
   ],
   "source": [
    "all_measures.ScoreMemTest.max()"
   ]
  },
  {
   "cell_type": "code",
   "execution_count": null,
   "metadata": {},
   "outputs": [],
   "source": [
    "all_measures.col"
   ]
  },
  {
   "cell_type": "markdown",
   "metadata": {},
   "source": [
    "Transform dispersion data"
   ]
  },
  {
   "cell_type": "code",
   "execution_count": 556,
   "metadata": {},
   "outputs": [],
   "source": [
    "mean_dispersion_new = pd.read_csv(\"./results/mean_dispersion_new.csv\")\n",
    "mean_dispersion_all_transitions_new = pd.read_csv(\"./results/mean_dispersion_all_transitions_new.csv\")\n",
    "mean_dispersion_interruption_new = pd.read_csv(\"./results/mean_dispersion_interruption_new.csv\")"
   ]
  },
  {
   "cell_type": "code",
   "execution_count": 491,
   "metadata": {},
   "outputs": [
    {
     "data": {
      "text/html": [
       "<div>\n",
       "<style scoped>\n",
       "    .dataframe tbody tr th:only-of-type {\n",
       "        vertical-align: middle;\n",
       "    }\n",
       "\n",
       "    .dataframe tbody tr th {\n",
       "        vertical-align: top;\n",
       "    }\n",
       "\n",
       "    .dataframe thead th {\n",
       "        text-align: right;\n",
       "    }\n",
       "</style>\n",
       "<table border=\"1\" class=\"dataframe\">\n",
       "  <thead>\n",
       "    <tr style=\"text-align: right;\">\n",
       "      <th></th>\n",
       "      <th>mono_mask</th>\n",
       "      <th>head_mask</th>\n",
       "      <th>spatial</th>\n",
       "      <th>head</th>\n",
       "      <th>spatial_mask</th>\n",
       "      <th>mono</th>\n",
       "    </tr>\n",
       "  </thead>\n",
       "  <tbody>\n",
       "    <tr>\n",
       "      <th>0</th>\n",
       "      <td>31.544690</td>\n",
       "      <td>14.97867701</td>\n",
       "      <td>34.36515966</td>\n",
       "      <td>72.9451849</td>\n",
       "      <td>11.81565527</td>\n",
       "      <td>51.35620938</td>\n",
       "    </tr>\n",
       "    <tr>\n",
       "      <th>1</th>\n",
       "      <td>15.079422</td>\n",
       "      <td>10.07989333</td>\n",
       "      <td>16.11748546</td>\n",
       "      <td>15.94589284</td>\n",
       "      <td>19.04055991</td>\n",
       "      <td>10.93481339</td>\n",
       "    </tr>\n",
       "    <tr>\n",
       "      <th>2</th>\n",
       "      <td>12.120748</td>\n",
       "      <td>7.438059569</td>\n",
       "      <td>9.149039514</td>\n",
       "      <td>14.37228189</td>\n",
       "      <td>12.9598253</td>\n",
       "      <td>7.803141692</td>\n",
       "    </tr>\n",
       "    <tr>\n",
       "      <th>3</th>\n",
       "      <td>9.178535</td>\n",
       "      <td>6.726427557</td>\n",
       "      <td>8.738335758</td>\n",
       "      <td>13.58017756</td>\n",
       "      <td>12.29246794</td>\n",
       "      <td>8.056140011</td>\n",
       "    </tr>\n",
       "    <tr>\n",
       "      <th>4</th>\n",
       "      <td>9.012362</td>\n",
       "      <td>5.738550857</td>\n",
       "      <td>8.160852395</td>\n",
       "      <td>12.05228947</td>\n",
       "      <td>11.96003585</td>\n",
       "      <td>6.39662352</td>\n",
       "    </tr>\n",
       "  </tbody>\n",
       "</table>\n",
       "</div>"
      ],
      "text/plain": [
       "   mono_mask    head_mask      spatial         head spatial_mask         mono\n",
       "0  31.544690  14.97867701  34.36515966   72.9451849  11.81565527  51.35620938\n",
       "1  15.079422  10.07989333  16.11748546  15.94589284  19.04055991  10.93481339\n",
       "2  12.120748  7.438059569  9.149039514  14.37228189   12.9598253  7.803141692\n",
       "3   9.178535  6.726427557  8.738335758  13.58017756  12.29246794  8.056140011\n",
       "4   9.012362  5.738550857  8.160852395  12.05228947  11.96003585   6.39662352"
      ]
     },
     "execution_count": 491,
     "metadata": {},
     "output_type": "execute_result"
    }
   ],
   "source": [
    "mean_dispersion_new.head()"
   ]
  },
  {
   "cell_type": "code",
   "execution_count": 541,
   "metadata": {},
   "outputs": [
    {
     "data": {
      "text/html": [
       "<div>\n",
       "<style scoped>\n",
       "    .dataframe tbody tr th:only-of-type {\n",
       "        vertical-align: middle;\n",
       "    }\n",
       "\n",
       "    .dataframe tbody tr th {\n",
       "        vertical-align: top;\n",
       "    }\n",
       "\n",
       "    .dataframe thead th {\n",
       "        text-align: right;\n",
       "    }\n",
       "</style>\n",
       "<table border=\"1\" class=\"dataframe\">\n",
       "  <thead>\n",
       "    <tr style=\"text-align: right;\">\n",
       "      <th></th>\n",
       "      <th>mean_dispersion</th>\n",
       "      <th>mask</th>\n",
       "      <th>Sound</th>\n",
       "    </tr>\n",
       "  </thead>\n",
       "  <tbody>\n",
       "    <tr>\n",
       "      <th>0</th>\n",
       "      <td>51.356209</td>\n",
       "      <td>no</td>\n",
       "      <td>binaural</td>\n",
       "    </tr>\n",
       "    <tr>\n",
       "      <th>1</th>\n",
       "      <td>10.934813</td>\n",
       "      <td>no</td>\n",
       "      <td>binaural</td>\n",
       "    </tr>\n",
       "    <tr>\n",
       "      <th>2</th>\n",
       "      <td>7.803142</td>\n",
       "      <td>no</td>\n",
       "      <td>binaural</td>\n",
       "    </tr>\n",
       "    <tr>\n",
       "      <th>3</th>\n",
       "      <td>8.056140</td>\n",
       "      <td>no</td>\n",
       "      <td>binaural</td>\n",
       "    </tr>\n",
       "    <tr>\n",
       "      <th>4</th>\n",
       "      <td>6.396624</td>\n",
       "      <td>no</td>\n",
       "      <td>binaural</td>\n",
       "    </tr>\n",
       "    <tr>\n",
       "      <th>...</th>\n",
       "      <td>...</td>\n",
       "      <td>...</td>\n",
       "      <td>...</td>\n",
       "    </tr>\n",
       "    <tr>\n",
       "      <th>3249</th>\n",
       "      <td>21.204154</td>\n",
       "      <td>yes</td>\n",
       "      <td>binaural</td>\n",
       "    </tr>\n",
       "    <tr>\n",
       "      <th>3250</th>\n",
       "      <td>23.981376</td>\n",
       "      <td>yes</td>\n",
       "      <td>binaural</td>\n",
       "    </tr>\n",
       "    <tr>\n",
       "      <th>3251</th>\n",
       "      <td>24.028419</td>\n",
       "      <td>yes</td>\n",
       "      <td>binaural</td>\n",
       "    </tr>\n",
       "    <tr>\n",
       "      <th>3252</th>\n",
       "      <td>22.897285</td>\n",
       "      <td>yes</td>\n",
       "      <td>binaural</td>\n",
       "    </tr>\n",
       "    <tr>\n",
       "      <th>3253</th>\n",
       "      <td>12.964122</td>\n",
       "      <td>yes</td>\n",
       "      <td>binaural</td>\n",
       "    </tr>\n",
       "  </tbody>\n",
       "</table>\n",
       "<p>6508 rows × 3 columns</p>\n",
       "</div>"
      ],
      "text/plain": [
       "      mean_dispersion mask     Sound\n",
       "0           51.356209   no  binaural\n",
       "1           10.934813   no  binaural\n",
       "2            7.803142   no  binaural\n",
       "3            8.056140   no  binaural\n",
       "4            6.396624   no  binaural\n",
       "...               ...  ...       ...\n",
       "3249        21.204154  yes  binaural\n",
       "3250        23.981376  yes  binaural\n",
       "3251        24.028419  yes  binaural\n",
       "3252        22.897285  yes  binaural\n",
       "3253        12.964122  yes  binaural\n",
       "\n",
       "[6508 rows x 3 columns]"
      ]
     },
     "execution_count": 541,
     "metadata": {},
     "output_type": "execute_result"
    }
   ],
   "source": [
    "mean_dispersion[mean_dispersion.Sound == 'binaural']"
   ]
  },
  {
   "cell_type": "code",
   "execution_count": 542,
   "metadata": {},
   "outputs": [],
   "source": [
    "for col in mean_dispersion_new.columns:\n",
    "    if col == 'mono_mask':\n",
    "        mean_dispersion = mean_dispersion_new[mean_dispersion_new[col] !=\" \"][[col]]\n",
    "        mean_dispersion['mask'] = 'yes'\n",
    "        mean_dispersion['Sound'] = 'mono'\n",
    "        mean_dispersion.columns = ['mean_dispersion', 'mask','Sound']\n",
    "    elif col == 'head_mask':\n",
    "        df = mean_dispersion_new[mean_dispersion_new[col] !=\" \"][[col]]\n",
    "        df['mask'] = 'yes'\n",
    "        df['Sound'] = 'head'\n",
    "        df.columns = ['mean_dispersion', 'mask','Sound']\n",
    "        mean_dispersion = mean_dispersion.append(df)\n",
    "    elif col == 'spatial':\n",
    "        df = mean_dispersion_new[mean_dispersion_new[col] !=\" \"][[col]]\n",
    "        df['mask'] = 'no'\n",
    "        df['Sound'] = 'binaural'\n",
    "        df.columns = ['mean_dispersion', 'mask','Sound']\n",
    "        mean_dispersion = mean_dispersion.append(df)\n",
    "    elif col == 'head':\n",
    "        df = mean_dispersion_new[mean_dispersion_new[col] !=\" \"][[col]]\n",
    "        df['mask'] = 'no'\n",
    "        df['Sound'] = 'head'\n",
    "        df.columns = ['mean_dispersion', 'mask','Sound']\n",
    "        mean_dispersion = mean_dispersion.append(df)\n",
    "    elif col == 'spatial_mask':\n",
    "        df = mean_dispersion_new[mean_dispersion_new[col] !=\" \"][[col]]\n",
    "        df['mask'] = 'yes'\n",
    "        df['Sound'] = 'binaural'\n",
    "        df.columns = ['mean_dispersion', 'mask','Sound']\n",
    "        mean_dispersion = mean_dispersion.append(df)\n",
    "    elif col == 'mono':\n",
    "        df = mean_dispersion_new[mean_dispersion_new[col] !=\" \"][[col]]\n",
    "        df['mask'] = 'no'\n",
    "        df['Sound'] = 'mono'\n",
    "        df.columns = ['mean_dispersion', 'mask','Sound']\n",
    "        mean_dispersion = mean_dispersion.append(df)\n",
    "    else:\n",
    "        print(\"error\")\n",
    "mean_dispersion['mean_dispersion'] = pd.to_numeric(df['mean_dispersion'],errors = 'coerce')\n",
    "        "
   ]
  },
  {
   "cell_type": "code",
   "execution_count": 547,
   "metadata": {},
   "outputs": [
    {
     "name": "stdout",
     "output_type": "stream",
     "text": [
      "mask\n",
      "no     14.481805\n",
      "yes    14.590462\n",
      "Name: mean_dispersion, dtype: float64\n",
      "mask\n",
      "no     6.369241\n",
      "yes    6.451730\n",
      "Name: mean_dispersion, dtype: float64\n",
      "Sound\n",
      "binaural    14.525594\n",
      "head        14.515028\n",
      "mono        14.564533\n",
      "Name: mean_dispersion, dtype: float64\n",
      "Sound\n",
      "binaural    6.426504\n",
      "head        6.426086\n",
      "mono        6.384959\n",
      "Name: mean_dispersion, dtype: float64\n"
     ]
    }
   ],
   "source": [
    "print(mean_dispersion.groupby('mask')['mean_dispersion'].mean().T)\n",
    "print(mean_dispersion.groupby('mask')['mean_dispersion'].std().T)\n",
    "print(mean_dispersion.groupby('Sound')['mean_dispersion'].mean().T)\n",
    "print(mean_dispersion.groupby('Sound')['mean_dispersion'].std().T)"
   ]
  },
  {
   "cell_type": "code",
   "execution_count": 552,
   "metadata": {},
   "outputs": [],
   "source": [
    "mean_dispersion.to_csv(\"mean_dispersion.csv\", index = False)"
   ]
  },
  {
   "cell_type": "code",
   "execution_count": 548,
   "metadata": {},
   "outputs": [
    {
     "name": "stdout",
     "output_type": "stream",
     "text": [
      "mask\n",
      "no     15.665718\n",
      "yes    15.686313\n",
      "Name: mean_dispersion_all_transitions, dtype: float64\n",
      "mask\n",
      "no     2.654992\n",
      "yes    2.728477\n",
      "Name: mean_dispersion_all_transitions, dtype: float64\n",
      "Sound\n",
      "binaural    15.643907\n",
      "head        15.678048\n",
      "mono        15.705252\n",
      "Name: mean_dispersion_all_transitions, dtype: float64\n",
      "Sound\n",
      "binaural    2.712920\n",
      "head        2.643144\n",
      "mono        2.747986\n",
      "Name: mean_dispersion_all_transitions, dtype: float64\n"
     ]
    }
   ],
   "source": [
    "for col in mean_dispersion_all_transitions_new.columns:\n",
    "    if col == 'mono_mask':\n",
    "        mean_dispersion_all_transitions = mean_dispersion_all_transitions_new[mean_dispersion_all_transitions_new[col] !=\" \"][[col]]\n",
    "        mean_dispersion_all_transitions['mask'] = 'yes'\n",
    "        mean_dispersion_all_transitions['Sound'] = 'mono'\n",
    "        mean_dispersion_all_transitions.columns = ['mean_dispersion_all_transitions', 'mask','Sound']\n",
    "    elif col == 'head_mask':\n",
    "        df = mean_dispersion_all_transitions_new[mean_dispersion_all_transitions_new[col] !=\" \"][[col]]\n",
    "        df['mask'] = 'yes'\n",
    "        df['Sound'] = 'head'\n",
    "        df.columns = ['mean_dispersion_all_transitions', 'mask','Sound']\n",
    "        mean_dispersion_all_transitions = mean_dispersion_all_transitions.append(df)\n",
    "    elif col == 'spatial':\n",
    "        df = mean_dispersion_all_transitions_new[mean_dispersion_all_transitions_new[col] !=\" \"][[col]]\n",
    "        df['mask'] = 'no'\n",
    "        df['Sound'] = 'binaural'\n",
    "        df.columns = ['mean_dispersion_all_transitions', 'mask','Sound']\n",
    "        mean_dispersion_all_transitions = mean_dispersion_all_transitions.append(df)\n",
    "    elif col == 'head':\n",
    "        df = mean_dispersion_all_transitions_new[mean_dispersion_all_transitions_new[col] !=\" \"][[col]]\n",
    "        df['mask'] = 'no'\n",
    "        df['Sound'] = 'head'\n",
    "        df.columns = ['mean_dispersion_all_transitions', 'mask','Sound']\n",
    "        mean_dispersion_all_transitions = mean_dispersion_all_transitions.append(df)\n",
    "    elif col == 'spatial_mask':\n",
    "        df = mean_dispersion_all_transitions_new[mean_dispersion_all_transitions_new[col] !=\" \"][[col]]\n",
    "        df['mask'] = 'yes'\n",
    "        df['Sound'] = 'binaural'\n",
    "        df.columns = ['mean_dispersion_all_transitions', 'mask','Sound']\n",
    "        mean_dispersion_all_transitions = mean_dispersion_all_transitions.append(df)\n",
    "    elif col == 'mono':\n",
    "        df = mean_dispersion_all_transitions_new[mean_dispersion_all_transitions_new[col] !=\" \"][[col]]\n",
    "        df['mask'] = 'no'\n",
    "        df['Sound'] = 'mono'\n",
    "        df.columns = ['mean_dispersion_all_transitions', 'mask','Sound']\n",
    "        mean_dispersion_all_transitions = mean_dispersion_all_transitions.append(df)\n",
    "    else:\n",
    "        print(\"error\")\n",
    "mean_dispersion_all_transitions['mean_dispersion_all_transitions'] = pd.to_numeric(df['mean_dispersion_all_transitions'],errors = 'coerce')\n",
    "        \n",
    "print(mean_dispersion_all_transitions.groupby('mask')['mean_dispersion_all_transitions'].mean().T)\n",
    "print(mean_dispersion_all_transitions.groupby('mask')['mean_dispersion_all_transitions'].std().T)\n",
    "print(mean_dispersion_all_transitions.groupby('Sound')['mean_dispersion_all_transitions'].mean().T)\n",
    "print(mean_dispersion_all_transitions.groupby('Sound')['mean_dispersion_all_transitions'].std().T)"
   ]
  },
  {
   "cell_type": "code",
   "execution_count": 553,
   "metadata": {},
   "outputs": [],
   "source": [
    "mean_dispersion_all_transitions.to_csv(\"mean_dispersion_all_transitions.csv\", index = False)"
   ]
  },
  {
   "cell_type": "code",
   "execution_count": 557,
   "metadata": {},
   "outputs": [
    {
     "name": "stdout",
     "output_type": "stream",
     "text": [
      "mask\n",
      "no     15.898706\n",
      "yes    16.054101\n",
      "Name: mean_dispersion_interruption, dtype: float64\n",
      "mask\n",
      "no     4.108529\n",
      "yes    4.249273\n",
      "Name: mean_dispersion_interruption, dtype: float64\n",
      "Sound\n",
      "binaural    16.126366\n",
      "head        16.126366\n",
      "mono        15.658549\n",
      "Name: mean_dispersion_interruption, dtype: float64\n",
      "Sound\n",
      "binaural    4.238106\n",
      "head        4.238106\n",
      "mono        4.201368\n",
      "Name: mean_dispersion_interruption, dtype: float64\n"
     ]
    }
   ],
   "source": [
    "for col in mean_dispersion_interruption_new.columns:\n",
    "    if col == 'mono_mask':\n",
    "        mean_dispersion_interruption = mean_dispersion_interruption_new[mean_dispersion_interruption_new[col] !=\" \"][[col]]\n",
    "        mean_dispersion_interruption['mask'] = 'yes'\n",
    "        mean_dispersion_interruption['Sound'] = 'mono'\n",
    "        mean_dispersion_interruption.columns = ['mean_dispersion_interruption', 'mask','Sound']\n",
    "    elif col == 'head_mask':\n",
    "        df = mean_dispersion_interruption_new[mean_dispersion_interruption_new[col] !=\" \"][[col]]\n",
    "        df['mask'] = 'yes'\n",
    "        df['Sound'] = 'head'\n",
    "        df.columns = ['mean_dispersion_interruption', 'mask','Sound']\n",
    "        mean_dispersion_interruption = mean_dispersion_interruption.append(df)\n",
    "    elif col == 'spatial':\n",
    "        df = mean_dispersion_interruption_new[mean_dispersion_interruption_new[col] !=\" \"][[col]]\n",
    "        df['mask'] = 'no'\n",
    "        df['Sound'] = 'binaural'\n",
    "        df.columns = ['mean_dispersion_interruption', 'mask','Sound']\n",
    "        mean_dispersion_interruption = mean_dispersion_interruption.append(df)\n",
    "    elif col == 'head':\n",
    "        df = mean_dispersion_interruption_new[mean_dispersion_interruption_new[col] !=\" \"][[col]]\n",
    "        df['mask'] = 'no'\n",
    "        df['Sound'] = 'head'\n",
    "        df.columns = ['mean_dispersion_interruption', 'mask','Sound']\n",
    "        mean_dispersion_interruption = mean_dispersion_interruption.append(df)\n",
    "    elif col == 'spatial_mask':\n",
    "        df = mean_dispersion_interruption_new[mean_dispersion_interruption_new[col] !=\" \"][[col]]\n",
    "        df['mask'] = 'yes'\n",
    "        df['Sound'] = 'binaural'\n",
    "        df.columns = ['mean_dispersion_interruption', 'mask','Sound']\n",
    "        mean_dispersion_interruption = mean_dispersion_interruption.append(df)\n",
    "    elif col == 'mono':\n",
    "        df = mean_dispersion_interruption_new[mean_dispersion_interruption_new[col] !=\" \"][[col]]\n",
    "        df['mask'] = 'no'\n",
    "        df['Sound'] = 'mono'\n",
    "        df.columns = ['mean_dispersion_interruption', 'mask','Sound']\n",
    "        mean_dispersion_interruption = mean_dispersion_interruption.append(df)\n",
    "    else:\n",
    "        print(\"error\")\n",
    "mean_dispersion_interruption['mean_dispersion_interruption'] = pd.to_numeric(df['mean_dispersion_interruption'],errors = 'coerce')\n",
    "        \n",
    "print(mean_dispersion_interruption.groupby('mask')['mean_dispersion_interruption'].mean().T)\n",
    "print(mean_dispersion_interruption.groupby('mask')['mean_dispersion_interruption'].std().T)\n",
    "print(mean_dispersion_interruption.groupby('Sound')['mean_dispersion_interruption'].mean().T)\n",
    "print(mean_dispersion_interruption.groupby('Sound')['mean_dispersion_interruption'].std().T)"
   ]
  },
  {
   "cell_type": "code",
   "execution_count": 554,
   "metadata": {},
   "outputs": [],
   "source": [
    "mean_dispersion_interruption.to_csv(\"mean_dispersion_interruption.csv\", index = False)"
   ]
  },
  {
   "cell_type": "markdown",
   "metadata": {},
   "source": [
    "# Multilevel Hidden Markov Model"
   ]
  },
  {
   "cell_type": "markdown",
   "metadata": {},
   "source": [
    "#### Generate speaker path per frame"
   ]
  },
  {
   "cell_type": "markdown",
   "metadata": {},
   "source": [
    "Update the sound direction log: distinguish front (as peudo right and peudo left)"
   ]
  },
  {
   "cell_type": "code",
   "execution_count": 125,
   "metadata": {},
   "outputs": [],
   "source": [
    "# speech act\n",
    "dfs_speaker_event = [pd.read_csv('./data/event_timestamp/dialog'+str(i)+'_speaker_events.csv') for i in range(1,7)]\n",
    "\n",
    "# sound direction\n",
    "dfs_event = [pd.read_csv('./data/event_timestamp/event_timestamp_dialog'+str(i)+'.csv', sep=';') for i in range(1,7)]\n",
    "\n",
    "# sound direction new\n",
    "dfs_event_new = [pd.read_csv('./data/event_timestamp_new/event_timestamp_dialog'+str(i)+'.csv', sep=',') for i in range(1,7)]\n",
    "\n"
   ]
  },
  {
   "cell_type": "markdown",
   "metadata": {},
   "source": [
    "Visualising the dialog"
   ]
  },
  {
   "cell_type": "code",
   "execution_count": 76,
   "metadata": {},
   "outputs": [],
   "source": [
    "dialog_durations = []\n",
    "dialog_name = ['dialog1_normal_mask','dialog2_head_mask','dialog3_spatial','dialog4_head','dialog5_spatial_mask','dialog6_normal']\n",
    "dialog_durations.append(dialog_name)\n",
    "dialog_durations.append([143800,116400,130240,104200,124160,135200])\n",
    "dialog_durations = pd.DataFrame(dialog_durations, columns=dialog_durations.pop(0))\n",
    "frame_length = [3595,2910,3256,2605,3104,3380]"
   ]
  },
  {
   "cell_type": "code",
   "execution_count": 77,
   "metadata": {},
   "outputs": [],
   "source": [
    "# dfs_event_new[1][dfs_event_new[1]['event'].str.contains('sound')][[\"frame_number\",\"event\"]]"
   ]
  },
  {
   "cell_type": "markdown",
   "metadata": {},
   "source": [
    "Plot events in the dialogs"
   ]
  },
  {
   "cell_type": "code",
   "execution_count": null,
   "metadata": {},
   "outputs": [],
   "source": [
    "color_direction = ['r','orange','g','grey'] #left, front, right, none, peudo-left, peudo-right,\n",
    "nb_speech_acts = {}\n",
    "for i in range(0,6):\n",
    "    plt.figure(figsize=(15,1))\n",
    "    plt.title('Speech act in '+dialog_durations.keys().values[i])\n",
    "    df = dfs_speaker_event[i] \n",
    "    last_frame = int(dialog_durations.iloc[:, [i]].values[0]/40)\n",
    "    \n",
    "    sound_df = dfs_event[i]\n",
    "    sound_df_new = dfs_event_new[i]\n",
    "    sound_dir = sound_df[sound_df['event'].str.contains('sound')][[\"frame_number\",\"event\"]].values\n",
    "    sound_dir_new = sound_df_new[sound_df_new['event'].str.contains('sound')][[\"frame_number\",\"event\"]].values\n",
    "   \n",
    "    count_left = 0\n",
    "    count_front = 0\n",
    "    count_right = 0\n",
    "    count_sound_changes = 0\n",
    "    \n",
    "    #plot sound direction - come from event_timestamp_dialogx (this is the binaural audio)\n",
    "    if sound_dir[0][1] == 'no_sound_direction':\n",
    "        y = 4\n",
    "        plt.hlines(y,1,last_frame, colors=color_direction[3], linewidth=10, label='mono')\n",
    "    else:\n",
    "        for j in range(0,len(sound_dir)):\n",
    "            direction = sound_dir[j][1]\n",
    "            sound_start = sound_dir[j][0]\n",
    "            \n",
    "            if j < len(sound_dir)-1:\n",
    "                next_sound_start = sound_dir[j+1][0]\n",
    "            else:\n",
    "                next_sound_start = last_frame\n",
    "                \n",
    "            if direction == 'sound_left':\n",
    "                count_sound_changes += 1\n",
    "                y = 5\n",
    "                plt.hlines(y,sound_start,next_sound_start, colors=color_direction[0], linewidth=10)\n",
    "            elif direction == 'sound_front':\n",
    "                count_sound_changes += 1\n",
    "                y = 5\n",
    "                plt.hlines(y,sound_start,next_sound_start, colors=color_direction[1], linewidth=10)\n",
    "            else:\n",
    "                count_sound_changes += 1\n",
    "                y = 5\n",
    "                plt.hlines(y,sound_start,next_sound_start, colors=color_direction[2], linewidth=10)\n",
    "    "
   ]
  },
  {
   "cell_type": "markdown",
   "metadata": {},
   "source": [
    "Plot speech act"
   ]
  },
  {
   "cell_type": "code",
   "execution_count": 78,
   "metadata": {},
   "outputs": [
    {
     "data": {
      "image/png": "[encoded data removed]",
      "text/plain": [
       "<Figure size 1080x72 with 1 Axes>"
      ]
     },
     "metadata": {
      "needs_background": "light"
     },
     "output_type": "display_data"
    },
    {
     "name": "stdout",
     "output_type": "stream",
     "text": [
      "Nb of sound changes: 0\n",
      "Nb of speech act of actor on left: 15\n",
      "Nb of speech act of actor on front: 13\n",
      "Nb of speech act of actor on right: 16\n",
      "Total nb of speech act: 44\n"
     ]
    },
    {
     "data": {
      "image/png": "[encoded data removed]",
      "text/plain": [
       "<Figure size 1080x72 with 1 Axes>"
      ]
     },
     "metadata": {
      "needs_background": "light"
     },
     "output_type": "display_data"
    },
    {
     "name": "stdout",
     "output_type": "stream",
     "text": [
      "Nb of sound changes: 36\n",
      "Nb of speech act of actor on left: 15\n",
      "Nb of speech act of actor on front: 17\n",
      "Nb of speech act of actor on right: 13\n",
      "Total nb of speech act: 45\n"
     ]
    },
    {
     "data": {
      "image/png": "[encoded data removed]",
      "text/plain": [
       "<Figure size 1080x72 with 1 Axes>"
      ]
     },
     "metadata": {
      "needs_background": "light"
     },
     "output_type": "display_data"
    },
    {
     "name": "stdout",
     "output_type": "stream",
     "text": [
      "Nb of sound changes: 23\n",
      "Nb of speech act of actor on left: 19\n",
      "Nb of speech act of actor on front: 14\n",
      "Nb of speech act of actor on right: 18\n",
      "Total nb of speech act: 51\n"
     ]
    },
    {
     "data": {
      "image/png": "[encoded data removed]",
      "text/plain": [
       "<Figure size 1080x72 with 1 Axes>"
      ]
     },
     "metadata": {
      "needs_background": "light"
     },
     "output_type": "display_data"
    },
    {
     "name": "stdout",
     "output_type": "stream",
     "text": [
      "Nb of sound changes: 39\n",
      "Nb of speech act of actor on left: 13\n",
      "Nb of speech act of actor on front: 17\n",
      "Nb of speech act of actor on right: 13\n",
      "Total nb of speech act: 43\n"
     ]
    },
    {
     "data": {
      "image/png": "[encoded data removed]",
      "text/plain": [
       "<Figure size 1080x72 with 1 Axes>"
      ]
     },
     "metadata": {
      "needs_background": "light"
     },
     "output_type": "display_data"
    },
    {
     "name": "stdout",
     "output_type": "stream",
     "text": [
      "Nb of sound changes: 31\n",
      "Nb of speech act of actor on left: 10\n",
      "Nb of speech act of actor on front: 15\n",
      "Nb of speech act of actor on right: 17\n",
      "Total nb of speech act: 42\n"
     ]
    },
    {
     "data": {
      "image/png": "[encoded data removed]",
      "text/plain": [
       "<Figure size 1080x72 with 1 Axes>"
      ]
     },
     "metadata": {
      "needs_background": "light"
     },
     "output_type": "display_data"
    },
    {
     "name": "stdout",
     "output_type": "stream",
     "text": [
      "Nb of sound changes: 0\n",
      "Nb of speech act of actor on left: 11\n",
      "Nb of speech act of actor on front: 19\n",
      "Nb of speech act of actor on right: 24\n",
      "Total nb of speech act: 54\n"
     ]
    }
   ],
   "source": [
    "color_direction = ['r','orange','g','grey'] #left, front, right, none, peudo-left, peudo-right,\n",
    "nb_speech_acts = {}\n",
    "for i in range(0,6):\n",
    "    plt.figure(figsize=(15,1))\n",
    "    plt.title('Speech act in '+dialog_durations.keys().values[i])\n",
    "    df = dfs_speaker_event[i] \n",
    "    last_frame = int(dialog_durations.iloc[:, [i]].values[0]/40)\n",
    "    \n",
    "    sound_df = dfs_event[i]\n",
    "    sound_df_new = dfs_event_new[i]\n",
    "    sound_dir = sound_df[sound_df['event'].str.contains('sound')][[\"frame_number\",\"event\"]].values\n",
    "    sound_dir_new = sound_df_new[sound_df_new['event'].str.contains('sound')][[\"frame_number\",\"event\"]].values\n",
    "   \n",
    "    count_left = 0\n",
    "    count_front = 0\n",
    "    count_right = 0\n",
    "    count_sound_changes = 0\n",
    "    \n",
    "    #plot sound direction - come from event_timestamp_dialogx (this is the binaural audio)\n",
    "    if sound_dir[0][1] == 'no_sound_direction':\n",
    "        y = 4\n",
    "        plt.hlines(y,1,last_frame, colors=color_direction[3], linewidth=10, label='mono')\n",
    "    else:\n",
    "        for j in range(0,len(sound_dir)):\n",
    "            direction = sound_dir[j][1]\n",
    "            sound_start = sound_dir[j][0]\n",
    "            \n",
    "            if j < len(sound_dir)-1:\n",
    "                next_sound_start = sound_dir[j+1][0]\n",
    "            else:\n",
    "                next_sound_start = last_frame\n",
    "                \n",
    "            if direction == 'sound_left':\n",
    "                count_sound_changes += 1\n",
    "                y = 5\n",
    "                plt.hlines(y,sound_start,next_sound_start, colors=color_direction[0], linewidth=10)\n",
    "            elif direction == 'sound_front':\n",
    "                count_sound_changes += 1\n",
    "                y = 5\n",
    "                plt.hlines(y,sound_start,next_sound_start, colors=color_direction[1], linewidth=10)\n",
    "            else:\n",
    "                count_sound_changes += 1\n",
    "                y = 5\n",
    "                plt.hlines(y,sound_start,next_sound_start, colors=color_direction[2], linewidth=10)\n",
    "    \n",
    "    if i==1 or i==3: # dialog 2 and 4: head rotation condition:\n",
    "        for j in range(0,len(sound_dir_new)):\n",
    "            direction_new = sound_dir_new[j][1]\n",
    "            sound_start_new = sound_dir_new[j][0]\n",
    "            \n",
    "            if j < len(sound_dir_new)-1:\n",
    "                next_sound_start_new = sound_dir_new[j+1][0]\n",
    "            else:\n",
    "                next_sound_start_new = last_frame\n",
    "                \n",
    "            if direction_new == 'sound_left':\n",
    "                y = 4\n",
    "                plt.hlines(y,sound_start_new,next_sound_start_new, colors=color_direction[0], linewidth=10)\n",
    "            elif direction_new == 'sound_right':\n",
    "                y = 4\n",
    "                plt.hlines(y,sound_start_new,next_sound_start_new, colors=color_direction[2], linewidth=10)\n",
    "            elif direction_new == 'sound_peudo_front_l':\n",
    "                y = 4\n",
    "                plt.hlines(y,sound_start_new,next_sound_start_new, colors=color_direction[0], linewidth=10, alpha = 0.6)\n",
    "            elif direction_new == 'sound_peudo_front_r':\n",
    "                y = 4\n",
    "                plt.hlines(y,sound_start_new,next_sound_start_new, colors=color_direction[2], linewidth=10, alpha = 0.6)\n",
    "            else:\n",
    "                y = 4\n",
    "                plt.hlines(y,sound_start_new,next_sound_start_new, colors=color_direction[1], linewidth=10)\n",
    "                \n",
    "    \n",
    "    #plot act of speech (come from dialogx_speaker_events, this is the real act dfs_speaker_event)\n",
    "    for j in range(0,len(df)):\n",
    "        speaker = df.loc[(df.index == j), \"speaker\"].values[0]\n",
    "        x_start = df.loc[(df.index == j), \"frame_start\"].values[0]\n",
    "        x_end = df.loc[(df.index == j), \"frame_end\"].values[0]\n",
    "        event = df.loc[(df.index == j), \"event\"].values[0]\n",
    "        if speaker == 'speaker_left':\n",
    "            count_left += 1\n",
    "            y = 3\n",
    "            plt.hlines(y,x_start,x_end, colors=color_direction[0], linewidth=10, label='left')\n",
    "            #plt.text(y, x_start+(x_end-x_start)/2, event)\n",
    "        elif speaker == 'speaker_front':\n",
    "            count_front += 1\n",
    "            y = 2\n",
    "            plt.hlines(y,x_start,x_end, colors=color_direction[1], linewidth=10, label='front')\n",
    "            #plt.text(y, x_start+(x_end-x_start)/2, event)\n",
    "        else:\n",
    "            count_right += 1\n",
    "            y = 1\n",
    "            plt.hlines(y,x_start,x_end, colors=color_direction[2], linewidth=10, label='right')\n",
    "            #plt.text(y, x_start+(x_end-x_start)/2, event)\n",
    "    handles, labels = plt.gca().get_legend_handles_labels()\n",
    "    by_label = dict(zip(labels, handles))\n",
    "    plt.legend(by_label.values(), by_label.keys(),loc='lower left', bbox_to_anchor=(1, 0))\n",
    "    plt.xlabel('Frames')\n",
    "    #plt.savefig(\"speech_act_dialog\"+str(i+1)+\".pdf\", bbox_inches='tight')\n",
    "    plt.show()\n",
    "    print('Nb of sound changes: '+str(count_sound_changes))\n",
    "    print('Nb of speech act of actor on left: '+str(count_left))\n",
    "    print('Nb of speech act of actor on front: '+str(count_front))\n",
    "    print('Nb of speech act of actor on right: '+str(count_right))\n",
    "    print('Total nb of speech act: '+str(count_right+count_left+count_front))\n",
    "    nb_speech_acts[i] = count_right+count_left+count_front"
   ]
  },
  {
   "cell_type": "code",
   "execution_count": 81,
   "metadata": {},
   "outputs": [
    {
     "name": "stdout",
     "output_type": "stream",
     "text": [
      "speaker: speaker_left frame start: 7 frame end: 39 event: greetings\n",
      "speaker: speaker_right frame start: 39 frame end: 57 event: greetings\n",
      "speaker: speaker_front frame start: 39 frame end: 57 event: greetings\n",
      "speaker: speaker_left frame start: 58 frame end: 400 event: intro_proposal\n",
      "speaker: speaker_front frame start: 417 frame end: 615 event: obj_proposal\n",
      "speaker: speaker_left frame start: 485 frame end: 500 event: interjection\n",
      "speaker: speaker_left frame start: 640 frame end: 745 event: answer\n",
      "speaker: speaker_right frame start: 745 frame end: 870 event: need_info\n",
      "speaker: speaker_left frame start: 880 frame end: 1460 event: share_info\n",
      "speaker: speaker_right frame start: 973 frame end: 983 event: interjection\n",
      "speaker: speaker_front frame start: 1442 frame end: 1530 event: interuption\n",
      "speaker: speaker_front frame start: 1554 frame end: 1789 event: share_info\n",
      "speaker: speaker_left frame start: 1745 frame end: 1765 event: interjection\n",
      "speaker: speaker_right frame start: 1841 frame end: 2250 event: share_info\n",
      "speaker: speaker_right frame start: 2265 frame end: 2400 event: init_discussion\n",
      "speaker: speaker_left frame start: 2387 frame end: 2455 event: answer\n",
      "speaker: speaker_right frame start: 2455 frame end: 2468 event: interjection\n",
      "speaker: speaker_front frame start: 2468 frame end: 2481 event: answer\n",
      "speaker: speaker_right frame start: 2481 frame end: 2605 event: answer\n",
      "speaker: speaker_left frame start: 2613 frame end: 2695 event: answer\n",
      "speaker: speaker_right frame start: 2707 frame end: 2719 event: interjection\n",
      "speaker: speaker_right frame start: 2726 frame end: 2755 event: answer\n",
      "speaker: speaker_front frame start: 2739 frame end: 2769 event: interuption\n",
      "speaker: speaker_right frame start: 2770 frame end: 2780 event: interjection\n",
      "speaker: speaker_front frame start: 2780 frame end: 2795 event: interjection\n",
      "speaker: speaker_left frame start: 2795 frame end: 2815 event: interjection\n",
      "speaker: speaker_front frame start: 2827 frame end: 2910 event: open_question\n",
      "speaker: speaker_left frame start: 2933 frame end: 3250 event: discuss_open_question\n",
      "speaker: speaker_front frame start: 3228 frame end: 3245 event: interjection\n",
      "speaker: speaker_right frame start: 3251 frame end: 3317 event: discuss_open_question\n",
      "speaker: speaker_left frame start: 3328 frame end: 3333 event: interjection\n",
      "speaker: speaker_right frame start: 3341 frame end: 3349 event: interjection\n",
      "speaker: speaker_front frame start: 3342 frame end: 3385 event: discuss_open_question\n",
      "speaker: speaker_right frame start: 3390 frame end: 3401 event: interjection\n",
      "speaker: speaker_left frame start: 3396 frame end: 3401 event: interjection\n",
      "speaker: speaker_left frame start: 3403 frame end: 3415 event: discuss_open_question\n",
      "speaker: speaker_right frame start: 3406 frame end: 3495 event: discuss_open_question\n",
      "speaker: speaker_front frame start: 3483 frame end: 3492 event: interjection\n",
      "speaker: speaker_left frame start: 3502 frame end: 3530 event: conclusion\n",
      "speaker: speaker_right frame start: 3532 frame end: 3550 event: interjection\n",
      "speaker: speaker_front frame start: 3536 frame end: 3555 event: bye\n",
      "speaker: speaker_left frame start: 3552 frame end: 3565 event: bye\n",
      "speaker: speaker_right frame start: 3568 frame end: 3590 event: bye\n",
      "speaker: speaker_front frame start: 3568 frame end: 3590 event: bye\n",
      "speaker: speaker_left frame start: 9 frame end: 33 event: greetings\n",
      "speaker: speaker_right frame start: 9 frame end: 33 event: greetings\n",
      "speaker: speaker_front frame start: 9 frame end: 33 event: greetings\n",
      "speaker: speaker_left frame start: 37 frame end: 275 event: intro_proposal\n",
      "speaker: speaker_right frame start: 298 frame end: 430 event: obj_proposal\n",
      "speaker: speaker_left frame start: 438 frame end: 453 event: interjection\n",
      "speaker: speaker_front frame start: 460 frame end: 605 event: need_info\n",
      "speaker: speaker_left frame start: 557 frame end: 565 event: interjection\n",
      "speaker: speaker_left frame start: 619 frame end: 795 event: share_info\n",
      "speaker: speaker_front frame start: 704 frame end: 715 event: interjection\n",
      "speaker: speaker_front frame start: 810 frame end: 1023 event: share_info\n",
      "speaker: speaker_left frame start: 1032 frame end: 1053 event: interjection\n",
      "speaker: speaker_right frame start: 1067 frame end: 1170 event: share_info\n",
      "speaker: speaker_left frame start: 1188 frame end: 1530 event: share_info\n",
      "speaker: speaker_right frame start: 1517 frame end: 1625 event: interuption\n",
      "speaker: speaker_left frame start: 1625 frame end: 1640 event: interjection\n",
      "speaker: speaker_right frame start: 1640 frame end: 1670 event: interjection\n",
      "speaker: speaker_front frame start: 1675 frame end: 1920 event: init_discussion\n",
      "speaker: speaker_left frame start: 1875 frame end: 1910 event: answer\n",
      "speaker: speaker_front frame start: 1930 frame end: 2128 event: answer\n",
      "speaker: speaker_right frame start: 2089 frame end: 2105 event: interjection\n",
      "speaker: speaker_right frame start: 2133 frame end: 2206 event: open_question\n",
      "speaker: speaker_left frame start: 2210 frame end: 2285 event: discuss_open_question\n",
      "speaker: speaker_front frame start: 2228 frame end: 2255 event: discuss_open_question\n",
      "speaker: speaker_front frame start: 2271 frame end: 2285 event: interjection\n",
      "speaker: speaker_front frame start: 2289 frame end: 2388 event: discuss_open_question\n",
      "speaker: speaker_right frame start: 2395 frame end: 2403 event: interjection\n",
      "speaker: speaker_left frame start: 2405 frame end: 2425 event: discuss_open_question\n",
      "speaker: speaker_front frame start: 2407 frame end: 2425 event: interjection\n",
      "speaker: speaker_right frame start: 2427 frame end: 2450 event: discuss_open_question\n",
      "speaker: speaker_front frame start: 2435 frame end: 2450 event: interjection\n",
      "speaker: speaker_front frame start: 2454 frame end: 2550 event: discuss_open_question\n",
      "speaker: speaker_right frame start: 2472 frame end: 2495 event: interjection\n",
      "speaker: speaker_left frame start: 2552 frame end: 2705 event: discuss_open_question\n",
      "speaker: speaker_front frame start: 2706 frame end: 2722 event: interjection\n",
      "speaker: speaker_front frame start: 2730 frame end: 2759 event: discuss_open_question\n",
      "speaker: speaker_left frame start: 2760 frame end: 2773 event: interjection\n",
      "speaker: speaker_front frame start: 2775 frame end: 2790 event: conclusion\n",
      "speaker: speaker_left frame start: 2791 frame end: 2797 event: interjection\n",
      "speaker: speaker_front frame start: 2798 frame end: 2812 event: interjection\n",
      "speaker: speaker_right frame start: 2812 frame end: 2822 event: interjection\n",
      "speaker: speaker_left frame start: 2824 frame end: 2855 event: conclusion\n",
      "speaker: speaker_right frame start: 2828 frame end: 2850 event: bye\n",
      "speaker: speaker_front frame start: 2858 frame end: 2870 event: bye\n",
      "speaker: speaker_right frame start: 2870 frame end: 2885 event: bye\n",
      "speaker: speaker_front frame start: 7 frame end: 51 event: greetings\n",
      "speaker: speaker_right frame start: 51 frame end: 62 event: greetings\n",
      "speaker: speaker_left frame start: 62 frame end: 80 event: greetings\n",
      "speaker: speaker_front frame start: 85 frame end: 320 event: intro_proposal\n",
      "speaker: speaker_left frame start: 320 frame end: 485 event: obj_proposal\n",
      "speaker: speaker_front frame start: 460 frame end: 470 event: interjection\n",
      "speaker: speaker_front frame start: 485 frame end: 495 event: interjection\n",
      "speaker: speaker_right frame start: 496 frame end: 625 event: need_info\n",
      "speaker: speaker_front frame start: 635 frame end: 970 event: share_info\n",
      "speaker: speaker_right frame start: 750 frame end: 760 event: interjection\n",
      "speaker: speaker_left frame start: 950 frame end: 1105 event: interuption\n",
      "speaker: speaker_front frame start: 1106 frame end: 1110 event: interjection\n",
      "speaker: speaker_left frame start: 1126 frame end: 1435 event: share_info\n",
      "speaker: speaker_right frame start: 1384 frame end: 1389 event: interjection\n",
      "speaker: speaker_right frame start: 1439 frame end: 1450 event: interjection\n",
      "speaker: speaker_right frame start: 1450 frame end: 1745 event: share_info\n",
      "speaker: speaker_front frame start: 1755 frame end: 1765 event: interjection\n",
      "speaker: speaker_left frame start: 1760 frame end: 1773 event: interjection\n",
      "speaker: speaker_right frame start: 1775 frame end: 1783 event: interjection\n",
      "speaker: speaker_left frame start: 1800 frame end: 1812 event: interjection\n",
      "speaker: speaker_right frame start: 1814 frame end: 1890 event: init_discussion\n",
      "speaker: speaker_front frame start: 1908 frame end: 1950 event: answer\n",
      "speaker: speaker_left frame start: 1924 frame end: 1950 event: answer\n",
      "speaker: speaker_front frame start: 1955 frame end: 1965 event: interjection\n",
      "speaker: speaker_left frame start: 1956 frame end: 1980 event: answer\n",
      "speaker: speaker_right frame start: 1965 frame end: 1971 event: interjection\n",
      "speaker: speaker_right frame start: 1981 frame end: 2280 event: answer\n",
      "speaker: speaker_left frame start: 2284 frame end: 2300 event: interjection\n",
      "speaker: speaker_right frame start: 2310 frame end: 2315 event: interjection\n",
      "speaker: speaker_left frame start: 2315 frame end: 2350 event: answer\n",
      "speaker: speaker_front frame start: 2316 frame end: 2350 event: interjection\n",
      "speaker: speaker_left frame start: 2355 frame end: 2365 event: interjection\n",
      "speaker: speaker_left frame start: 2373 frame end: 2660 event: open_question\n",
      "speaker: speaker_right frame start: 2673 frame end: 2695 event: interjection\n",
      "speaker: speaker_left frame start: 2685 frame end: 2720 event: discuss_open_question\n",
      "speaker: speaker_front frame start: 2720 frame end: 2813 event: discuss_open_question\n",
      "speaker: speaker_right frame start: 2724 frame end: 2735 event: interjection\n",
      "speaker: speaker_left frame start: 2778 frame end: 2788 event: interjection\n",
      "speaker: speaker_right frame start: 2815 frame end: 3017 event: discuss_open_question\n",
      "speaker: speaker_front frame start: 3017 frame end: 3026 event: interjection\n",
      "speaker: speaker_left frame start: 3027 frame end: 3052 event: interjection\n",
      "speaker: speaker_left frame start: 3058 frame end: 3110 event: conclusion\n",
      "speaker: speaker_right frame start: 3067 frame end: 3080 event: conclusion\n",
      "speaker: speaker_right frame start: 3115 frame end: 3140 event: interjection\n",
      "speaker: speaker_front frame start: 3140 frame end: 3155 event: interjection\n",
      "speaker: speaker_left frame start: 3140 frame end: 3155 event: interjection\n",
      "speaker: speaker_left frame start: 3155 frame end: 3177 event: interjection\n",
      "speaker: speaker_right frame start: 3155 frame end: 3177 event: bye\n",
      "speaker: speaker_left frame start: 3180 frame end: 3210 event: bye\n",
      "speaker: speaker_right frame start: 3180 frame end: 3210 event: bye\n",
      "speaker: speaker_front frame start: 3212 frame end: 3255 event: bye\n",
      "speaker: speaker_right frame start: 22 frame end: 50 event: greetings\n",
      "speaker: speaker_left frame start: 50 frame end: 60 event: greetings\n",
      "speaker: speaker_front frame start: 62 frame end: 78 event: greetings\n",
      "speaker: speaker_right frame start: 79 frame end: 300 event: intro_proposal\n",
      "speaker: speaker_left frame start: 314 frame end: 440 event: obj_proposal\n",
      "speaker: speaker_right frame start: 441 frame end: 453 event: interjection\n",
      "speaker: speaker_front frame start: 456 frame end: 675 event: need_info\n",
      "speaker: speaker_right frame start: 644 frame end: 656 event: interuption\n",
      "speaker: speaker_right frame start: 680 frame end: 1110 event: share_info\n",
      "speaker: speaker_front frame start: 785 frame end: 790 event: interjection\n",
      "speaker: speaker_front frame start: 945 frame end: 952 event: interjection\n",
      "speaker: speaker_left frame start: 1088 frame end: 1157 event: interuption\n",
      "speaker: speaker_left frame start: 1160 frame end: 1335 event: share_info\n",
      "speaker: speaker_front frame start: 1345 frame end: 1360 event: interjection\n",
      "speaker: speaker_front frame start: 1375 frame end: 1435 event: init_discussion\n",
      "speaker: speaker_left frame start: 1455 frame end: 1485 event: answer\n",
      "speaker: speaker_front frame start: 1455 frame end: 1485 event: answer\n",
      "speaker: speaker_right frame start: 1455 frame end: 1485 event: answer\n",
      "speaker: speaker_front frame start: 1490 frame end: 1595 event: answer\n",
      "speaker: speaker_right frame start: 1615 frame end: 1630 event: interjection\n",
      "speaker: speaker_front frame start: 1615 frame end: 1735 event: answer\n",
      "speaker: speaker_left frame start: 1740 frame end: 1755 event: interjection\n",
      "speaker: speaker_left frame start: 1760 frame end: 1955 event: open_question\n",
      "speaker: speaker_front frame start: 1965 frame end: 1973 event: interjection\n",
      "speaker: speaker_left frame start: 1975 frame end: 2117 event: discuss_open_question\n",
      "speaker: speaker_front frame start: 2074 frame end: 2085 event: interjection\n",
      "speaker: speaker_front frame start: 2120 frame end: 2254 event: discuss_open_question\n",
      "speaker: speaker_right frame start: 2122 frame end: 2134 event: interjection\n",
      "speaker: speaker_left frame start: 2255 frame end: 2272 event: interjection\n",
      "speaker: speaker_right frame start: 2260 frame end: 2350 event: discuss_open_question\n",
      "speaker: speaker_front frame start: 2350 frame end: 2420 event: discuss_open_question\n",
      "speaker: speaker_left frame start: 2390 frame end: 2400 event: interjection\n",
      "speaker: speaker_right frame start: 2420 frame end: 2455 event: conclusion\n",
      "speaker: speaker_front frame start: 2458 frame end: 2490 event: conclusion\n",
      "speaker: speaker_left frame start: 2494 frame end: 2505 event: interjection\n",
      "speaker: speaker_right frame start: 2499 frame end: 2519 event: interjection\n",
      "speaker: speaker_left frame start: 2509 frame end: 2520 event: interjection\n",
      "speaker: speaker_front frame start: 2509 frame end: 2520 event: interjection\n",
      "speaker: speaker_right frame start: 2528 frame end: 2535 event: interjection\n",
      "speaker: speaker_front frame start: 2540 frame end: 2550 event: interjection\n",
      "speaker: speaker_right frame start: 2540 frame end: 2560 event: bye\n",
      "speaker: speaker_left frame start: 2556 frame end: 2570 event: bye\n",
      "speaker: speaker_front frame start: 2569 frame end: 2590 event: bye\n",
      "speaker: speaker_right frame start: 9 frame end: 40 event: greetings\n",
      "speaker: speaker_front frame start: 40 frame end: 55 event: greetings\n",
      "speaker: speaker_right frame start: 42 frame end: 435 event: intro_proposal\n",
      "speaker: speaker_left frame start: 45 frame end: 55 event: greetings\n",
      "speaker: speaker_front frame start: 440 frame end: 655 event: obj_proposal\n",
      "speaker: speaker_right frame start: 677 frame end: 700 event: interjection\n",
      "speaker: speaker_left frame start: 682 frame end: 702 event: interjection\n",
      "speaker: speaker_right frame start: 703 frame end: 712 event: interjection\n",
      "speaker: speaker_left frame start: 715 frame end: 980 event: need_info\n",
      "speaker: speaker_front frame start: 983 frame end: 1105 event: share_info\n",
      "speaker: speaker_left frame start: 1119 frame end: 1125 event: interjection\n",
      "speaker: speaker_right frame start: 1128 frame end: 1142 event: interjection\n",
      "speaker: speaker_right frame start: 1148 frame end: 1748 event: share_info\n",
      "speaker: speaker_front frame start: 1351 frame end: 1363 event: interjection\n",
      "speaker: speaker_front frame start: 1726 frame end: 1740 event: interuption\n",
      "speaker: speaker_front frame start: 1751 frame end: 1906 event: interuption\n",
      "speaker: speaker_right frame start: 1910 frame end: 1945 event: interuption\n",
      "speaker: speaker_front frame start: 1936 frame end: 1975 event: interuption\n",
      "speaker: speaker_right frame start: 1955 frame end: 1965 event: interjection\n",
      "speaker: speaker_left frame start: 1982 frame end: 2109 event: init_discussion\n",
      "speaker: speaker_front frame start: 2119 frame end: 2175 event: answer\n",
      "speaker: speaker_right frame start: 2157 frame end: 2203 event: answer\n",
      "speaker: speaker_left frame start: 2205 frame end: 2435 event: answer\n",
      "speaker: speaker_front frame start: 2454 frame end: 2485 event: interjection\n",
      "speaker: speaker_right frame start: 2460 frame end: 2485 event: interjection\n",
      "speaker: speaker_front frame start: 2500 frame end: 2595 event: open_question\n",
      "speaker: speaker_left frame start: 2615 frame end: 2635 event: discuss_open_question\n",
      "speaker: speaker_right frame start: 2620 frame end: 2650 event: discuss_open_question\n",
      "speaker: speaker_front frame start: 2655 frame end: 2865 event: discuss_open_question\n",
      "speaker: speaker_right frame start: 2661 frame end: 2667 event: interjection\n",
      "speaker: speaker_right frame start: 2820 frame end: 2842 event: interjection\n",
      "speaker: speaker_right frame start: 2851 frame end: 2905 event: discuss_open_question\n",
      "speaker: speaker_front frame start: 2905 frame end: 2915 event: interjection\n",
      "speaker: speaker_left frame start: 2917 frame end: 2925 event: interjection\n",
      "speaker: speaker_right frame start: 2927 frame end: 2940 event: interjection\n",
      "speaker: speaker_front frame start: 2947 frame end: 2970 event: interjection\n",
      "speaker: speaker_right frame start: 2951 frame end: 2972 event: conclusion\n",
      "speaker: speaker_front frame start: 2976 frame end: 3010 event: conclusion\n",
      "speaker: speaker_left frame start: 3011 frame end: 3025 event: interjection\n",
      "speaker: speaker_left frame start: 3025 frame end: 3080 event: bye\n",
      "speaker: speaker_right frame start: 3025 frame end: 3080 event: bye\n",
      "speaker: speaker_front frame start: 3025 frame end: 3080 event: bye\n",
      "speaker: speaker_right frame start: 3 frame end: 25 event: greetings\n",
      "speaker: speaker_left frame start: 27 frame end: 55 event: greetings\n",
      "speaker: speaker_front frame start: 27 frame end: 55 event: greetings\n",
      "speaker: speaker_front frame start: 67 frame end: 410 event: intro_proposal\n",
      "speaker: speaker_right frame start: 420 frame end: 685 event: obj_proposal\n",
      "speaker: speaker_front frame start: 689 frame end: 699 event: interjection\n",
      "speaker: speaker_left frame start: 706 frame end: 811 event: need_info\n",
      "speaker: speaker_front frame start: 828 frame end: 984 event: share_info\n",
      "speaker: speaker_right frame start: 905 frame end: 920 event: interjection\n",
      "speaker: speaker_left frame start: 1002 frame end: 1020 event: interjection\n",
      "speaker: speaker_right frame start: 1002 frame end: 1020 event: interjection\n",
      "speaker: speaker_front frame start: 1015 frame end: 1395 event: share_info\n",
      "speaker: speaker_right frame start: 1261 frame end: 1272 event: interjection\n",
      "speaker: speaker_right frame start: 1370 frame end: 1540 event: interuption\n",
      "speaker: speaker_front frame start: 1497 frame end: 1545 event: interuption\n",
      "speaker: speaker_right frame start: 1550 frame end: 1564 event: interjection\n",
      "speaker: speaker_right frame start: 1566 frame end: 1929 event: share_info\n",
      "speaker: speaker_front frame start: 1947 frame end: 1957 event: interjection\n",
      "speaker: speaker_right frame start: 1951 frame end: 2008 event: share_info\n",
      "speaker: speaker_front frame start: 2015 frame end: 2021 event: interjection\n",
      "speaker: speaker_left frame start: 2025 frame end: 2133 event: share_info\n",
      "speaker: speaker_right frame start: 2030 frame end: 2055 event: interuption\n",
      "speaker: speaker_right frame start: 2145 frame end: 2155 event: interjection\n",
      "speaker: speaker_left frame start: 2160 frame end: 2305 event: init_discussion\n",
      "speaker: speaker_front frame start: 2322 frame end: 2385 event: answer\n",
      "speaker: speaker_right frame start: 2389 frame end: 2430 event: answer\n",
      "speaker: speaker_left frame start: 2431 frame end: 2488 event: answer\n",
      "speaker: speaker_right frame start: 2492 frame end: 2515 event: interjection\n",
      "speaker: speaker_front frame start: 2497 frame end: 2515 event: interjection\n",
      "speaker: speaker_left frame start: 2507 frame end: 2538 event: answer\n",
      "speaker: speaker_right frame start: 2541 frame end: 2700 event: open_question\n",
      "speaker: speaker_front frame start: 2544 frame end: 2555 event: interjection\n",
      "speaker: speaker_front frame start: 2714 frame end: 2738 event: discuss_open_question\n",
      "speaker: speaker_left frame start: 2717 frame end: 2738 event: interuption\n"
     ]
    },
    {
     "name": "stdout",
     "output_type": "stream",
     "text": [
      "speaker: speaker_right frame start: 2738 frame end: 2797 event: discuss_open_question\n",
      "speaker: speaker_front frame start: 2801 frame end: 2851 event: discuss_open_question\n",
      "speaker: speaker_right frame start: 2838 frame end: 2845 event: interjection\n",
      "speaker: speaker_right frame start: 2861 frame end: 2937 event: conclusion\n",
      "speaker: speaker_front frame start: 2874 frame end: 2883 event: interjection\n",
      "speaker: speaker_front frame start: 2953 frame end: 3114 event: conclusion\n",
      "speaker: speaker_right frame start: 3017 frame end: 3024 event: interjection\n",
      "speaker: speaker_right frame start: 3114 frame end: 3125 event: interjection\n",
      "speaker: speaker_right frame start: 3128 frame end: 3200 event: conclusion\n",
      "speaker: speaker_front frame start: 3186 frame end: 3214 event: conclusion\n",
      "speaker: speaker_left frame start: 3205 frame end: 3212 event: interjection\n",
      "speaker: speaker_right frame start: 3214 frame end: 3260 event: conclusion\n",
      "speaker: speaker_front frame start: 3230 frame end: 3260 event: conclusion\n",
      "speaker: speaker_right frame start: 3272 frame end: 3287 event: interjection\n",
      "speaker: speaker_front frame start: 3272 frame end: 3287 event: interjection\n",
      "speaker: speaker_right frame start: 3293 frame end: 3309 event: interjection\n",
      "speaker: speaker_left frame start: 3298 frame end: 3309 event: interjection\n",
      "speaker: speaker_front frame start: 3315 frame end: 3379 event: bye\n",
      "speaker: speaker_right frame start: 3341 frame end: 3379 event: bye\n",
      "speaker: speaker_left frame start: 3350 frame end: 3379 event: bye\n"
     ]
    }
   ],
   "source": [
    "sound_direction_per_frame = [None] * 6\n",
    "speech_act_per_frame = [None] * 6\n",
    "sound_direction_per_frame_adjusted = [None] * 6\n",
    "\n",
    "\n",
    "for i in range(0,6):\n",
    "    speech_act_per_frame[i] = [None] * frame_length[i] # initialize as all silient: None\n",
    "    sound_direction_per_frame[i] = [None] * frame_length[i]\n",
    "    sound_direction_per_frame_adjusted[i] = [None] * frame_length[i]\n",
    "\n",
    "    df = dfs_speaker_event[i] \n",
    "    last_frame = int(dialog_durations.iloc[:, [i]].values[0]/40)\n",
    "    sound_df = dfs_event[i]\n",
    "    sound_dir = sound_df[sound_df['event'].str.contains('sound')][[\"frame_number\",\"event\"]].values\n",
    "    \n",
    "    sound_df_adjusted = dfs_event_new[i]\n",
    "    sound_dir_adjusted = sound_df_adjusted[sound_df_adjusted['event'].str.contains('sound')][[\"frame_number\",\"event\"]].values\n",
    "    \n",
    "    \n",
    "    #sound direction - come from event_timestamp_dialogx (this is the binaural audio)\n",
    "    if sound_dir[0][1] == 'no_sound_direction': # mono, no sound direction\n",
    "        for k in range(0, frame_length[i]):\n",
    "            sound_direction_per_frame[i][k] = 0\n",
    "    else:\n",
    "        for j in range(0,len(sound_dir)):\n",
    "            direction = sound_dir[j][1]\n",
    "            sound_start = sound_dir[j][0]\n",
    "            \n",
    "            if j < len(sound_dir)-1:\n",
    "                next_sound_start = sound_dir[j+1][0]\n",
    "            else:\n",
    "                next_sound_start = last_frame\n",
    "                \n",
    "            if direction == 'sound_left':\n",
    "                for k in range(sound_start, next_sound_start):\n",
    "                    sound_direction_per_frame[i][k] = 1 # left\n",
    "            elif direction == 'sound_front':\n",
    "                for k in range(sound_start, next_sound_start):\n",
    "                    sound_direction_per_frame[i][k] = 3 # front\n",
    "            else:\n",
    "                for k in range(sound_start, next_sound_start):\n",
    "                    sound_direction_per_frame[i][k] = 2 # right\n",
    "    \n",
    "    \n",
    "    #sound direction (adjusted with pseudo direction) - come from event_timestamp_dialogx (this is the binaural audio)\n",
    "    if i==1 or i==3: # dialog 2 and 4: head rotation condition:\n",
    "        for j in range(0,len(sound_dir_adjusted)):\n",
    "            direction = sound_dir_adjusted[j][1]\n",
    "            sound_start = sound_dir_adjusted[j][0]\n",
    "\n",
    "            if j < len(sound_dir_adjusted)-1:\n",
    "                next_sound_start = sound_dir_adjusted[j+1][0]\n",
    "            else:\n",
    "                next_sound_start = last_frame\n",
    "\n",
    "            if direction == 'sound_left':\n",
    "                for k in range(sound_start, next_sound_start):\n",
    "                    sound_direction_per_frame_adjusted[i][k] = 1 # left\n",
    "            elif direction == 'sound_right':\n",
    "                for k in range(sound_start, next_sound_start):\n",
    "                    sound_direction_per_frame_adjusted[i][k] = 2 # right\n",
    "            elif direction == 'sound_peudo_front_l':\n",
    "                for k in range(sound_start, next_sound_start):\n",
    "                    sound_direction_per_frame_adjusted[i][k] = 1 # left\n",
    "            elif direction == 'sound_peudo_front_r':\n",
    "                for k in range(sound_start, next_sound_start):\n",
    "                    sound_direction_per_frame_adjusted[i][k] = 2 # right\n",
    "            else:\n",
    "                for k in range(sound_start, next_sound_start):\n",
    "                    sound_direction_per_frame_adjusted[i][k] = 3 # front\n",
    "    \n",
    "    #act of speech (come from dialogx_speaker_events, this is the real act dfs_speaker_event)\n",
    "    for j in range(0,len(df)):\n",
    "        speaker = df.loc[(df.index == j), \"speaker\"].values[0]\n",
    "        x_start = df.loc[(df.index == j), \"frame_start\"].values[0]\n",
    "        x_end = df.loc[(df.index == j), \"frame_end\"].values[0]\n",
    "        event = df.loc[(df.index == j), \"event\"].values[0]\n",
    "        \n",
    "        print(\"speaker: \" + str(speaker) + \" frame start: \" + str(x_start) + \" frame end: \" + str(x_end) + \" event: \" + str(event))\n",
    "        \n",
    "        if speaker == 'speaker_left':\n",
    "            for k in range(x_start, x_end+1):\n",
    "                if speech_act_per_frame[i][k] == None:\n",
    "                    speech_act_per_frame[i][k] = [1] # left\n",
    "                else:\n",
    "                    speech_act_per_frame[i][k].append(1) # 2nd speaker: left\n",
    "        elif speaker == 'speaker_front':\n",
    "            for k in range(x_start, x_end+1):\n",
    "                if speech_act_per_frame[i][k] == None:\n",
    "                    speech_act_per_frame[i][k] = [3] # front\n",
    "                else:\n",
    "                    speech_act_per_frame[i][k].append(3) # 2nd speaker: front\n",
    "        elif speaker == 'speaker_right':\n",
    "            for k in range(x_start, x_end+1):\n",
    "                if speech_act_per_frame[i][k] == None:\n",
    "                    speech_act_per_frame[i][k] = [2] # right\n",
    "                else:\n",
    "                    speech_act_per_frame[i][k].append(2) # 2nd speaker: right\n",
    "        else:\n",
    "            print('error in tracking the speaker')\n",
    "    "
   ]
  },
  {
   "cell_type": "code",
   "execution_count": 82,
   "metadata": {},
   "outputs": [
    {
     "data": {
      "text/plain": [
       "[[1],\n",
       " [1, 2, 3],\n",
       " [2, 3],\n",
       " [2, 3],\n",
       " [2, 3],\n",
       " [2, 3],\n",
       " [2, 3],\n",
       " [2, 3],\n",
       " [2, 3],\n",
       " [2, 3],\n",
       " [2, 3],\n",
       " [2, 3],\n",
       " [2, 3],\n",
       " [2, 3],\n",
       " [2, 3],\n",
       " [2, 3],\n",
       " [2, 3],\n",
       " [2, 3],\n",
       " [2, 3]]"
      ]
     },
     "execution_count": 82,
     "metadata": {},
     "output_type": "execute_result"
    }
   ],
   "source": [
    "speech_act_per_frame[0][38:57]"
   ]
  },
  {
   "cell_type": "code",
   "execution_count": 83,
   "metadata": {},
   "outputs": [
    {
     "name": "stdout",
     "output_type": "stream",
     "text": [
      "Stored 'speech_act_per_frame' (list)\n"
     ]
    }
   ],
   "source": [
    "%store speech_act_per_frame"
   ]
  },
  {
   "cell_type": "code",
   "execution_count": 71,
   "metadata": {},
   "outputs": [],
   "source": [
    "%store -r speech_act_per_frame"
   ]
  },
  {
   "cell_type": "code",
   "execution_count": 84,
   "metadata": {},
   "outputs": [
    {
     "name": "stdout",
     "output_type": "stream",
     "text": [
      "Stored 'sound_direction_per_frame' (list)\n"
     ]
    }
   ],
   "source": [
    "%store sound_direction_per_frame"
   ]
  },
  {
   "cell_type": "code",
   "execution_count": 79,
   "metadata": {},
   "outputs": [],
   "source": [
    "%store -r sound_direction_per_frame"
   ]
  },
  {
   "cell_type": "code",
   "execution_count": 85,
   "metadata": {},
   "outputs": [
    {
     "name": "stdout",
     "output_type": "stream",
     "text": [
      "Stored 'sound_direction_per_frame_adjusted' (list)\n"
     ]
    }
   ],
   "source": [
    "%store sound_direction_per_frame_adjusted"
   ]
  },
  {
   "cell_type": "code",
   "execution_count": null,
   "metadata": {},
   "outputs": [],
   "source": [
    "%store -r sound_direction_per_frame_adjusted"
   ]
  },
  {
   "cell_type": "markdown",
   "metadata": {},
   "source": [
    "#### Generate scanpath per participant per frame"
   ]
  },
  {
   "cell_type": "code",
   "execution_count": 244,
   "metadata": {},
   "outputs": [],
   "source": [
    "L= [(125,313),(477,681)]\n",
    "R= [(906,303),(1226,683)]\n",
    "F= [(559,179),(830,444)]\n",
    "\n",
    "L_rect = [L[0][0], L[0][1], L[1][0], L[1][1]]\n",
    "R_rect = [R[0][0], R[0][1], R[1][0], R[1][1]]\n",
    "F_rect = [F[0][0], F[0][1], F[1][0], F[1][1]]"
   ]
  },
  {
   "cell_type": "markdown",
   "metadata": {},
   "source": [
    "For fixation points per participant, the participants are ordered in the following order based on fixations_original_all.tester_id.unique()"
   ]
  },
  {
   "cell_type": "code",
   "execution_count": 245,
   "metadata": {},
   "outputs": [],
   "source": [
    "def pointInRect(point,rect):\n",
    "    x1, y1, x2, y2 = rect\n",
    "    x, y = point\n",
    "    if (x1 <= x and x <= x2):\n",
    "        if (y1 <= y and y <= y2):\n",
    "            return True\n",
    "    return False"
   ]
  },
  {
   "cell_type": "markdown",
   "metadata": {},
   "source": [
    "Create observerble for HMM using eye tracking data and log of speaker in the dialogs\n",
    "\n",
    "- aoi_per_participant_per_frame: AOI of eye tracking data\n",
    "- aoi_obs_per_participant_per_frame_s: matching status of eye tracking data and speaker (as observerble)"
   ]
  },
  {
   "cell_type": "code",
   "execution_count": 341,
   "metadata": {},
   "outputs": [],
   "source": [
    "aoi_per_participant_per_frame = [None] * 6 # 6 dialogs\n",
    "\n",
    "for dialog_nb, dialog in enumerate(fixation_points_per_participant_per_frame): # loop through dialogs\n",
    "    aoi_per_participant = [None] * 42 # 42 participants\n",
    "    \n",
    "    for i in PID_eyetracking: # loop through participants -> sequence of tester_id\n",
    "        participant = dialog[i]\n",
    "        \n",
    "        aoi_list_participant = [None] * frame_length[dialog_nb]\n",
    "        \n",
    "        for frame_nb in range(0, frame_length[dialog_nb]):\n",
    "            if participant[frame_nb] != []:\n",
    "                # use the first fixation point in this frame only; some participants may have multiple points which increase the overall AOI ratio\n",
    "                point = (participant[frame_nb][0][0], participant[frame_nb][0][1]) # fixation\n",
    "                           \n",
    "                if pointInRect(point, L_rect):\n",
    "                    aoi_list_participant[frame_nb] = 1 # Left\n",
    "                elif pointInRect(point, R_rect):\n",
    "                    aoi_list_participant[frame_nb] = 2  # Right\n",
    "                elif pointInRect(point, F_rect):\n",
    "                    aoi_list_participant[frame_nb] = 3  # Front\n",
    "                else:\n",
    "                    aoi_list_participant[frame_nb] = 4  # exterior\n",
    "            else: # empty frame\n",
    "                aoi_list_participant[frame_nb] = 5 # no fixation               \n",
    "        aoi_per_participant[i] = aoi_list_participant     \n",
    "    aoi_per_participant_per_frame[dialog_nb] = aoi_per_participant\n"
   ]
  },
  {
   "cell_type": "code",
   "execution_count": 342,
   "metadata": {},
   "outputs": [
    {
     "name": "stdout",
     "output_type": "stream",
     "text": [
      "Stored 'aoi_per_participant_per_frame' (list)\n"
     ]
    }
   ],
   "source": [
    "%store aoi_per_participant_per_frame"
   ]
  },
  {
   "cell_type": "code",
   "execution_count": 86,
   "metadata": {},
   "outputs": [],
   "source": [
    "%store -r aoi_per_participant_per_frame"
   ]
  },
  {
   "cell_type": "markdown",
   "metadata": {},
   "source": [
    "#### Generate observable per participant per frame\n",
    "\n",
    "- S (1): Same ROI of the speaker when one speaker is speaking (for binaural/head + Same ROI of manipulated sound direction)\n",
    "- D (2): ROI of a different speaker when one or multiple speaker(s) is speaking (for head/need to find a way to ignore the turning to front in the log <- not done)\n",
    "- B (3): ROI of any of the speaker when multiple speaker is speaking\n",
    "- E (4): ROI on Exterior \n",
    "- N (5): No fixations or all speakers are silent "
   ]
  },
  {
   "cell_type": "markdown",
   "metadata": {},
   "source": [
    "##### Observable based on speech act"
   ]
  },
  {
   "cell_type": "code",
   "execution_count": 344,
   "metadata": {},
   "outputs": [],
   "source": [
    "observable_speech_act = [None] * 6 # construct observable based on speech acts (all dialogs)\n",
    "\n",
    "for dialog_nb in range(0,6): # loop through dialogs\n",
    "    observable_speech_act_per_participant = [None] * 42 # 42 participants\n",
    "    \n",
    "    for pid in range(0,42): # loop through participants\n",
    "        observable_speech_act_list_participant = [None] * frame_length[dialog_nb]\n",
    "        \n",
    "        for frame_nb in range(0, frame_length[dialog_nb]):# loop through frames\n",
    "            current_aoi = aoi_per_participant_per_frame[dialog_nb][pid][frame_nb]\n",
    "            if current_aoi == 5:\n",
    "                observable_speech_act_list_participant[frame_nb] = 5 # observable value N\n",
    "            elif current_aoi == 4:\n",
    "                observable_speech_act_list_participant[frame_nb] = 4 # observable value E \n",
    "            else: # fixation on certain speakers\n",
    "                if speech_act_per_frame[dialog_nb][frame_nb] == None: # silent moment\n",
    "                    observable_speech_act_list_participant[frame_nb] = 5 # observable value N\n",
    "                elif len(speech_act_per_frame[dialog_nb][frame_nb]) == 1: # one speaker is talking \n",
    "                    if(current_aoi == speech_act_per_frame[dialog_nb][frame_nb][0]):\n",
    "#                         print(\"[S] \" + \"current aoi: \" + str(current_aoi) + \" speech_act: \" + str(speech_act_per_frame[dialog_nb][frame_nb][0])) \n",
    "                        observable_speech_act_list_participant[frame_nb] = 1 # observable value S\n",
    "                    else:\n",
    "#                         print(\"[D] \" + \"current aoi: \" + str(current_aoi) + \" speech_act: \" + str(speech_act_per_frame[dialog_nb][frame_nb][0])) \n",
    "                        observable_speech_act_list_participant[frame_nb] = 2 # observable value D\n",
    "                elif len(speech_act_per_frame[dialog_nb][frame_nb]) > 1: # more than one speakers are talking\n",
    "                    if(current_aoi in speech_act_per_frame[dialog_nb][frame_nb]):\n",
    "                        observable_speech_act_list_participant[frame_nb] = 3 # observable value B\n",
    "                    else:\n",
    "                        observable_speech_act_list_participant[frame_nb] = 2 # observable value D\n",
    "                else:\n",
    "                    print(\"cannot define observable value\")\n",
    "        observable_speech_act_per_participant[pid] = observable_speech_act_list_participant\n",
    "    observable_speech_act[dialog_nb] = observable_speech_act_per_participant\n",
    "                 "
   ]
  },
  {
   "cell_type": "code",
   "execution_count": 345,
   "metadata": {},
   "outputs": [
    {
     "name": "stdout",
     "output_type": "stream",
     "text": [
      "Stored 'observable_speech_act' (list)\n"
     ]
    }
   ],
   "source": [
    "%store observable_speech_act"
   ]
  },
  {
   "cell_type": "code",
   "execution_count": 87,
   "metadata": {},
   "outputs": [],
   "source": [
    "%store -r observable_speech_act"
   ]
  },
  {
   "cell_type": "code",
   "execution_count": 153,
   "metadata": {},
   "outputs": [
    {
     "data": {
      "text/plain": [
       "40512"
      ]
     },
     "execution_count": 153,
     "metadata": {},
     "output_type": "execute_result"
    }
   ],
   "source": [
    "df_dist[0:3]['count'].sum()"
   ]
  },
  {
   "cell_type": "code",
   "execution_count": 168,
   "metadata": {},
   "outputs": [
    {
     "name": "stderr",
     "output_type": "stream",
     "text": [
      "/Applications/anaconda3/lib/python3.7/site-packages/ipykernel_launcher.py:7: SettingWithCopyWarning: \n",
      "A value is trying to be set on a copy of a slice from a DataFrame\n",
      "\n",
      "See the caveats in the documentation: https://pandas.pydata.org/pandas-docs/stable/user_guide/indexing.html#returning-a-view-versus-a-copy\n",
      "  import sys\n",
      "/Applications/anaconda3/lib/python3.7/site-packages/ipykernel_launcher.py:7: SettingWithCopyWarning: \n",
      "A value is trying to be set on a copy of a slice from a DataFrame\n",
      "\n",
      "See the caveats in the documentation: https://pandas.pydata.org/pandas-docs/stable/user_guide/indexing.html#returning-a-view-versus-a-copy\n",
      "  import sys\n",
      "/Applications/anaconda3/lib/python3.7/site-packages/ipykernel_launcher.py:7: SettingWithCopyWarning: \n",
      "A value is trying to be set on a copy of a slice from a DataFrame\n",
      "\n",
      "See the caveats in the documentation: https://pandas.pydata.org/pandas-docs/stable/user_guide/indexing.html#returning-a-view-versus-a-copy\n",
      "  import sys\n",
      "/Applications/anaconda3/lib/python3.7/site-packages/ipykernel_launcher.py:7: SettingWithCopyWarning: \n",
      "A value is trying to be set on a copy of a slice from a DataFrame\n",
      "\n",
      "See the caveats in the documentation: https://pandas.pydata.org/pandas-docs/stable/user_guide/indexing.html#returning-a-view-versus-a-copy\n",
      "  import sys\n"
     ]
    },
    {
     "name": "stdout",
     "output_type": "stream",
     "text": [
      "   count Observable  perc_F  perc_O\n",
      "1  25071          S   0.567   0.166\n",
      "2  13045          D   0.295   0.086\n",
      "3   1699          B   0.038   0.011\n",
      "4  33699          E   0.030   0.223\n",
      "5  77476          N   0.070   0.513\n",
      "1.0\n",
      "0.999\n",
      "   count Observable  perc_F  perc_O\n",
      "1  20975          S   0.497   0.172\n",
      "2  14542          D   0.345   0.119\n",
      "3   2442          B   0.058   0.020\n",
      "4  22445          E   0.027   0.184\n",
      "5  61816          N   0.073   0.506\n",
      "1.0\n",
      "1.001\n",
      "   count Observable  perc_F  perc_O\n",
      "1  29976          S   0.636   0.219\n",
      "2   9944          D   0.211   0.073\n",
      "3   2530          B   0.054   0.019\n",
      "4  26801          E   0.028   0.196\n",
      "5  67501          N   0.072   0.494\n",
      "1.0010000000000001\n",
      "1.001\n",
      "   count Observable  perc_F  perc_O\n",
      "1  26136          S   0.629   0.239\n",
      "2   8970          D   0.216   0.082\n",
      "3   2310          B   0.056   0.021\n",
      "4  17201          E   0.024   0.157\n",
      "5  54793          N   0.076   0.501\n",
      "1.0010000000000001\n",
      "1.0\n",
      "   count Observable  perc_F  perc_O\n",
      "1  27157          S   0.631   0.208\n",
      "2   8913          D   0.207   0.068\n",
      "3   2666          B   0.062   0.020\n",
      "4  23830          E   0.026   0.183\n",
      "5  67802          N   0.074   0.520\n",
      "0.9999999999999999\n",
      "0.9990000000000001\n",
      "   count Observable  perc_F  perc_O\n",
      "1  26173          S   0.581   0.184\n",
      "2  10920          D   0.243   0.077\n",
      "3   3419          B   0.076   0.024\n",
      "4  29428          E   0.029   0.207\n",
      "5  72020          N   0.071   0.507\n",
      "0.9999999999999999\n",
      "0.999\n"
     ]
    },
    {
     "name": "stderr",
     "output_type": "stream",
     "text": [
      "/Applications/anaconda3/lib/python3.7/site-packages/ipykernel_launcher.py:7: SettingWithCopyWarning: \n",
      "A value is trying to be set on a copy of a slice from a DataFrame\n",
      "\n",
      "See the caveats in the documentation: https://pandas.pydata.org/pandas-docs/stable/user_guide/indexing.html#returning-a-view-versus-a-copy\n",
      "  import sys\n",
      "/Applications/anaconda3/lib/python3.7/site-packages/ipykernel_launcher.py:7: SettingWithCopyWarning: \n",
      "A value is trying to be set on a copy of a slice from a DataFrame\n",
      "\n",
      "See the caveats in the documentation: https://pandas.pydata.org/pandas-docs/stable/user_guide/indexing.html#returning-a-view-versus-a-copy\n",
      "  import sys\n"
     ]
    },
    {
     "data": {
      "image/png": "[encoded data removed]",
      "text/plain": [
       "<Figure size 432x288 with 1 Axes>"
      ]
     },
     "metadata": {
      "needs_background": "light"
     },
     "output_type": "display_data"
    },
    {
     "data": {
      "image/png": "[encoded data removed]",
      "text/plain": [
       "<Figure size 432x288 with 1 Axes>"
      ]
     },
     "metadata": {
      "needs_background": "light"
     },
     "output_type": "display_data"
    },
    {
     "data": {
      "image/png": "[encoded data removed]",
      "text/plain": [
       "<Figure size 432x288 with 1 Axes>"
      ]
     },
     "metadata": {
      "needs_background": "light"
     },
     "output_type": "display_data"
    },
    {
     "data": {
      "image/png": "[encoded data removed]",
      "text/plain": [
       "<Figure size 432x288 with 1 Axes>"
      ]
     },
     "metadata": {
      "needs_background": "light"
     },
     "output_type": "display_data"
    },
    {
     "data": {
      "image/png": "[encoded data removed]",
      "text/plain": [
       "<Figure size 432x288 with 1 Axes>"
      ]
     },
     "metadata": {
      "needs_background": "light"
     },
     "output_type": "display_data"
    },
    {
     "data": {
      "image/png": "[encoded data removed]",
      "text/plain": [
       "<Figure size 432x288 with 1 Axes>"
      ]
     },
     "metadata": {
      "needs_background": "light"
     },
     "output_type": "display_data"
    }
   ],
   "source": [
    "for dialog_nb in range(0,6): # loop through dialogs \n",
    "    df_dist = pd.DataFrame(0, index=[1,2,3,4,5], columns = ['count'])\n",
    "    df_dist['Observable'] = ['S', 'D', 'B', 'E', 'N']\n",
    "    for pid in range(0,42): # loop through participants\n",
    "        a = np.array(np.unique(np.asarray(observable_speech_act[dialog_nb][pid]), return_counts=True)).T\n",
    "        for a_i in a:\n",
    "            df_dist['count'][a_i[0]] = df_dist['count'][a_i[0]] + a_i[1]\n",
    "    df_dist.plot.bar(x='Observable', y='count', rot=0)\n",
    "    plt.title(\"dialog\" + str(dialog_nb+1))\n",
    "    \n",
    "    df_dist.loc[df_dist['Observable'] == 'S', 'perc_F'] = round(0.9 * df_dist.loc[df_dist['Observable'] == 'S', 'count']/df_dist[0:3]['count'].sum(),3) \n",
    "    df_dist.loc[df_dist['Observable'] == 'D', 'perc_F'] = round(0.9 * df_dist.loc[df_dist['Observable'] == 'D', 'count']/df_dist[0:3]['count'].sum(),3)\n",
    "    df_dist.loc[df_dist['Observable'] == 'B', 'perc_F'] = round(0.9 * df_dist.loc[df_dist['Observable'] == 'B', 'count']/df_dist[0:3]['count'].sum(),3)\n",
    "    df_dist.loc[df_dist['Observable'] == 'E', 'perc_F'] = round(0.1 * df_dist.loc[df_dist['Observable'] == 'E', 'count']/df_dist[3:5]['count'].sum(),3)\n",
    "    df_dist.loc[df_dist['Observable'] == 'N', 'perc_F'] = round(0.1 * df_dist.loc[df_dist['Observable'] == 'N', 'count']/df_dist[3:5]['count'].sum(),3)\n",
    "    \n",
    "    df_dist['perc_O'] = round(df_dist['count']/df_dist['count'].sum(),3) \n",
    "    print(df_dist)\n",
    "    print(df_dist.perc_F.sum())\n",
    "    print(df_dist.perc_O.sum())\n",
    "   "
   ]
  },
  {
   "cell_type": "markdown",
   "metadata": {},
   "source": [
    "Double check on the stats"
   ]
  },
  {
   "cell_type": "code",
   "execution_count": 269,
   "metadata": {},
   "outputs": [],
   "source": [
    "aoi_per_frame = pd.read_pickle(r'aoi_per_frame.pkl')"
   ]
  },
  {
   "cell_type": "code",
   "execution_count": 335,
   "metadata": {},
   "outputs": [
    {
     "name": "stdout",
     "output_type": "stream",
     "text": [
      "dialog: dialog1_normal_mask frame:3594\n",
      "dialog: dialog4_head frame:2599\n",
      "dialog: dialog4_head frame:2600\n",
      "dialog: dialog4_head frame:2601\n",
      "dialog: dialog4_head frame:2602\n",
      "dialog: dialog4_head frame:2603\n",
      "dialog: dialog4_head frame:2604\n",
      "dialog: dialog6_normal frame:3379\n"
     ]
    }
   ],
   "source": [
    "import operator\n",
    "\n",
    "aoi_ratios_per_frame = {}\n",
    "for dialog in aoi_per_frame:\n",
    "    aoi_ratios_per_frame[dialog] = {}\n",
    "    for frame in aoi_per_frame[dialog]:\n",
    "        aoi_ratios_per_frame[dialog][frame] = {}\n",
    "        length = len(aoi_per_frame[dialog][frame])\n",
    "        if length > 0 :\n",
    "            aoi_ratios_per_frame[dialog][frame]['L'] = aoi_per_frame[dialog][frame].count('L')/length\n",
    "            aoi_ratios_per_frame[dialog][frame]['R'] = aoi_per_frame[dialog][frame].count('R')/length\n",
    "            aoi_ratios_per_frame[dialog][frame]['F'] = aoi_per_frame[dialog][frame].count('F')/length\n",
    "            aoi_ratios_per_frame[dialog][frame]['e'] = aoi_per_frame[dialog][frame].count('e')/length\n",
    "            # find the most frequent area\n",
    "            dict_temp = dict((k, aoi_ratios_per_frame[dialog][frame][k]) for k in ('L', 'R', 'F', 'e'))\n",
    "            dict_temp_note_e = dict((k, aoi_ratios_per_frame[dialog][frame][k]) for k in ('L', 'R', 'F'))\n",
    "            \n",
    "            aoi_ratios_per_frame[dialog][frame]['aoi_most'] = max(dict_temp.items(), key=operator.itemgetter(1))[0]\n",
    "            aoi_ratios_per_frame[dialog][frame]['aoi_most_not_e'] = max(dict_temp_note_e.items(), key=operator.itemgetter(1))[0]\n",
    "        else:\n",
    "            aoi_ratios_per_frame[dialog][frame]['L'] = 0\n",
    "            aoi_ratios_per_frame[dialog][frame]['R'] = 0\n",
    "            aoi_ratios_per_frame[dialog][frame]['F'] = 0\n",
    "            aoi_ratios_per_frame[dialog][frame]['e'] = 0\n",
    "\n",
    "# include exterior (e)\n",
    "num_scanpaths_aoi = {}\n",
    "num_scanpaths_aoi_perc = {}\n",
    "for dialog in aoi_ratios_per_frame:\n",
    "    num_scanpaths_aoi[dialog] = {}\n",
    "    num_path_aoi = []\n",
    "    \n",
    "    num_scanpaths_aoi_perc[dialog] = {}\n",
    "    num_path_aoi_perc = []\n",
    "    for frame in aoi_ratios_per_frame[dialog]:\n",
    "        try:\n",
    "            aoi_most_temp = str(aoi_ratios_per_frame[dialog][frame]['aoi_most'])\n",
    "    #         print(aoi_most_temp)\n",
    "    #         print('\\n')\n",
    "            if aoi_most_temp == 'e': \n",
    "                num_path_aoi.append(4)\n",
    "            elif aoi_most_temp == 'R':\n",
    "                num_path_aoi.append(2)\n",
    "            elif aoi_most_temp == 'F':\n",
    "                num_path_aoi.append(3)\n",
    "            else: # 'L'\n",
    "                num_path_aoi.append(1)\n",
    "            num_path_aoi_perc.append(aoi_ratios_per_frame[dialog][frame][aoi_most_temp])\n",
    "        except:\n",
    "            num_path_aoi.append(None) # no AOI in this frame\n",
    "            num_path_aoi_perc.append(None)\n",
    "            print('dialog: ' + dialog + ' frame:' + str(frame))\n",
    "            \n",
    "    num_scanpaths_aoi[dialog] = num_path_aoi\n",
    "    num_scanpaths_aoi_perc[dialog] = num_path_aoi_perc"
   ]
  },
  {
   "cell_type": "code",
   "execution_count": 336,
   "metadata": {},
   "outputs": [
    {
     "data": {
      "text/plain": [
       "0.5714285714285714"
      ]
     },
     "execution_count": 336,
     "metadata": {},
     "output_type": "execute_result"
    }
   ],
   "source": [
    "num_scanpaths_aoi_perc['dialog1_normal_mask'][0] "
   ]
  },
  {
   "cell_type": "code",
   "execution_count": 337,
   "metadata": {},
   "outputs": [
    {
     "name": "stderr",
     "output_type": "stream",
     "text": [
      "/Applications/anaconda3/lib/python3.7/site-packages/ipykernel_launcher.py:14: SettingWithCopyWarning: \n",
      "A value is trying to be set on a copy of a slice from a DataFrame\n",
      "\n",
      "See the caveats in the documentation: https://pandas.pydata.org/pandas-docs/stable/user_guide/indexing.html#returning-a-view-versus-a-copy\n",
      "  \n",
      "/Applications/anaconda3/lib/python3.7/site-packages/ipykernel_launcher.py:11: SettingWithCopyWarning: \n",
      "A value is trying to be set on a copy of a slice from a DataFrame\n",
      "\n",
      "See the caveats in the documentation: https://pandas.pydata.org/pandas-docs/stable/user_guide/indexing.html#returning-a-view-versus-a-copy\n",
      "  # This is added back by InteractiveShellApp.init_path()\n",
      "/Applications/anaconda3/lib/python3.7/site-packages/ipykernel_launcher.py:18: SettingWithCopyWarning: \n",
      "A value is trying to be set on a copy of a slice from a DataFrame\n",
      "\n",
      "See the caveats in the documentation: https://pandas.pydata.org/pandas-docs/stable/user_guide/indexing.html#returning-a-view-versus-a-copy\n",
      "/Applications/anaconda3/lib/python3.7/site-packages/ipykernel_launcher.py:21: SettingWithCopyWarning: \n",
      "A value is trying to be set on a copy of a slice from a DataFrame\n",
      "\n",
      "See the caveats in the documentation: https://pandas.pydata.org/pandas-docs/stable/user_guide/indexing.html#returning-a-view-versus-a-copy\n"
     ]
    },
    {
     "data": {
      "image/png": "[encoded data removed]",
      "text/plain": [
       "<Figure size 432x288 with 1 Axes>"
      ]
     },
     "metadata": {
      "needs_background": "light"
     },
     "output_type": "display_data"
    },
    {
     "data": {
      "image/png": "[encoded data removed]",
      "text/plain": [
       "<Figure size 432x288 with 1 Axes>"
      ]
     },
     "metadata": {
      "needs_background": "light"
     },
     "output_type": "display_data"
    },
    {
     "data": {
      "image/png": "[encoded data removed]",
      "text/plain": [
       "<Figure size 432x288 with 1 Axes>"
      ]
     },
     "metadata": {
      "needs_background": "light"
     },
     "output_type": "display_data"
    },
    {
     "data": {
      "image/png": "[encoded data removed]",
      "text/plain": [
       "<Figure size 432x288 with 1 Axes>"
      ]
     },
     "metadata": {
      "needs_background": "light"
     },
     "output_type": "display_data"
    },
    {
     "data": {
      "image/png": "[encoded data removed]",
      "text/plain": [
       "<Figure size 432x288 with 1 Axes>"
      ]
     },
     "metadata": {
      "needs_background": "light"
     },
     "output_type": "display_data"
    },
    {
     "data": {
      "image/png": "[encoded data removed]",
      "text/plain": [
       "<Figure size 432x288 with 1 Axes>"
      ]
     },
     "metadata": {
      "needs_background": "light"
     },
     "output_type": "display_data"
    }
   ],
   "source": [
    "for dialog_nb in range(0,6):\n",
    "    df_dist_c = pd.DataFrame(0, index=[1,2,3,4,5], columns = ['count_observable_speech_act'])\n",
    "    df_dist_c['Observable'] = ['S', 'D', 'B', 'E', 'N']\n",
    "    \n",
    "    for frame_nb in range(0, frame_length[dialog_nb]):\n",
    "        if speech_act_per_frame[dialog_nb][frame_nb] != None:\n",
    "#             print(dialog_name[dialog_nb])\n",
    "            current_aoi = num_scanpaths_aoi[dialog_name[dialog_nb]][frame_nb]\n",
    "            if len(speech_act_per_frame[dialog_nb][frame_nb]) == 1: # one speaker is talking \n",
    "                if(current_aoi == speech_act_per_frame[dialog_nb][frame_nb][0]):\n",
    "                    df_dist_c['count_observable_speech_act'][1] = df_dist_c['count_observable_speech_act'][1] + 1\n",
    "#                     print(\"S\" + \" current aoi: \" + str(current_aoi) + \" speech_act: \" + str(speech_act_per_frame[dialog_nb][frame_nb])) \n",
    "                else:\n",
    "                    df_dist_c['count_observable_speech_act'][2] = df_dist_c['count_observable_speech_act'][2] + 1\n",
    "#                     print(\"D\" + \" current aoi: \" + str(current_aoi) + \" speech_act: \" + str(speech_act_per_frame[dialog_nb][frame_nb])) \n",
    "            elif len(speech_act_per_frame[dialog_nb][frame_nb]) > 1: # more than one speakers are talking\n",
    "                if(current_aoi in speech_act_per_frame[dialog_nb][frame_nb]):\n",
    "                    df_dist_c['count_observable_speech_act'][3] = df_dist_c['count_observable_speech_act'][3] + 1\n",
    "#                     print(\"B\" + \" current aoi: \" + str(current_aoi) + \" speech_act: \" + str(speech_act_per_frame[dialog_nb][frame_nb])) \n",
    "                else:\n",
    "                    df_dist_c['count_observable_speech_act'][2] = df_dist_c['count_observable_speech_act'][2] + 1\n",
    "            else:\n",
    "                print(\"not in above cases\")\n",
    "    \n",
    "#     print(df_dist_c)\n",
    "        \n",
    "    df_dist_c.plot.bar(x='Observable', y='count_observable_speech_act', rot=0)\n",
    "    plt.title(\"dialog\" + str(dialog_nb+1))"
   ]
  },
  {
   "cell_type": "markdown",
   "metadata": {},
   "source": [
    "weighted count"
   ]
  },
  {
   "cell_type": "code",
   "execution_count": 340,
   "metadata": {},
   "outputs": [
    {
     "name": "stderr",
     "output_type": "stream",
     "text": [
      "/Applications/anaconda3/lib/python3.7/site-packages/ipykernel_launcher.py:16: SettingWithCopyWarning: \n",
      "A value is trying to be set on a copy of a slice from a DataFrame\n",
      "\n",
      "See the caveats in the documentation: https://pandas.pydata.org/pandas-docs/stable/user_guide/indexing.html#returning-a-view-versus-a-copy\n",
      "  app.launch_new_instance()\n",
      "/Applications/anaconda3/lib/python3.7/site-packages/ipykernel_launcher.py:13: SettingWithCopyWarning: \n",
      "A value is trying to be set on a copy of a slice from a DataFrame\n",
      "\n",
      "See the caveats in the documentation: https://pandas.pydata.org/pandas-docs/stable/user_guide/indexing.html#returning-a-view-versus-a-copy\n",
      "  del sys.path[0]\n",
      "/Applications/anaconda3/lib/python3.7/site-packages/ipykernel_launcher.py:20: SettingWithCopyWarning: \n",
      "A value is trying to be set on a copy of a slice from a DataFrame\n",
      "\n",
      "See the caveats in the documentation: https://pandas.pydata.org/pandas-docs/stable/user_guide/indexing.html#returning-a-view-versus-a-copy\n",
      "/Applications/anaconda3/lib/python3.7/site-packages/ipykernel_launcher.py:23: SettingWithCopyWarning: \n",
      "A value is trying to be set on a copy of a slice from a DataFrame\n",
      "\n",
      "See the caveats in the documentation: https://pandas.pydata.org/pandas-docs/stable/user_guide/indexing.html#returning-a-view-versus-a-copy\n"
     ]
    },
    {
     "data": {
      "image/png": "[encoded data removed]",
      "text/plain": [
       "<Figure size 432x288 with 1 Axes>"
      ]
     },
     "metadata": {
      "needs_background": "light"
     },
     "output_type": "display_data"
    },
    {
     "data": {
      "image/png": "[encoded data removed]",
      "text/plain": [
       "<Figure size 432x288 with 1 Axes>"
      ]
     },
     "metadata": {
      "needs_background": "light"
     },
     "output_type": "display_data"
    },
    {
     "data": {
      "image/png": "[encoded data removed]",
      "text/plain": [
       "<Figure size 432x288 with 1 Axes>"
      ]
     },
     "metadata": {
      "needs_background": "light"
     },
     "output_type": "display_data"
    },
    {
     "data": {
      "image/png": "[encoded data removed]",
      "text/plain": [
       "<Figure size 432x288 with 1 Axes>"
      ]
     },
     "metadata": {
      "needs_background": "light"
     },
     "output_type": "display_data"
    },
    {
     "data": {
      "image/png": "[encoded data removed]",
      "text/plain": [
       "<Figure size 432x288 with 1 Axes>"
      ]
     },
     "metadata": {
      "needs_background": "light"
     },
     "output_type": "display_data"
    },
    {
     "data": {
      "image/png": "[encoded data removed]",
      "text/plain": [
       "<Figure size 432x288 with 1 Axes>"
      ]
     },
     "metadata": {
      "needs_background": "light"
     },
     "output_type": "display_data"
    }
   ],
   "source": [
    "for dialog_nb in range(0,6):\n",
    "    df_dist_c = pd.DataFrame(0.0, index=[1,2,3,4,5], columns = ['count_observable_speech_act'])\n",
    "    df_dist_c['Observable'] = ['S', 'D', 'B', 'E', 'N']\n",
    "    \n",
    "    for frame_nb in range(0, frame_length[dialog_nb]):\n",
    "        if speech_act_per_frame[dialog_nb][frame_nb] != None and num_scanpaths_aoi_perc[dialog_name[dialog_nb]][frame_nb] != None:\n",
    "\n",
    "            current_aoi = num_scanpaths_aoi[dialog_name[dialog_nb]][frame_nb]\n",
    "#             print(num_scanpaths_aoi_perc[dialog_name[dialog_nb]][frame_nb])\n",
    "#             print(\"dialog: \" + str(dialog_nb + 1) + \" frame: \" + str(frame_nb))\n",
    "            if len(speech_act_per_frame[dialog_nb][frame_nb]) == 1: # one speaker is talking \n",
    "                if(current_aoi == speech_act_per_frame[dialog_nb][frame_nb][0]):\n",
    "                    df_dist_c['count_observable_speech_act'][1] = df_dist_c['count_observable_speech_act'][1] + num_scanpaths_aoi_perc[dialog_name[dialog_nb]][frame_nb] \n",
    "#                     print(\"[S]\" + \" current aoi: \" + str(current_aoi) + \" speech_act: \" + str(speech_act_per_frame[dialog_nb][frame_nb])) \n",
    "                else:\n",
    "                    df_dist_c['count_observable_speech_act'][2] = df_dist_c['count_observable_speech_act'][2] + num_scanpaths_aoi_perc[dialog_name[dialog_nb]][frame_nb] \n",
    "#                     print(\"[D]\" + \" current aoi: \" + str(current_aoi) + \" speech_act: \" + str(speech_act_per_frame[dialog_nb][frame_nb])) \n",
    "            elif len(speech_act_per_frame[dialog_nb][frame_nb]) > 1: # more than one speakers are talking\n",
    "                if(current_aoi in speech_act_per_frame[dialog_nb][frame_nb]):\n",
    "                    df_dist_c['count_observable_speech_act'][3] = df_dist_c['count_observable_speech_act'][3] + num_scanpaths_aoi_perc[dialog_name[dialog_nb]][frame_nb] \n",
    "#                     print(\"[B]\" + \" current aoi: \" + str(current_aoi) + \" speech_act: \" + str(speech_act_per_frame[dialog_nb][frame_nb])) \n",
    "                else:\n",
    "                    df_dist_c['count_observable_speech_act'][2] = df_dist_c['count_observable_speech_act'][2] + num_scanpaths_aoi_perc[dialog_name[dialog_nb]][frame_nb] \n",
    "#                     print(\"[D]\" + \" current aoi: \" + str(current_aoi) + \" speech_act: \" + str(speech_act_per_frame[dialog_nb][frame_nb])) \n",
    "            else:\n",
    "                print(\"not in above cases\")\n",
    "            \n",
    "#             print(num_scanpaths_aoi_perc[dialog_name[dialog_nb]][frame_nb] )\n",
    "        \n",
    "    df_dist_c.plot.bar(x='Observable', y='count_observable_speech_act', rot=0)\n",
    "    plt.title(\"dialog\" + str(dialog_nb+1))"
   ]
  },
  {
   "cell_type": "markdown",
   "metadata": {},
   "source": [
    "##### Observable based on sound direction (without pseudo- adjustment for dialog 2 and 4)"
   ]
  },
  {
   "cell_type": "code",
   "execution_count": 348,
   "metadata": {},
   "outputs": [],
   "source": [
    "observable_sound_dir = [None] * 6 # construct observable based on speech acts (all dialogs)\n",
    "\n",
    "for dialog_nb in range(1,5): # loop through binaural/head dialogs: 2,3,4,5\n",
    "    observable_sound_dir_per_participant = [None] * 42 # 42 participants\n",
    "    \n",
    "    for pid in range(0,42): # loop through participants\n",
    "        observable_sound_dir_list_participant = [None] * frame_length[dialog_nb]\n",
    "        \n",
    "        for frame_nb in range(0, frame_length[dialog_nb]):# loop through frames\n",
    "            current_aoi = aoi_per_participant_per_frame[dialog_nb][pid][frame_nb]\n",
    "            if current_aoi == 5:\n",
    "                observable_sound_dir_list_participant[frame_nb] = 5 # observable value N\n",
    "            elif current_aoi == 4:\n",
    "                observable_sound_dir_list_participant[frame_nb] = 4 # observable value E \n",
    "            else: # fixation on certain speakers\n",
    "                if(current_aoi == sound_direction_per_frame[dialog_nb][frame_nb]):\n",
    "                    observable_sound_dir_list_participant[frame_nb] = 1 # observable value S\n",
    "                else:\n",
    "                    observable_sound_dir_list_participant[frame_nb] = 2 # observable value D\n",
    "                \n",
    "                # no observable value B as there is one main direction of sound\n",
    "                \n",
    "        observable_sound_dir_per_participant[pid] = observable_sound_dir_list_participant\n",
    "    observable_sound_dir[dialog_nb] = observable_sound_dir_per_participant"
   ]
  },
  {
   "cell_type": "code",
   "execution_count": 349,
   "metadata": {},
   "outputs": [
    {
     "name": "stdout",
     "output_type": "stream",
     "text": [
      "Stored 'observable_sound_dir' (list)\n"
     ]
    }
   ],
   "source": [
    "%store observable_sound_dir"
   ]
  },
  {
   "cell_type": "code",
   "execution_count": 88,
   "metadata": {},
   "outputs": [],
   "source": [
    "%store -r observable_sound_dir"
   ]
  },
  {
   "cell_type": "code",
   "execution_count": 95,
   "metadata": {},
   "outputs": [
    {
     "name": "stderr",
     "output_type": "stream",
     "text": [
      "/Applications/anaconda3/lib/python3.7/site-packages/ipykernel_launcher.py:9: SettingWithCopyWarning: \n",
      "A value is trying to be set on a copy of a slice from a DataFrame\n",
      "\n",
      "See the caveats in the documentation: https://pandas.pydata.org/pandas-docs/stable/user_guide/indexing.html#returning-a-view-versus-a-copy\n",
      "  if __name__ == '__main__':\n"
     ]
    },
    {
     "data": {
      "text/plain": [
       "<matplotlib.axes._subplots.AxesSubplot at 0x7ff0253ed750>"
      ]
     },
     "execution_count": 95,
     "metadata": {},
     "output_type": "execute_result"
    },
    {
     "data": {
      "image/png": "[encoded data removed]",
      "text/plain": [
       "<Figure size 432x288 with 1 Axes>"
      ]
     },
     "metadata": {
      "needs_background": "light"
     },
     "output_type": "display_data"
    }
   ],
   "source": [
    "# df_dist = pd.DataFrame(0, index=[0], columns = ['S','D','B','E','N'])\n",
    "df_dist = pd.DataFrame(0, index=[1,2,3,4,5], columns = ['count_observable_sound_dir'])\n",
    "df_dist['Observable'] = ['S', 'D', 'B', 'E', 'N']\n",
    "\n",
    "for dialog_nb in range(1,5): # loop through dialogs   \n",
    "    for pid in range(0,42): # loop through participants\n",
    "        a = np.array(np.unique(np.asarray(observable_sound_dir[dialog_nb][pid]), return_counts=True)).T\n",
    "        for a_i in a:\n",
    "            df_dist['count_observable_sound_dir'][a_i[0]] = df_dist['count_observable_sound_dir'][a_i[0]] + a_i[1]\n",
    "            \n",
    "df_dist.plot.bar(x='Observable', y='count_observable_sound_dir', rot=0)            "
   ]
  },
  {
   "cell_type": "markdown",
   "metadata": {},
   "source": [
    "##### Observable based on sound direction (with pseudo- adjustment for dialog 2 and 4)"
   ]
  },
  {
   "cell_type": "code",
   "execution_count": 103,
   "metadata": {},
   "outputs": [],
   "source": [
    "observable_sound_dir_adjusted = [None] * 6 # construct observable based on speech acts (all dialogs)\n",
    "\n",
    "for dialog_nb in range(0,6): # loop through binaural/head dialogs: 2,3,4,5\n",
    "    observable_sound_dir_adjusted_per_participant = [None] * 42 # 42 participants\n",
    "    \n",
    "    for pid in range(0,42): # loop through participants\n",
    "        observable_sound_dir_adjusted_list_participant = [None] * frame_length[dialog_nb]\n",
    "        \n",
    "        if dialog_nb==1 or dialog_nb==3:\n",
    "            for frame_nb in range(0, frame_length[dialog_nb]):# loop through frames\n",
    "                current_aoi = aoi_per_participant_per_frame[dialog_nb][pid][frame_nb]\n",
    "                if current_aoi == 5:\n",
    "                    observable_sound_dir_adjusted_list_participant[frame_nb] = 5 # observable value N\n",
    "                elif current_aoi == 4:\n",
    "                    observable_sound_dir_adjusted_list_participant[frame_nb] = 4 # observable value E \n",
    "                else: # fixation on certain speakers\n",
    "                    if(current_aoi == sound_direction_per_frame_adjusted[dialog_nb][frame_nb]):\n",
    "                        observable_sound_dir_adjusted_list_participant[frame_nb] = 1 # observable value S\n",
    "                    else:\n",
    "                        observable_sound_dir_adjusted_list_participant[frame_nb] = 2 # observable value D\n",
    "\n",
    "                    # no observable value B as there is one main direction of sound\n",
    "        elif dialog_nb==2 or dialog_nb==4:\n",
    "            for frame_nb in range(0, frame_length[dialog_nb]):# loop through frames\n",
    "                current_aoi = aoi_per_participant_per_frame[dialog_nb][pid][frame_nb]\n",
    "                if current_aoi == 5:\n",
    "                    observable_sound_dir_adjusted_list_participant[frame_nb] = 5 # observable value N\n",
    "                elif current_aoi == 4:\n",
    "                    observable_sound_dir_adjusted_list_participant[frame_nb] = 4 # observable value E \n",
    "                else: # fixation on certain speakers\n",
    "                    if(current_aoi == sound_direction_per_frame[dialog_nb][frame_nb]):\n",
    "                        observable_sound_dir_adjusted_list_participant[frame_nb] = 1 # observable value S\n",
    "                    else:\n",
    "                        observable_sound_dir_adjusted_list_participant[frame_nb] = 2 # observable value D\n",
    "                    # no observable value B as there is one main direction of sound\n",
    "        else: # dummy value\n",
    "            for frame_nb in range(0, frame_length[dialog_nb]):# loop through frames\n",
    "                observable_sound_dir_adjusted_list_participant[frame_nb] = 6 # observable value D\n",
    "                \n",
    "        observable_sound_dir_adjusted_per_participant[pid] = observable_sound_dir_adjusted_list_participant\n",
    "    observable_sound_dir_adjusted[dialog_nb] = observable_sound_dir_adjusted_per_participant"
   ]
  },
  {
   "cell_type": "code",
   "execution_count": 104,
   "metadata": {},
   "outputs": [
    {
     "name": "stdout",
     "output_type": "stream",
     "text": [
      "Stored 'observable_sound_dir_adjusted' (list)\n"
     ]
    }
   ],
   "source": [
    "%store observable_sound_dir_adjusted"
   ]
  },
  {
   "cell_type": "code",
   "execution_count": 128,
   "metadata": {},
   "outputs": [],
   "source": [
    "%store -r observable_sound_dir_adjusted"
   ]
  },
  {
   "cell_type": "code",
   "execution_count": 107,
   "metadata": {},
   "outputs": [
    {
     "name": "stderr",
     "output_type": "stream",
     "text": [
      "/Applications/anaconda3/lib/python3.7/site-packages/ipykernel_launcher.py:9: SettingWithCopyWarning: \n",
      "A value is trying to be set on a copy of a slice from a DataFrame\n",
      "\n",
      "See the caveats in the documentation: https://pandas.pydata.org/pandas-docs/stable/user_guide/indexing.html#returning-a-view-versus-a-copy\n",
      "  if __name__ == '__main__':\n"
     ]
    },
    {
     "data": {
      "text/plain": [
       "<matplotlib.axes._subplots.AxesSubplot at 0x7ff01ef1ee10>"
      ]
     },
     "execution_count": 107,
     "metadata": {},
     "output_type": "execute_result"
    },
    {
     "data": {
      "image/png": "[encoded data removed]",
      "text/plain": [
       "<Figure size 432x288 with 1 Axes>"
      ]
     },
     "metadata": {
      "needs_background": "light"
     },
     "output_type": "display_data"
    }
   ],
   "source": [
    "# df_dist = pd.DataFrame(0, index=[0], columns = ['S','D','B','E','N'])\n",
    "df_dist = pd.DataFrame(0, index=[1,2,3,4,5,6], columns = ['count_observable_sound_dir'])\n",
    "df_dist['Observable'] = ['S', 'D', 'B', 'E', 'N', 'M'] #M: dummy sound - mono\n",
    "\n",
    "for dialog_nb in range(0,6): # loop through dialogs   \n",
    "    for pid in range(0,42): # loop through participants\n",
    "        a = np.array(np.unique(np.asarray(observable_sound_dir_adjusted[dialog_nb][pid]), return_counts=True)).T\n",
    "        for a_i in a:\n",
    "            df_dist['count_observable_sound_dir'][a_i[0]] = df_dist['count_observable_sound_dir'][a_i[0]] + a_i[1]\n",
    "            \n",
    "df_dist.plot.bar(x='Observable', y='count_observable_sound_dir', rot=0)            "
   ]
  },
  {
   "cell_type": "code",
   "execution_count": 131,
   "metadata": {},
   "outputs": [
    {
     "data": {
      "text/plain": [
       "<matplotlib.axes._subplots.AxesSubplot at 0x7fdb6f6f24d0>"
      ]
     },
     "execution_count": 131,
     "metadata": {},
     "output_type": "execute_result"
    },
    {
     "data": {
      "image/png": "[encoded data removed]",
      "text/plain": [
       "<Figure size 432x288 with 1 Axes>"
      ]
     },
     "metadata": {
      "needs_background": "light"
     },
     "output_type": "display_data"
    }
   ],
   "source": [
    "# df_dist = pd.DataFrame(0, index=[0], columns = ['S','D','B','E','N'])\n",
    "df_dist = pd.DataFrame(0, index=[1,2,3,4,5,6], columns = ['count_observable_sound_dir'])\n",
    "df_dist['Observable'] = ['S', 'D', 'B', 'E', 'N', 'M'] #M: dummy sound - mono\n",
    "\n",
    "for dialog_nb in range(0,6): # loop through dialogs   \n",
    "    for pid in range(1,2): # certain participants\n",
    "        a = np.array(np.unique(np.asarray(observable_sound_dir_adjusted[dialog_nb][pid]), return_counts=True)).T\n",
    "        for a_i in a:\n",
    "            df_dist['count_observable_sound_dir'][a_i[0]] = df_dist['count_observable_sound_dir'][a_i[0]] + a_i[1]\n",
    "            \n",
    "df_dist.plot.bar(x='Observable', y='count_observable_sound_dir', rot=0)            "
   ]
  },
  {
   "cell_type": "code",
   "execution_count": 132,
   "metadata": {},
   "outputs": [
    {
     "data": {
      "text/html": [
       "<div>\n",
       "<style scoped>\n",
       "    .dataframe tbody tr th:only-of-type {\n",
       "        vertical-align: middle;\n",
       "    }\n",
       "\n",
       "    .dataframe tbody tr th {\n",
       "        vertical-align: top;\n",
       "    }\n",
       "\n",
       "    .dataframe thead th {\n",
       "        text-align: right;\n",
       "    }\n",
       "</style>\n",
       "<table border=\"1\" class=\"dataframe\">\n",
       "  <thead>\n",
       "    <tr style=\"text-align: right;\">\n",
       "      <th></th>\n",
       "      <th>count_observable_sound_dir</th>\n",
       "      <th>Observable</th>\n",
       "    </tr>\n",
       "  </thead>\n",
       "  <tbody>\n",
       "    <tr>\n",
       "      <th>1</th>\n",
       "      <td>2666</td>\n",
       "      <td>S</td>\n",
       "    </tr>\n",
       "    <tr>\n",
       "      <th>2</th>\n",
       "      <td>1529</td>\n",
       "      <td>D</td>\n",
       "    </tr>\n",
       "    <tr>\n",
       "      <th>3</th>\n",
       "      <td>0</td>\n",
       "      <td>B</td>\n",
       "    </tr>\n",
       "    <tr>\n",
       "      <th>4</th>\n",
       "      <td>2208</td>\n",
       "      <td>E</td>\n",
       "    </tr>\n",
       "    <tr>\n",
       "      <th>5</th>\n",
       "      <td>5472</td>\n",
       "      <td>N</td>\n",
       "    </tr>\n",
       "    <tr>\n",
       "      <th>6</th>\n",
       "      <td>6975</td>\n",
       "      <td>M</td>\n",
       "    </tr>\n",
       "  </tbody>\n",
       "</table>\n",
       "</div>"
      ],
      "text/plain": [
       "   count_observable_sound_dir Observable\n",
       "1                        2666          S\n",
       "2                        1529          D\n",
       "3                           0          B\n",
       "4                        2208          E\n",
       "5                        5472          N\n",
       "6                        6975          M"
      ]
     },
     "execution_count": 132,
     "metadata": {},
     "output_type": "execute_result"
    }
   ],
   "source": [
    "df_dist"
   ]
  },
  {
   "cell_type": "code",
   "execution_count": 177,
   "metadata": {},
   "outputs": [
    {
     "name": "stderr",
     "output_type": "stream",
     "text": [
      "/Applications/anaconda3/lib/python3.7/site-packages/ipykernel_launcher.py:7: SettingWithCopyWarning: \n",
      "A value is trying to be set on a copy of a slice from a DataFrame\n",
      "\n",
      "See the caveats in the documentation: https://pandas.pydata.org/pandas-docs/stable/user_guide/indexing.html#returning-a-view-versus-a-copy\n",
      "  import sys\n",
      "/Applications/anaconda3/lib/python3.7/site-packages/ipykernel_launcher.py:7: SettingWithCopyWarning: \n",
      "A value is trying to be set on a copy of a slice from a DataFrame\n",
      "\n",
      "See the caveats in the documentation: https://pandas.pydata.org/pandas-docs/stable/user_guide/indexing.html#returning-a-view-versus-a-copy\n",
      "  import sys\n",
      "/Applications/anaconda3/lib/python3.7/site-packages/ipykernel_launcher.py:7: SettingWithCopyWarning: \n",
      "A value is trying to be set on a copy of a slice from a DataFrame\n",
      "\n",
      "See the caveats in the documentation: https://pandas.pydata.org/pandas-docs/stable/user_guide/indexing.html#returning-a-view-versus-a-copy\n",
      "  import sys\n",
      "/Applications/anaconda3/lib/python3.7/site-packages/ipykernel_launcher.py:7: SettingWithCopyWarning: \n",
      "A value is trying to be set on a copy of a slice from a DataFrame\n",
      "\n",
      "See the caveats in the documentation: https://pandas.pydata.org/pandas-docs/stable/user_guide/indexing.html#returning-a-view-versus-a-copy\n",
      "  import sys\n"
     ]
    },
    {
     "name": "stdout",
     "output_type": "stream",
     "text": [
      "    count Observable  perc_F  perc_O\n",
      "1       0          S     NaN     0.0\n",
      "2       0          D     NaN     0.0\n",
      "3       0          B     NaN     0.0\n",
      "4       0          E     NaN     0.0\n",
      "5       0          N     NaN     0.0\n",
      "6  150990          M     NaN     1.0\n",
      "0.0\n",
      "1.0\n",
      "   count Observable  perc_F  perc_O\n",
      "1  25335          S   0.564   0.207\n",
      "2  15089          D   0.336   0.123\n",
      "3      0          B     NaN   0.000\n",
      "4  22445          E   0.027   0.184\n",
      "5  59351          N   0.073   0.486\n",
      "6      0          M     NaN   0.000\n",
      "0.9999999999999999\n",
      "1.0\n",
      "   count Observable  perc_F  perc_O\n",
      "1  34841          S   0.709   0.255\n",
      "2   9399          D   0.191   0.069\n",
      "3      0          B     NaN   0.000\n",
      "4  26801          E   0.029   0.196\n",
      "5  65711          N   0.071   0.481\n",
      "6      0          M     NaN   0.000\n",
      "0.9999999999999999\n",
      "1.001\n",
      "   count Observable  perc_F  perc_O\n",
      "1  28532          S   0.651   0.261\n",
      "2  10896          D   0.249   0.100\n",
      "3      0          B     NaN   0.000\n",
      "4  17201          E   0.025   0.157\n",
      "5  52781          N   0.075   0.482\n",
      "6      0          M     NaN   0.000\n",
      "1.0\n",
      "1.0\n",
      "   count Observable  perc_F  perc_O\n",
      "1  31603          S   0.696   0.242\n",
      "2   9239          D   0.204   0.071\n",
      "3      0          B     NaN   0.000\n",
      "4  23830          E   0.027   0.183\n",
      "5  65696          N   0.073   0.504\n",
      "6      0          M     NaN   0.000\n",
      "0.9999999999999999\n",
      "1.0\n",
      "    count Observable  perc_F  perc_O\n",
      "1       0          S     NaN     0.0\n",
      "2       0          D     NaN     0.0\n",
      "3       0          B     NaN     0.0\n",
      "4       0          E     NaN     0.0\n",
      "5       0          N     NaN     0.0\n",
      "6  141960          M     NaN     1.0\n",
      "0.0\n",
      "1.0\n"
     ]
    },
    {
     "name": "stderr",
     "output_type": "stream",
     "text": [
      "/Applications/anaconda3/lib/python3.7/site-packages/ipykernel_launcher.py:7: SettingWithCopyWarning: \n",
      "A value is trying to be set on a copy of a slice from a DataFrame\n",
      "\n",
      "See the caveats in the documentation: https://pandas.pydata.org/pandas-docs/stable/user_guide/indexing.html#returning-a-view-versus-a-copy\n",
      "  import sys\n",
      "/Applications/anaconda3/lib/python3.7/site-packages/ipykernel_launcher.py:7: SettingWithCopyWarning: \n",
      "A value is trying to be set on a copy of a slice from a DataFrame\n",
      "\n",
      "See the caveats in the documentation: https://pandas.pydata.org/pandas-docs/stable/user_guide/indexing.html#returning-a-view-versus-a-copy\n",
      "  import sys\n"
     ]
    },
    {
     "data": {
      "image/png": "[encoded data removed]",
      "text/plain": [
       "<Figure size 432x288 with 1 Axes>"
      ]
     },
     "metadata": {
      "needs_background": "light"
     },
     "output_type": "display_data"
    },
    {
     "data": {
      "image/png": "[encoded data removed]",
      "text/plain": [
       "<Figure size 432x288 with 1 Axes>"
      ]
     },
     "metadata": {
      "needs_background": "light"
     },
     "output_type": "display_data"
    },
    {
     "data": {
      "image/png": "[encoded data removed]",
      "text/plain": [
       "<Figure size 432x288 with 1 Axes>"
      ]
     },
     "metadata": {
      "needs_background": "light"
     },
     "output_type": "display_data"
    },
    {
     "data": {
      "image/png": "[encoded data removed]",
      "text/plain": [
       "<Figure size 432x288 with 1 Axes>"
      ]
     },
     "metadata": {
      "needs_background": "light"
     },
     "output_type": "display_data"
    },
    {
     "data": {
      "image/png": "[encoded data removed]",
      "text/plain": [
       "<Figure size 432x288 with 1 Axes>"
      ]
     },
     "metadata": {
      "needs_background": "light"
     },
     "output_type": "display_data"
    },
    {
     "data": {
      "image/png": "[encoded data removed]",
      "text/plain": [
       "<Figure size 432x288 with 1 Axes>"
      ]
     },
     "metadata": {
      "needs_background": "light"
     },
     "output_type": "display_data"
    }
   ],
   "source": [
    "for dialog_nb in range(0,6): # loop through dialogs \n",
    "    df_dist = pd.DataFrame(0, index=[1,2,3,4,5,6], columns = ['count'])\n",
    "    df_dist['Observable'] = ['S', 'D', 'B', 'E', 'N', 'M'] #M: dummy sound - mono\n",
    "    for pid in range(0,42): # loop through participants\n",
    "        a = np.array(np.unique(np.asarray(observable_sound_dir_adjusted[dialog_nb][pid]), return_counts=True)).T\n",
    "        for a_i in a:\n",
    "            df_dist['count'][a_i[0]] = df_dist['count'][a_i[0]] + a_i[1]\n",
    "    df_dist.plot.bar(x='Observable', y='count', rot=0)\n",
    "    plt.title(\"dialog\" + str(dialog_nb+1))\n",
    "    \n",
    "    df_dist.loc[df_dist['Observable'] == 'S', 'perc_F'] = round(0.9 * df_dist.loc[df_dist['Observable'] == 'S', 'count']/df_dist[0:2]['count'].sum(),3) \n",
    "    df_dist.loc[df_dist['Observable'] == 'D', 'perc_F'] = round(0.9 * df_dist.loc[df_dist['Observable'] == 'D', 'count']/df_dist[0:2]['count'].sum(),3)\n",
    "    df_dist.loc[df_dist['Observable'] == 'E', 'perc_F'] = round(0.1 * df_dist.loc[df_dist['Observable'] == 'E', 'count']/df_dist[3:5]['count'].sum(),3)\n",
    "    df_dist.loc[df_dist['Observable'] == 'N', 'perc_F'] = round(0.1 * df_dist.loc[df_dist['Observable'] == 'N', 'count']/df_dist[3:5]['count'].sum(),3)\n",
    "    \n",
    "    df_dist['perc_O'] = round(df_dist['count']/df_dist['count'].sum(),3) \n",
    "                                                                \n",
    "    print(df_dist)\n",
    "    print(df_dist.perc_F.sum())\n",
    "    print(df_dist.perc_O.sum())\n",
    "   "
   ]
  },
  {
   "cell_type": "markdown",
   "metadata": {},
   "source": [
    "##### Consolidate bbservable based on speech direction (with pseudo- adjustment for dialog 2 and 4) and speech act"
   ]
  },
  {
   "cell_type": "code",
   "execution_count": 126,
   "metadata": {},
   "outputs": [
    {
     "name": "stdout",
     "output_type": "stream",
     "text": [
      "saved observables for dialog 1\n",
      "saved observables for dialog 2\n",
      "saved observables for dialog 3\n",
      "saved observables for dialog 4\n",
      "saved observables for dialog 5\n",
      "saved observables for dialog 6\n"
     ]
    }
   ],
   "source": [
    "# https://stackoverflow.com/questions/27929472/improve-row-append-performance-on-pandas-dataframes\n",
    "consolidate_obs = [None] * 6\n",
    "for dialog_nb in range(0,6): # loop through binaural/head dialogs: 2,3,4,5\n",
    "    consolidate_obs[dialog_nb] = pd.DataFrame(columns = ['pid','frame_nb','o_sound','o_speech_act'])\n",
    "    d = {}\n",
    "    index_i = 0\n",
    "    for pid in range(0,42): # loop through participants  \n",
    "        for frame_nb in range(0, frame_length[dialog_nb]):\n",
    "            d[index_i] = {'pid':pid, 'frame_nb':frame_nb, 'o_sound':observable_sound_dir_adjusted[dialog_nb][pid][frame_nb], 'o_speech_act':observable_speech_act[dialog_nb][pid][frame_nb]}\n",
    "            index_i = index_i + 1\n",
    "    consolidate_obs[dialog_nb] = pd.DataFrame.from_dict(d, \"index\")\n",
    "    consolidate_obs[dialog_nb].to_csv(\"consolidate_obs_\" + str(dialog_nb+1) +\".csv\")\n",
    "    print(\"saved observables for dialog \" + str(dialog_nb+1))"
   ]
  },
  {
   "cell_type": "code",
   "execution_count": 182,
   "metadata": {},
   "outputs": [
    {
     "name": "stdout",
     "output_type": "stream",
     "text": [
      "saved observables for dialog 1\n",
      "saved observables for dialog 2\n",
      "saved observables for dialog 3\n",
      "saved observables for dialog 4\n",
      "saved observables for dialog 5\n",
      "saved observables for dialog 6\n"
     ]
    }
   ],
   "source": [
    "# to meet mHMM format\n",
    "for dialog_nb in range(0,6): # loop through binaural/head dialogs: 2,3,4,5\n",
    "    d = {}\n",
    "    index_i = 0\n",
    "    for pid in range(0,42): # loop through participants  \n",
    "        consolidate_obs_temp = pd.DataFrame(columns = ['pid','frame_nb','o_sound','o_speech_act'])\n",
    "        for frame_nb in range(0, frame_length[dialog_nb]):\n",
    "            o_sound_num = observable_sound_dir_adjusted[dialog_nb][pid][frame_nb]\n",
    "            o_speech_num = observable_speech_act[dialog_nb][pid][frame_nb]\n",
    "            \n",
    "            if o_sound_num == 1:\n",
    "                o_sound = \"S\"\n",
    "            elif o_sound_num == 2:\n",
    "                o_sound = \"D\"\n",
    "            elif o_sound_num == 4:\n",
    "                o_sound = \"E\"\n",
    "            elif o_sound_num == 5:\n",
    "                o_sound = \"N\"\n",
    "            else: #6\n",
    "                o_sound = \"M\"\n",
    "                \n",
    "            if o_speech_num == 1:\n",
    "                o_speech = \"S\"\n",
    "            elif o_speech_num == 2:\n",
    "                o_speech = \"D\"\n",
    "            elif o_speech_num == 3:\n",
    "                o_speech = \"B\"\n",
    "            elif o_speech_num == 4:\n",
    "                o_speech = \"E\"\n",
    "            else: #5\n",
    "                o_speech = \"N\"\n",
    "            \n",
    "            d[index_i] = {'pid':pid, 'frame_nb':frame_nb, 'o_sound':o_sound, 'o_speech_act':o_speech}\n",
    "            index_i = index_i + 1\n",
    "        consolidate_obs_temp = pd.DataFrame.from_dict(d, \"index\")\n",
    "        consolidate_obs_temp.to_csv(\"hmm_observations/dialog\" + str(dialog_nb+1) + \"/obs_dialog\" + str(dialog_nb+1) + \"_p\" + str(pid) +\".csv\",index=False)\n",
    "    print(\"saved observables for dialog \" + str(dialog_nb+1))"
   ]
  },
  {
   "cell_type": "markdown",
   "metadata": {},
   "source": [
    "##### Continue with mHMM code in R (see mHMM.R and mHMM_mono.R)"
   ]
  },
  {
   "cell_type": "markdown",
   "metadata": {},
   "source": [
    "Reference: https://cran.r-project.org/web/packages/mHMMbayes/vignettes/tutorial-mhmm.html"
   ]
  },
  {
   "cell_type": "code",
   "execution_count": 147,
   "metadata": {},
   "outputs": [],
   "source": [
    "dialog2_states = pd.read_csv(\"/Users/zhongs/Desktop/Loic/Thesis_new/4_analysis/states/dialog1.csv\")"
   ]
  },
  {
   "cell_type": "code",
   "execution_count": 148,
   "metadata": {},
   "outputs": [],
   "source": [
    "dialog2_states.drop(columns=['Unnamed: 0'], inplace = True)"
   ]
  },
  {
   "cell_type": "code",
   "execution_count": 149,
   "metadata": {},
   "outputs": [
    {
     "data": {
      "text/html": [
       "<div>\n",
       "<style scoped>\n",
       "    .dataframe tbody tr th:only-of-type {\n",
       "        vertical-align: middle;\n",
       "    }\n",
       "\n",
       "    .dataframe tbody tr th {\n",
       "        vertical-align: top;\n",
       "    }\n",
       "\n",
       "    .dataframe thead th {\n",
       "        text-align: right;\n",
       "    }\n",
       "</style>\n",
       "<table border=\"1\" class=\"dataframe\">\n",
       "  <thead>\n",
       "    <tr style=\"text-align: right;\">\n",
       "      <th></th>\n",
       "      <th>Subj_1</th>\n",
       "      <th>Subj_2</th>\n",
       "      <th>Subj_3</th>\n",
       "      <th>Subj_4</th>\n",
       "      <th>Subj_5</th>\n",
       "      <th>Subj_6</th>\n",
       "      <th>Subj_7</th>\n",
       "      <th>Subj_8</th>\n",
       "      <th>Subj_9</th>\n",
       "      <th>Subj_10</th>\n",
       "      <th>...</th>\n",
       "      <th>Subj_33</th>\n",
       "      <th>Subj_34</th>\n",
       "      <th>Subj_35</th>\n",
       "      <th>Subj_36</th>\n",
       "      <th>Subj_37</th>\n",
       "      <th>Subj_38</th>\n",
       "      <th>Subj_39</th>\n",
       "      <th>Subj_40</th>\n",
       "      <th>Subj_41</th>\n",
       "      <th>Subj_42</th>\n",
       "    </tr>\n",
       "  </thead>\n",
       "  <tbody>\n",
       "    <tr>\n",
       "      <th>122215</th>\n",
       "      <td>NaN</td>\n",
       "      <td>NaN</td>\n",
       "      <td>NaN</td>\n",
       "      <td>NaN</td>\n",
       "      <td>NaN</td>\n",
       "      <td>NaN</td>\n",
       "      <td>NaN</td>\n",
       "      <td>NaN</td>\n",
       "      <td>NaN</td>\n",
       "      <td>NaN</td>\n",
       "      <td>...</td>\n",
       "      <td>NaN</td>\n",
       "      <td>NaN</td>\n",
       "      <td>NaN</td>\n",
       "      <td>NaN</td>\n",
       "      <td>NaN</td>\n",
       "      <td>NaN</td>\n",
       "      <td>NaN</td>\n",
       "      <td>NaN</td>\n",
       "      <td>NaN</td>\n",
       "      <td>2</td>\n",
       "    </tr>\n",
       "    <tr>\n",
       "      <th>122216</th>\n",
       "      <td>NaN</td>\n",
       "      <td>NaN</td>\n",
       "      <td>NaN</td>\n",
       "      <td>NaN</td>\n",
       "      <td>NaN</td>\n",
       "      <td>NaN</td>\n",
       "      <td>NaN</td>\n",
       "      <td>NaN</td>\n",
       "      <td>NaN</td>\n",
       "      <td>NaN</td>\n",
       "      <td>...</td>\n",
       "      <td>NaN</td>\n",
       "      <td>NaN</td>\n",
       "      <td>NaN</td>\n",
       "      <td>NaN</td>\n",
       "      <td>NaN</td>\n",
       "      <td>NaN</td>\n",
       "      <td>NaN</td>\n",
       "      <td>NaN</td>\n",
       "      <td>NaN</td>\n",
       "      <td>2</td>\n",
       "    </tr>\n",
       "    <tr>\n",
       "      <th>122217</th>\n",
       "      <td>NaN</td>\n",
       "      <td>NaN</td>\n",
       "      <td>NaN</td>\n",
       "      <td>NaN</td>\n",
       "      <td>NaN</td>\n",
       "      <td>NaN</td>\n",
       "      <td>NaN</td>\n",
       "      <td>NaN</td>\n",
       "      <td>NaN</td>\n",
       "      <td>NaN</td>\n",
       "      <td>...</td>\n",
       "      <td>NaN</td>\n",
       "      <td>NaN</td>\n",
       "      <td>NaN</td>\n",
       "      <td>NaN</td>\n",
       "      <td>NaN</td>\n",
       "      <td>NaN</td>\n",
       "      <td>NaN</td>\n",
       "      <td>NaN</td>\n",
       "      <td>NaN</td>\n",
       "      <td>2</td>\n",
       "    </tr>\n",
       "    <tr>\n",
       "      <th>122218</th>\n",
       "      <td>NaN</td>\n",
       "      <td>NaN</td>\n",
       "      <td>NaN</td>\n",
       "      <td>NaN</td>\n",
       "      <td>NaN</td>\n",
       "      <td>NaN</td>\n",
       "      <td>NaN</td>\n",
       "      <td>NaN</td>\n",
       "      <td>NaN</td>\n",
       "      <td>NaN</td>\n",
       "      <td>...</td>\n",
       "      <td>NaN</td>\n",
       "      <td>NaN</td>\n",
       "      <td>NaN</td>\n",
       "      <td>NaN</td>\n",
       "      <td>NaN</td>\n",
       "      <td>NaN</td>\n",
       "      <td>NaN</td>\n",
       "      <td>NaN</td>\n",
       "      <td>NaN</td>\n",
       "      <td>2</td>\n",
       "    </tr>\n",
       "    <tr>\n",
       "      <th>122219</th>\n",
       "      <td>NaN</td>\n",
       "      <td>NaN</td>\n",
       "      <td>NaN</td>\n",
       "      <td>NaN</td>\n",
       "      <td>NaN</td>\n",
       "      <td>NaN</td>\n",
       "      <td>NaN</td>\n",
       "      <td>NaN</td>\n",
       "      <td>NaN</td>\n",
       "      <td>NaN</td>\n",
       "      <td>...</td>\n",
       "      <td>NaN</td>\n",
       "      <td>NaN</td>\n",
       "      <td>NaN</td>\n",
       "      <td>NaN</td>\n",
       "      <td>NaN</td>\n",
       "      <td>NaN</td>\n",
       "      <td>NaN</td>\n",
       "      <td>NaN</td>\n",
       "      <td>NaN</td>\n",
       "      <td>2</td>\n",
       "    </tr>\n",
       "  </tbody>\n",
       "</table>\n",
       "<p>5 rows × 42 columns</p>\n",
       "</div>"
      ],
      "text/plain": [
       "        Subj_1  Subj_2  Subj_3  Subj_4  Subj_5  Subj_6  Subj_7  Subj_8  \\\n",
       "122215     NaN     NaN     NaN     NaN     NaN     NaN     NaN     NaN   \n",
       "122216     NaN     NaN     NaN     NaN     NaN     NaN     NaN     NaN   \n",
       "122217     NaN     NaN     NaN     NaN     NaN     NaN     NaN     NaN   \n",
       "122218     NaN     NaN     NaN     NaN     NaN     NaN     NaN     NaN   \n",
       "122219     NaN     NaN     NaN     NaN     NaN     NaN     NaN     NaN   \n",
       "\n",
       "        Subj_9  Subj_10  ...  Subj_33  Subj_34  Subj_35  Subj_36  Subj_37  \\\n",
       "122215     NaN      NaN  ...      NaN      NaN      NaN      NaN      NaN   \n",
       "122216     NaN      NaN  ...      NaN      NaN      NaN      NaN      NaN   \n",
       "122217     NaN      NaN  ...      NaN      NaN      NaN      NaN      NaN   \n",
       "122218     NaN      NaN  ...      NaN      NaN      NaN      NaN      NaN   \n",
       "122219     NaN      NaN  ...      NaN      NaN      NaN      NaN      NaN   \n",
       "\n",
       "        Subj_38  Subj_39  Subj_40  Subj_41  Subj_42  \n",
       "122215      NaN      NaN      NaN      NaN        2  \n",
       "122216      NaN      NaN      NaN      NaN        2  \n",
       "122217      NaN      NaN      NaN      NaN        2  \n",
       "122218      NaN      NaN      NaN      NaN        2  \n",
       "122219      NaN      NaN      NaN      NaN        2  \n",
       "\n",
       "[5 rows x 42 columns]"
      ]
     },
     "execution_count": 149,
     "metadata": {},
     "output_type": "execute_result"
    }
   ],
   "source": [
    "dialog2_states.tail()"
   ]
  },
  {
   "cell_type": "code",
   "execution_count": 152,
   "metadata": {},
   "outputs": [],
   "source": [
    "dialog2_states_res = {col:dialog2_states[col].value_counts() for col in dialog2_states.columns}"
   ]
  },
  {
   "cell_type": "code",
   "execution_count": 158,
   "metadata": {},
   "outputs": [
    {
     "data": {
      "text/plain": [
       "3090"
      ]
     },
     "execution_count": 158,
     "metadata": {},
     "output_type": "execute_result"
    }
   ],
   "source": [
    "dialog2_states_res['Subj_3'].loc[1]"
   ]
  },
  {
   "cell_type": "code",
   "execution_count": 162,
   "metadata": {},
   "outputs": [
    {
     "name": "stdout",
     "output_type": "stream",
     "text": [
      "Participant 1 state 2 to state 1 ratio: 4.480225988700565\n",
      "Participant 2 state 2 to state 1 ratio: 2.0583289542827115\n",
      "Participant 3 state 2 to state 1 ratio: 1.825242718446602\n",
      "Participant 4 state 2 to state 1 ratio: 1.7094972067039107\n",
      "Participant 5 state 2 to state 1 ratio: 1.507323798035499\n",
      "Participant 6 state 2 to state 1 ratio: 1.564629847238543\n",
      "Participant 7 state 2 to state 1 ratio: 1.6617012936103488\n",
      "Participant 8 state 2 to state 1 ratio: 1.6602673980116558\n",
      "Participant 9 state 2 to state 1 ratio: 1.8498367791077257\n",
      "Participant 10 state 2 to state 1 ratio: 1.8156748911465892\n",
      "Participant 11 state 2 to state 1 ratio: 1.904191616766467\n",
      "Participant 12 state 2 to state 1 ratio: 1.9915188897455667\n",
      "Participant 13 state 2 to state 1 ratio: 1.9834384858044165\n",
      "Participant 14 state 2 to state 1 ratio: 1.8336927036238437\n",
      "Participant 15 state 2 to state 1 ratio: 2.1207549867734325\n",
      "Participant 16 state 2 to state 1 ratio: 2.0569233799487887\n",
      "Participant 17 state 2 to state 1 ratio: 2.0847415351998504\n",
      "Participant 18 state 2 to state 1 ratio: 2.0725011731581415\n",
      "Participant 19 state 2 to state 1 ratio: 2.069449841780936\n",
      "Participant 20 state 2 to state 1 ratio: 2.0922905265395038\n",
      "Participant 21 state 2 to state 1 ratio: 2.0948040109389243\n",
      "Participant 22 state 2 to state 1 ratio: 2.0784766301211772\n",
      "Participant 23 state 2 to state 1 ratio: 2.1185350852669833\n",
      "Participant 24 state 2 to state 1 ratio: 2.112715603690333\n",
      "Participant 25 state 2 to state 1 ratio: 2.188412148836394\n",
      "Participant 26 state 2 to state 1 ratio: 2.2111026228673287\n",
      "Participant 27 state 2 to state 1 ratio: 2.2316044914243407\n",
      "Participant 28 state 2 to state 1 ratio: 2.1969239219994505\n",
      "Participant 29 state 2 to state 1 ratio: 2.180208019294543\n",
      "Participant 30 state 2 to state 1 ratio: 2.1596091205211727\n",
      "Participant 31 state 2 to state 1 ratio: 2.1511108006147825\n",
      "Participant 32 state 2 to state 1 ratio: 2.0829332891905312\n",
      "Participant 33 state 2 to state 1 ratio: 2.1041505042668733\n",
      "Participant 34 state 2 to state 1 ratio: 2.116711293117026\n",
      "Participant 35 state 2 to state 1 ratio: 2.142645561418125\n",
      "Participant 36 state 2 to state 1 ratio: 2.174641655807752\n",
      "Participant 37 state 2 to state 1 ratio: 2.095655674074926\n",
      "Participant 38 state 2 to state 1 ratio: 2.0531779778010932\n",
      "Participant 39 state 2 to state 1 ratio: 1.98147904899514\n",
      "Participant 40 state 2 to state 1 ratio: 1.990673415379872\n",
      "Participant 41 state 2 to state 1 ratio: 2.0253315414458504\n",
      "Participant 42 state 2 to state 1 ratio: 2.1636165972096393\n",
      "Average state ratio (state 2 to state 1): 2.0733252866626435\n"
     ]
    }
   ],
   "source": [
    "sum_state2 = 0\n",
    "sum_state1 = 0\n",
    "for i in range(1,43):\n",
    "    print (\"Participant \" + str(i) + \" state 2 to state 1 ratio: \" + str(dialog2_states_res['Subj_'+ str(i)].loc[2]/dialog2_states_res['Subj_'+ str(i)].loc[1]))\n",
    "    \n",
    "    sum_state2 = sum_state2 + dialog2_states_res['Subj_'+ str(i)].loc[2]\n",
    "    sum_state1 = sum_state1 + dialog2_states_res['Subj_'+ str(i)].loc[1]\n",
    "print(\"Average state ratio (state 2 to state 1): \" + str(sum_state2/sum_state1))"
   ]
  },
  {
   "cell_type": "markdown",
   "metadata": {},
   "source": [
    "Put into one"
   ]
  },
  {
   "cell_type": "code",
   "execution_count": 187,
   "metadata": {},
   "outputs": [],
   "source": [
    "def check_state(filename, dialog_id, mask_, sound_):\n",
    "    dialog_states = pd.read_csv(filename)\n",
    "    dialog_states.drop(columns=['Unnamed: 0'], inplace = True)\n",
    "    dialog_states_res = {col:dialog_states[col].value_counts() for col in dialog_states.columns}\n",
    "    sum_state2 = 0\n",
    "    sum_state1 = 0\n",
    "    df = pd.DataFrame(columns=['PID', 'dialog_id', 'mask', 'sound','state1_to_2_ratio'])\n",
    "    for i in range(1,43):\n",
    "        ratio = dialog_states_res['Subj_'+ str(i)].loc[2]/dialog_states_res['Subj_'+ str(i)].loc[1]\n",
    "        print (\"Participant \" + str(i) + \" state 2 to state 1 ratio: \" + str(ratio))\n",
    "\n",
    "        sum_state2 = sum_state2 + dialog_states_res['Subj_'+ str(i)].loc[2]\n",
    "        sum_state1 = sum_state1 + dialog_states_res['Subj_'+ str(i)].loc[1]\n",
    "        df.loc[i-1] = [i] + [dialog_id] + [mask_] + [sound_] + [ratio]\n",
    "    print(\"_______________________\")\n",
    "    print(\"Average state ratio (state 2 to state 1): \" + str(sum_state2/sum_state1))\n",
    "    return df\n",
    "    "
   ]
  },
  {
   "cell_type": "code",
   "execution_count": 203,
   "metadata": {},
   "outputs": [
    {
     "name": "stdout",
     "output_type": "stream",
     "text": [
      "Participant 1 state 2 to state 1 ratio: 4.480225988700565\n",
      "Participant 2 state 2 to state 1 ratio: 2.0583289542827115\n",
      "Participant 3 state 2 to state 1 ratio: 1.825242718446602\n",
      "Participant 4 state 2 to state 1 ratio: 1.7094972067039107\n",
      "Participant 5 state 2 to state 1 ratio: 1.507323798035499\n",
      "Participant 6 state 2 to state 1 ratio: 1.564629847238543\n",
      "Participant 7 state 2 to state 1 ratio: 1.6617012936103488\n",
      "Participant 8 state 2 to state 1 ratio: 1.6602673980116558\n",
      "Participant 9 state 2 to state 1 ratio: 1.8498367791077257\n",
      "Participant 10 state 2 to state 1 ratio: 1.8156748911465892\n",
      "Participant 11 state 2 to state 1 ratio: 1.904191616766467\n",
      "Participant 12 state 2 to state 1 ratio: 1.9915188897455667\n",
      "Participant 13 state 2 to state 1 ratio: 1.9834384858044165\n",
      "Participant 14 state 2 to state 1 ratio: 1.8336927036238437\n",
      "Participant 15 state 2 to state 1 ratio: 2.1207549867734325\n",
      "Participant 16 state 2 to state 1 ratio: 2.0569233799487887\n",
      "Participant 17 state 2 to state 1 ratio: 2.0847415351998504\n",
      "Participant 18 state 2 to state 1 ratio: 2.0725011731581415\n",
      "Participant 19 state 2 to state 1 ratio: 2.069449841780936\n",
      "Participant 20 state 2 to state 1 ratio: 2.0922905265395038\n",
      "Participant 21 state 2 to state 1 ratio: 2.0948040109389243\n",
      "Participant 22 state 2 to state 1 ratio: 2.0784766301211772\n",
      "Participant 23 state 2 to state 1 ratio: 2.1185350852669833\n",
      "Participant 24 state 2 to state 1 ratio: 2.112715603690333\n",
      "Participant 25 state 2 to state 1 ratio: 2.188412148836394\n",
      "Participant 26 state 2 to state 1 ratio: 2.2111026228673287\n",
      "Participant 27 state 2 to state 1 ratio: 2.2316044914243407\n",
      "Participant 28 state 2 to state 1 ratio: 2.1969239219994505\n",
      "Participant 29 state 2 to state 1 ratio: 2.180208019294543\n",
      "Participant 30 state 2 to state 1 ratio: 2.1596091205211727\n",
      "Participant 31 state 2 to state 1 ratio: 2.1511108006147825\n",
      "Participant 32 state 2 to state 1 ratio: 2.0829332891905312\n",
      "Participant 33 state 2 to state 1 ratio: 2.1041505042668733\n",
      "Participant 34 state 2 to state 1 ratio: 2.116711293117026\n",
      "Participant 35 state 2 to state 1 ratio: 2.142645561418125\n",
      "Participant 36 state 2 to state 1 ratio: 2.174641655807752\n",
      "Participant 37 state 2 to state 1 ratio: 2.095655674074926\n",
      "Participant 38 state 2 to state 1 ratio: 2.0531779778010932\n",
      "Participant 39 state 2 to state 1 ratio: 1.98147904899514\n",
      "Participant 40 state 2 to state 1 ratio: 1.990673415379872\n",
      "Participant 41 state 2 to state 1 ratio: 2.0253315414458504\n",
      "Participant 42 state 2 to state 1 ratio: 2.1636165972096393\n",
      "_______________________\n",
      "Average state ratio (state 2 to state 1): 2.0733252866626435\n"
     ]
    }
   ],
   "source": [
    "state_ratio_2 = check_state(\"/Users/zhongs/Desktop/Loic/Thesis_new/4_analysis/states/dialog2.csv\", 2, \"yes\", \"head\")"
   ]
  },
  {
   "cell_type": "code",
   "execution_count": 202,
   "metadata": {},
   "outputs": [
    {
     "data": {
      "text/html": [
       "<div>\n",
       "<style scoped>\n",
       "    .dataframe tbody tr th:only-of-type {\n",
       "        vertical-align: middle;\n",
       "    }\n",
       "\n",
       "    .dataframe tbody tr th {\n",
       "        vertical-align: top;\n",
       "    }\n",
       "\n",
       "    .dataframe thead th {\n",
       "        text-align: right;\n",
       "    }\n",
       "</style>\n",
       "<table border=\"1\" class=\"dataframe\">\n",
       "  <thead>\n",
       "    <tr style=\"text-align: right;\">\n",
       "      <th></th>\n",
       "      <th>PID</th>\n",
       "      <th>dialog_id</th>\n",
       "      <th>mask</th>\n",
       "      <th>sound</th>\n",
       "      <th>state1_to_2_ratio</th>\n",
       "    </tr>\n",
       "  </thead>\n",
       "  <tbody>\n",
       "    <tr>\n",
       "      <th>0</th>\n",
       "      <td>1</td>\n",
       "      <td>2</td>\n",
       "      <td>yes</td>\n",
       "      <td>head</td>\n",
       "      <td>4.480226</td>\n",
       "    </tr>\n",
       "    <tr>\n",
       "      <th>1</th>\n",
       "      <td>2</td>\n",
       "      <td>2</td>\n",
       "      <td>yes</td>\n",
       "      <td>head</td>\n",
       "      <td>2.058329</td>\n",
       "    </tr>\n",
       "    <tr>\n",
       "      <th>2</th>\n",
       "      <td>3</td>\n",
       "      <td>2</td>\n",
       "      <td>yes</td>\n",
       "      <td>head</td>\n",
       "      <td>1.825243</td>\n",
       "    </tr>\n",
       "    <tr>\n",
       "      <th>3</th>\n",
       "      <td>4</td>\n",
       "      <td>2</td>\n",
       "      <td>yes</td>\n",
       "      <td>head</td>\n",
       "      <td>1.709497</td>\n",
       "    </tr>\n",
       "    <tr>\n",
       "      <th>4</th>\n",
       "      <td>5</td>\n",
       "      <td>2</td>\n",
       "      <td>yes</td>\n",
       "      <td>head</td>\n",
       "      <td>1.507324</td>\n",
       "    </tr>\n",
       "  </tbody>\n",
       "</table>\n",
       "</div>"
      ],
      "text/plain": [
       "  PID dialog_id mask sound  state1_to_2_ratio\n",
       "0   1         2  yes  head           4.480226\n",
       "1   2         2  yes  head           2.058329\n",
       "2   3         2  yes  head           1.825243\n",
       "3   4         2  yes  head           1.709497\n",
       "4   5         2  yes  head           1.507324"
      ]
     },
     "execution_count": 202,
     "metadata": {},
     "output_type": "execute_result"
    }
   ],
   "source": [
    "state_ratio_2.head()"
   ]
  },
  {
   "cell_type": "code",
   "execution_count": 201,
   "metadata": {},
   "outputs": [
    {
     "name": "stdout",
     "output_type": "stream",
     "text": [
      "Participant 1 state 2 to state 1 ratio: 6.537037037037037\n",
      "Participant 2 state 2 to state 1 ratio: 5.371819960861057\n",
      "Participant 3 state 2 to state 1 ratio: 4.923590054578533\n",
      "Participant 4 state 2 to state 1 ratio: 3.4239130434782608\n",
      "Participant 5 state 2 to state 1 ratio: 2.4072833821682713\n",
      "Participant 6 state 2 to state 1 ratio: 2.421366024518389\n",
      "Participant 7 state 2 to state 1 ratio: 2.3946976467083707\n",
      "Participant 8 state 2 to state 1 ratio: 2.140583554376658\n",
      "Participant 9 state 2 to state 1 ratio: 2.0363692881566675\n",
      "Participant 10 state 2 to state 1 ratio: 1.924113156713067\n",
      "Participant 11 state 2 to state 1 ratio: 1.8618457850579304\n",
      "Participant 12 state 2 to state 1 ratio: 1.965841809625019\n",
      "Participant 13 state 2 to state 1 ratio: 2.0320916905444126\n",
      "Participant 14 state 2 to state 1 ratio: 1.9768170835238033\n",
      "Participant 15 state 2 to state 1 ratio: 1.9528415961305925\n",
      "Participant 16 state 2 to state 1 ratio: 2.043523982006193\n",
      "Participant 17 state 2 to state 1 ratio: 2.0577836703126726\n",
      "Participant 18 state 2 to state 1 ratio: 2.0566391989151978\n",
      "Participant 19 state 2 to state 1 ratio: 2.0666732761612057\n",
      "Participant 20 state 2 to state 1 ratio: 2.1298663846967223\n",
      "Participant 21 state 2 to state 1 ratio: 2.1514034198276257\n",
      "Participant 22 state 2 to state 1 ratio: 2.109027777777778\n",
      "Participant 23 state 2 to state 1 ratio: 2.139036760699166\n",
      "Participant 24 state 2 to state 1 ratio: 2.151221872731672\n",
      "Participant 25 state 2 to state 1 ratio: 2.1796875\n",
      "Participant 26 state 2 to state 1 ratio: 2.2522474068382636\n",
      "Participant 27 state 2 to state 1 ratio: 2.3219467956469164\n",
      "Participant 28 state 2 to state 1 ratio: 2.334601316752012\n",
      "Participant 29 state 2 to state 1 ratio: 2.3272490221642763\n",
      "Participant 30 state 2 to state 1 ratio: 2.307598537180008\n",
      "Participant 31 state 2 to state 1 ratio: 2.2256167710596957\n",
      "Participant 32 state 2 to state 1 ratio: 2.226657582608157\n",
      "Participant 33 state 2 to state 1 ratio: 2.236970536844008\n",
      "Participant 34 state 2 to state 1 ratio: 2.177223545618919\n",
      "Participant 35 state 2 to state 1 ratio: 2.2246745897000566\n",
      "Participant 36 state 2 to state 1 ratio: 2.24015922158337\n",
      "Participant 37 state 2 to state 1 ratio: 2.1775069895025583\n",
      "Participant 38 state 2 to state 1 ratio: 2.1289482335685204\n",
      "Participant 39 state 2 to state 1 ratio: 2.0995899238429994\n",
      "Participant 40 state 2 to state 1 ratio: 2.1005094510308053\n",
      "Participant 41 state 2 to state 1 ratio: 2.114771693226627\n",
      "Participant 42 state 2 to state 1 ratio: 2.091139240506329\n",
      "_______________________\n",
      "Average state ratio (state 2 to state 1): 2.173050897576748\n"
     ]
    }
   ],
   "source": [
    "state_ratio_3 = check_state(\"/Users/zhongs/Desktop/Loic/Thesis_new/4_analysis/states/dialog3.csv\", 3, \"no\", \"binaural\")"
   ]
  },
  {
   "cell_type": "code",
   "execution_count": 200,
   "metadata": {},
   "outputs": [
    {
     "name": "stdout",
     "output_type": "stream",
     "text": [
      "Participant 1 state 2 to state 1 ratio: 3.277504105090312\n",
      "Participant 2 state 2 to state 1 ratio: 2.5013440860215055\n",
      "Participant 3 state 2 to state 1 ratio: 1.9468325791855203\n",
      "Participant 4 state 2 to state 1 ratio: 1.5734749320819956\n",
      "Participant 5 state 2 to state 1 ratio: 1.3890315480557593\n",
      "Participant 6 state 2 to state 1 ratio: 1.4425691514299108\n",
      "Participant 7 state 2 to state 1 ratio: 1.4417514729512586\n",
      "Participant 8 state 2 to state 1 ratio: 1.5671347622567136\n",
      "Participant 9 state 2 to state 1 ratio: 1.5783569778950841\n",
      "Participant 10 state 2 to state 1 ratio: 1.5652387986213687\n",
      "Participant 11 state 2 to state 1 ratio: 1.6424751014385834\n",
      "Participant 12 state 2 to state 1 ratio: 1.755156002115283\n",
      "Participant 13 state 2 to state 1 ratio: 1.7323705018557367\n",
      "Participant 14 state 2 to state 1 ratio: 1.7048876362827263\n",
      "Participant 15 state 2 to state 1 ratio: 1.6639623670575403\n",
      "Participant 16 state 2 to state 1 ratio: 1.631977772164688\n",
      "Participant 17 state 2 to state 1 ratio: 1.6772867420349435\n",
      "Participant 18 state 2 to state 1 ratio: 1.80627206894488\n",
      "Participant 19 state 2 to state 1 ratio: 1.7737614884555033\n",
      "Participant 20 state 2 to state 1 ratio: 1.7320398531725223\n",
      "Participant 21 state 2 to state 1 ratio: 1.738125031282847\n",
      "Participant 22 state 2 to state 1 ratio: 1.725543349027441\n",
      "Participant 23 state 2 to state 1 ratio: 1.7297371178641396\n",
      "Participant 24 state 2 to state 1 ratio: 1.7411434584356367\n",
      "Participant 25 state 2 to state 1 ratio: 1.775291911702037\n",
      "Participant 26 state 2 to state 1 ratio: 1.7367868110554388\n",
      "Participant 27 state 2 to state 1 ratio: 1.7478902953586497\n",
      "Participant 28 state 2 to state 1 ratio: 1.768226498159323\n",
      "Participant 29 state 2 to state 1 ratio: 1.7617533084740806\n",
      "Participant 30 state 2 to state 1 ratio: 1.7985675917636526\n",
      "Participant 31 state 2 to state 1 ratio: 1.8595963172804533\n",
      "Participant 32 state 2 to state 1 ratio: 1.7407529179681078\n",
      "Participant 33 state 2 to state 1 ratio: 1.7218756926194472\n",
      "Participant 34 state 2 to state 1 ratio: 1.8411496760120614\n",
      "Participant 35 state 2 to state 1 ratio: 1.7213168576886342\n",
      "Participant 36 state 2 to state 1 ratio: 1.818755635707845\n",
      "Participant 37 state 2 to state 1 ratio: 1.7259743198144692\n",
      "Participant 38 state 2 to state 1 ratio: 1.7347570240627677\n",
      "Participant 39 state 2 to state 1 ratio: 1.822789030590981\n",
      "Participant 40 state 2 to state 1 ratio: 1.7241830065359478\n",
      "Participant 41 state 2 to state 1 ratio: 1.8317469576053238\n",
      "Participant 42 state 2 to state 1 ratio: 1.7749315207466776\n",
      "_______________________\n",
      "Average state ratio (state 2 to state 1): 1.7462798261856338\n"
     ]
    }
   ],
   "source": [
    "state_ratio_4 = check_state(\"/Users/zhongs/Desktop/Loic/Thesis_new/4_analysis/states/dialog4.csv\", 4, \"no\", \"head\")"
   ]
  },
  {
   "cell_type": "code",
   "execution_count": 199,
   "metadata": {},
   "outputs": [
    {
     "name": "stdout",
     "output_type": "stream",
     "text": [
      "Participant 1 state 2 to state 1 ratio: 3.753445635528331\n",
      "Participant 2 state 2 to state 1 ratio: 2.1934156378600824\n",
      "Participant 3 state 2 to state 1 ratio: 2.1102204408817635\n",
      "Participant 4 state 2 to state 1 ratio: 1.8353505366522036\n",
      "Participant 5 state 2 to state 1 ratio: 1.7376962427235845\n",
      "Participant 6 state 2 to state 1 ratio: 1.935687263556116\n",
      "Participant 7 state 2 to state 1 ratio: 2.0546885983410657\n",
      "Participant 8 state 2 to state 1 ratio: 1.9846153846153847\n",
      "Participant 9 state 2 to state 1 ratio: 1.9681257968550787\n",
      "Participant 10 state 2 to state 1 ratio: 1.847967703459033\n",
      "Participant 11 state 2 to state 1 ratio: 1.9916761587663192\n",
      "Participant 12 state 2 to state 1 ratio: 1.909772674009843\n",
      "Participant 13 state 2 to state 1 ratio: 1.9078331051379982\n",
      "Participant 14 state 2 to state 1 ratio: 2.095597663484827\n",
      "Participant 15 state 2 to state 1 ratio: 2.038371182458888\n",
      "Participant 16 state 2 to state 1 ratio: 2.149071079830068\n",
      "Participant 17 state 2 to state 1 ratio: 2.1953494005086593\n",
      "Participant 18 state 2 to state 1 ratio: 2.241023261210047\n",
      "Participant 19 state 2 to state 1 ratio: 2.2605042016806722\n",
      "Participant 20 state 2 to state 1 ratio: 2.1948947558025833\n",
      "Participant 21 state 2 to state 1 ratio: 2.2045622142470873\n",
      "Participant 22 state 2 to state 1 ratio: 2.160896130346232\n",
      "Participant 23 state 2 to state 1 ratio: 2.1681902902281\n",
      "Participant 24 state 2 to state 1 ratio: 2.2320708056748666\n",
      "Participant 25 state 2 to state 1 ratio: 2.2907849539883807\n",
      "Participant 26 state 2 to state 1 ratio: 2.317329825715225\n",
      "Participant 27 state 2 to state 1 ratio: 2.385908209437621\n",
      "Participant 28 state 2 to state 1 ratio: 2.364378895211551\n",
      "Participant 29 state 2 to state 1 ratio: 2.3723962235875917\n",
      "Participant 30 state 2 to state 1 ratio: 2.3975481611208407\n",
      "Participant 31 state 2 to state 1 ratio: 2.306553039414453\n",
      "Participant 32 state 2 to state 1 ratio: 2.2684435669628167\n",
      "Participant 33 state 2 to state 1 ratio: 2.2895083336009505\n",
      "Participant 34 state 2 to state 1 ratio: 2.260101322130236\n",
      "Participant 35 state 2 to state 1 ratio: 2.257668895619059\n",
      "Participant 36 state 2 to state 1 ratio: 2.2814729979737467\n",
      "Participant 37 state 2 to state 1 ratio: 2.2356106493872376\n",
      "Participant 38 state 2 to state 1 ratio: 2.22837749069411\n",
      "Participant 39 state 2 to state 1 ratio: 2.1375476246015084\n",
      "Participant 40 state 2 to state 1 ratio: 2.213084208891879\n",
      "Participant 41 state 2 to state 1 ratio: 2.2062884208404716\n",
      "Participant 42 state 2 to state 1 ratio: 2.192008226825327\n",
      "_______________________\n",
      "Average state ratio (state 2 to state 1): 2.212363000393106\n"
     ]
    }
   ],
   "source": [
    "state_ratio_5 = check_state(\"/Users/zhongs/Desktop/Loic/Thesis_new/4_analysis/states/dialog5.csv\", 5, \"yes\", \"binaural\")"
   ]
  },
  {
   "cell_type": "code",
   "execution_count": 198,
   "metadata": {},
   "outputs": [
    {
     "name": "stdout",
     "output_type": "stream",
     "text": [
      "Participant 1 state 2 to state 1 ratio: 6.681623931623932\n",
      "Participant 2 state 2 to state 1 ratio: 4.836038961038961\n",
      "Participant 3 state 2 to state 1 ratio: 3.3752535496957403\n",
      "Participant 4 state 2 to state 1 ratio: 3.364188163884674\n",
      "Participant 5 state 2 to state 1 ratio: 2.930680078722939\n",
      "Participant 6 state 2 to state 1 ratio: 3.39128664495114\n",
      "Participant 7 state 2 to state 1 ratio: 3.300239234449761\n",
      "Participant 8 state 2 to state 1 ratio: 3.228168185827698\n",
      "Participant 9 state 2 to state 1 ratio: 3.2123421429501366\n",
      "Participant 10 state 2 to state 1 ratio: 3.2721330956625074\n",
      "Participant 11 state 2 to state 1 ratio: 3.0709285567222566\n",
      "Participant 12 state 2 to state 1 ratio: 3.1705336426914155\n",
      "Participant 13 state 2 to state 1 ratio: 3.4568949074957085\n",
      "Participant 14 state 2 to state 1 ratio: 3.3035485250106884\n",
      "Participant 15 state 2 to state 1 ratio: 3.2933917197452227\n",
      "Participant 16 state 2 to state 1 ratio: 3.3157262905162064\n",
      "Participant 17 state 2 to state 1 ratio: 3.3142030213186504\n",
      "Participant 18 state 2 to state 1 ratio: 3.263688475983396\n",
      "Participant 19 state 2 to state 1 ratio: 3.3506369426751594\n",
      "Participant 20 state 2 to state 1 ratio: 3.3214328645269866\n",
      "Participant 21 state 2 to state 1 ratio: 3.3253695427982124\n",
      "Participant 22 state 2 to state 1 ratio: 3.1884234496637185\n",
      "Participant 23 state 2 to state 1 ratio: 3.1550251256281405\n",
      "Participant 24 state 2 to state 1 ratio: 3.08329389493611\n",
      "Participant 25 state 2 to state 1 ratio: 3.1847092238208314\n",
      "Participant 26 state 2 to state 1 ratio: 3.248443252579428\n",
      "Participant 27 state 2 to state 1 ratio: 3.2458772582126767\n",
      "Participant 28 state 2 to state 1 ratio: 3.2980358667805296\n",
      "Participant 29 state 2 to state 1 ratio: 3.244910423452769\n",
      "Participant 30 state 2 to state 1 ratio: 3.2472334895443624\n",
      "Participant 31 state 2 to state 1 ratio: 3.063924442985815\n",
      "Participant 32 state 2 to state 1 ratio: 3.002226551628166\n",
      "Participant 33 state 2 to state 1 ratio: 2.957402094869571\n",
      "Participant 34 state 2 to state 1 ratio: 2.918884257774928\n",
      "Participant 35 state 2 to state 1 ratio: 2.9489376392681166\n",
      "Participant 36 state 2 to state 1 ratio: 2.9558625748869054\n",
      "Participant 37 state 2 to state 1 ratio: 2.8671647866030936\n",
      "Participant 38 state 2 to state 1 ratio: 2.8427566807313642\n",
      "Participant 39 state 2 to state 1 ratio: 2.783495695819953\n",
      "Participant 40 state 2 to state 1 ratio: 2.7828168569474405\n",
      "Participant 41 state 2 to state 1 ratio: 2.805509656098317\n",
      "Participant 42 state 2 to state 1 ratio: 2.7922893381891245\n",
      "_______________________\n",
      "Average state ratio (state 2 to state 1): 3.0677204721449516\n"
     ]
    }
   ],
   "source": [
    "state_ratio_1 = check_state(\"/Users/zhongs/Desktop/Loic/Thesis_new/4_analysis/states/dialog1.csv\", 1, \"yes\", \"mono\")"
   ]
  },
  {
   "cell_type": "code",
   "execution_count": 197,
   "metadata": {},
   "outputs": [
    {
     "name": "stdout",
     "output_type": "stream",
     "text": [
      "Participant 1 state 2 to state 1 ratio: 6.4613686534216335\n",
      "Participant 2 state 2 to state 1 ratio: 4.395051875498803\n",
      "Participant 3 state 2 to state 1 ratio: 4.3679195341450505\n",
      "Participant 4 state 2 to state 1 ratio: 3.135821352095442\n",
      "Participant 5 state 2 to state 1 ratio: 2.729037952338923\n",
      "Participant 6 state 2 to state 1 ratio: 2.8063063063063063\n",
      "Participant 7 state 2 to state 1 ratio: 3.2653686677483322\n",
      "Participant 8 state 2 to state 1 ratio: 2.9001875090148563\n",
      "Participant 9 state 2 to state 1 ratio: 2.953730179360541\n",
      "Participant 10 state 2 to state 1 ratio: 2.842655752614825\n",
      "Participant 11 state 2 to state 1 ratio: 2.800470203414086\n",
      "Participant 12 state 2 to state 1 ratio: 2.94015931610647\n",
      "Participant 13 state 2 to state 1 ratio: 3.1688804554079697\n",
      "Participant 14 state 2 to state 1 ratio: 3.041335724656247\n",
      "Participant 15 state 2 to state 1 ratio: 3.135399673735726\n",
      "Participant 16 state 2 to state 1 ratio: 3.079046613365515\n",
      "Participant 17 state 2 to state 1 ratio: 3.093758905671131\n",
      "Participant 18 state 2 to state 1 ratio: 3.0310077519379846\n",
      "Participant 19 state 2 to state 1 ratio: 2.9191993164896863\n",
      "Participant 20 state 2 to state 1 ratio: 2.830679435598119\n",
      "Participant 21 state 2 to state 1 ratio: 2.7651177593889242\n",
      "Participant 22 state 2 to state 1 ratio: 2.659268736774765\n",
      "Participant 23 state 2 to state 1 ratio: 2.627963412357663\n",
      "Participant 24 state 2 to state 1 ratio: 2.6425684777727887\n",
      "Participant 25 state 2 to state 1 ratio: 2.685450104675506\n",
      "Participant 26 state 2 to state 1 ratio: 2.767792831418282\n",
      "Participant 27 state 2 to state 1 ratio: 2.762057877813505\n",
      "Participant 28 state 2 to state 1 ratio: 2.6639566395663956\n",
      "Participant 29 state 2 to state 1 ratio: 2.688984230928456\n",
      "Participant 30 state 2 to state 1 ratio: 2.673646837185711\n",
      "Participant 31 state 2 to state 1 ratio: 2.5683149434681924\n",
      "Participant 32 state 2 to state 1 ratio: 2.574946289869443\n",
      "Participant 33 state 2 to state 1 ratio: 2.5577812509967783\n",
      "Participant 34 state 2 to state 1 ratio: 2.51878502097431\n",
      "Participant 35 state 2 to state 1 ratio: 2.4653465346534653\n",
      "Participant 36 state 2 to state 1 ratio: 2.494342656941014\n",
      "Participant 37 state 2 to state 1 ratio: 2.4982796721586618\n",
      "Participant 38 state 2 to state 1 ratio: 2.492115280043502\n",
      "Participant 39 state 2 to state 1 ratio: 2.459479319756456\n",
      "Participant 40 state 2 to state 1 ratio: 2.464090804273745\n",
      "Participant 41 state 2 to state 1 ratio: 2.482959686337589\n",
      "Participant 42 state 2 to state 1 ratio: 2.5041469194312795\n",
      "_______________________\n",
      "Average state ratio (state 2 to state 1): 2.66563980615756\n"
     ]
    }
   ],
   "source": [
    "state_ratio_6 = check_state(\"/Users/zhongs/Desktop/Loic/Thesis_new/4_analysis/states/dialog6.csv\", 6, \"no\", \"mono\")"
   ]
  },
  {
   "cell_type": "code",
   "execution_count": 208,
   "metadata": {},
   "outputs": [],
   "source": [
    "states_all = state_ratio_1\n",
    "states_all = states_all.append(state_ratio_2, ignore_index=True)\n",
    "states_all = states_all.append(state_ratio_3, ignore_index=True)\n",
    "states_all = states_all.append(state_ratio_4, ignore_index=True)\n",
    "states_all = states_all.append(state_ratio_5, ignore_index=True)\n",
    "states_all = states_all.append(state_ratio_6, ignore_index=True)"
   ]
  },
  {
   "cell_type": "code",
   "execution_count": 209,
   "metadata": {},
   "outputs": [
    {
     "data": {
      "text/plain": [
       "array([1, 2, 3, 4, 5, 6], dtype=object)"
      ]
     },
     "execution_count": 209,
     "metadata": {},
     "output_type": "execute_result"
    }
   ],
   "source": [
    "states_all.dialog_id.unique()"
   ]
  },
  {
   "cell_type": "code",
   "execution_count": 211,
   "metadata": {},
   "outputs": [],
   "source": [
    "states_all.to_csv(\"/Users/zhongs/Desktop/Loic/Thesis_new/4_analysis/states/states_all.csv\")"
   ]
  },
  {
   "cell_type": "code",
   "execution_count": null,
   "metadata": {},
   "outputs": [],
   "source": []
  }
 ],
 "metadata": {
  "kernelspec": {
   "display_name": "Python 3",
   "language": "python",
   "name": "python3"
  },
  "language_info": {
   "codemirror_mode": {
    "name": "ipython",
    "version": 3
   },
   "file_extension": ".py",
   "mimetype": "text/x-python",
   "name": "python",
   "nbconvert_exporter": "python",
   "pygments_lexer": "ipython3",
   "version": "3.7.9"
  }
 },
 "nbformat": 4,
 "nbformat_minor": 4
}
